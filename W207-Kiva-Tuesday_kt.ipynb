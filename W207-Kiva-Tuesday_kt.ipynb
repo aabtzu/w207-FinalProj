{
 "cells": [
  {
   "cell_type": "markdown",
   "metadata": {},
   "source": [
    "# Kiva Crowdfunding"
   ]
  },
  {
   "cell_type": "markdown",
   "metadata": {},
   "source": [
    "*Kiva.org is an online crowdfunding platform to extend financial services to poor and financially excluded people around the world. Kiva lenders have provided over $1 billion dollars in loans to over 2 million people. In order to set investment priorities, help inform lenders, and understand their target communities, knowing the level of poverty of each borrower is critical. However, this requires inference based on a limited set of information for each borrower.*"
   ]
  },
  {
   "cell_type": "markdown",
   "metadata": {},
   "source": [
    "## Prediction and Models\n",
    "\n",
    "* Not all loan requests are funded (about 3383 records in loans dataset that are not funded). Is there a pattern among the loans not funded? [Clustering] \n",
    "\n",
    "^ Krysten: I think this is EDA; should we remove?\n",
    "\n",
    "\n",
    "* Predict if a loan request is likely to get funded or not [Logistic Regression] \n",
    "\n",
    "\n",
    "* Which loans get funded fastest by country [Linear Regression]\n",
    "\n",
    "\n",
    "* Time taken for Repayment -  Is this predictable based on Gender, Country/Region, Activity/Sector, Loan Amount etc. ? [Linear Regression]\n",
    "\n",
    "^ Krysten: not sure which columns we would use for \"Time Taken for Repayment\". Are we predicting which loans are re-paid most quickly? Which fields would tell us that? \n",
    "\n",
    "* Predict Loan Requests(Count/Amount) for a country/region based on past trends (year/month) [Linear Regression]\n",
    "\n",
    "\n",
    "* Estimate the poverty level of a borrower for a given country/region  [???]\n",
    "\n",
    "^ Krysten: Not sure about this one...sounds more like EDA to me\n"
   ]
  },
  {
   "cell_type": "code",
   "execution_count": 1,
   "metadata": {
    "scrolled": true
   },
   "outputs": [
    {
     "ename": "ModuleNotFoundError",
     "evalue": "No module named 'mpl_toolkits.basemap'",
     "output_type": "error",
     "traceback": [
      "\u001b[0;31m---------------------------------------------------------------------------\u001b[0m",
      "\u001b[0;31mModuleNotFoundError\u001b[0m                       Traceback (most recent call last)",
      "\u001b[0;32m<ipython-input-1-7a81cc038280>\u001b[0m in \u001b[0;36m<module>\u001b[0;34m()\u001b[0m\n\u001b[1;32m      9\u001b[0m \u001b[0;32mimport\u001b[0m \u001b[0mos\u001b[0m\u001b[0;34m\u001b[0m\u001b[0m\n\u001b[1;32m     10\u001b[0m \u001b[0;32mimport\u001b[0m \u001b[0mseaborn\u001b[0m \u001b[0;32mas\u001b[0m \u001b[0msns\u001b[0m\u001b[0;34m\u001b[0m\u001b[0m\n\u001b[0;32m---> 11\u001b[0;31m \u001b[0;32mfrom\u001b[0m \u001b[0mmpl_toolkits\u001b[0m\u001b[0;34m.\u001b[0m\u001b[0mbasemap\u001b[0m \u001b[0;32mimport\u001b[0m \u001b[0mBasemap\u001b[0m\u001b[0;34m\u001b[0m\u001b[0m\n\u001b[0m\u001b[1;32m     12\u001b[0m \u001b[0mcolor\u001b[0m \u001b[0;34m=\u001b[0m \u001b[0msns\u001b[0m\u001b[0;34m.\u001b[0m\u001b[0mcolor_palette\u001b[0m\u001b[0;34m(\u001b[0m\u001b[0;34m)\u001b[0m\u001b[0;34m\u001b[0m\u001b[0m\n\u001b[1;32m     13\u001b[0m \u001b[0;32mimport\u001b[0m \u001b[0mplotly\u001b[0m\u001b[0;34m\u001b[0m\u001b[0m\n",
      "\u001b[0;31mModuleNotFoundError\u001b[0m: No module named 'mpl_toolkits.basemap'"
     ]
    }
   ],
   "source": [
    "%matplotlib inline\n",
    "\n",
    "# General libraries.\n",
    "import re\n",
    "import math\n",
    "import numpy as np\n",
    "import matplotlib.pyplot as plt\n",
    "import pandas as pd\n",
    "import os\n",
    "import seaborn as sns\n",
    "from mpl_toolkits.basemap import Basemap\n",
    "color = sns.color_palette()\n",
    "import plotly\n",
    "plotly.offline.init_notebook_mode(connected=True)\n",
    "import plotly.offline as py\n"
   ]
  },
  {
   "cell_type": "code",
   "execution_count": null,
   "metadata": {},
   "outputs": [],
   "source": [
    "os.getcwd()"
   ]
  },
  {
   "cell_type": "markdown",
   "metadata": {},
   "source": [
    "## EDA"
   ]
  },
  {
   "cell_type": "markdown",
   "metadata": {},
   "source": [
    "### Kiva Loans"
   ]
  },
  {
   "cell_type": "code",
   "execution_count": null,
   "metadata": {},
   "outputs": [],
   "source": [
    "df_kiva_loans = pd.read_csv(\"kiva_loans.csv\")\n",
    "df_kiva_loans.head()\n",
    "df_kiva_loans.describe(include = 'all')"
   ]
  },
  {
   "cell_type": "code",
   "execution_count": null,
   "metadata": {},
   "outputs": [],
   "source": [
    "df_kiva_loans.describe()"
   ]
  },
  {
   "cell_type": "code",
   "execution_count": null,
   "metadata": {},
   "outputs": [],
   "source": [
    "# Distribution of Loan Amount\n",
    "plt.figure(figsize=(12,8))\n",
    "sns.distplot(np.log(df_kiva_loans.loan_amount.values), bins=50, kde=False)\n",
    "plt.xlabel('loan_amount_trunc', fontsize=12)\n",
    "plt.title(\"Log Loan Amount Histogram\")\n",
    "plt.show()"
   ]
  },
  {
   "cell_type": "code",
   "execution_count": null,
   "metadata": {},
   "outputs": [],
   "source": [
    "plt.scatter(range(df_kiva_loans.shape[0]), np.sort(df_kiva_loans.funded_amount.values))"
   ]
  },
  {
   "cell_type": "code",
   "execution_count": null,
   "metadata": {},
   "outputs": [],
   "source": [
    "# Correlation Heatmap for Kiva Loans dataset\n",
    "corr_loan = df_kiva_loans.corr()\n",
    "plt.figure(figsize=(10,10))\n",
    "sns.heatmap(corr_loan, \n",
    "            xticklabels=corr_loan.columns.values,\n",
    "            yticklabels=corr_loan.columns.values, cmap=\"YlGnBu\",annot=True,square=True)\n",
    "plt.title('Correlation - Loan Data')\n",
    "corr_loan"
   ]
  },
  {
   "cell_type": "markdown",
   "metadata": {},
   "source": [
    "** OBSERVATION: Funded Amount, Loan Amount and Lender Count are highly correlated**\n"
   ]
  },
  {
   "cell_type": "code",
   "execution_count": null,
   "metadata": {},
   "outputs": [],
   "source": [
    "# Identify rows with no funding (Funding amount = 0)\n",
    "df_nofund = df_kiva_loans[(df_kiva_loans['funded_amount']==0)]\n",
    "df_nofund.shape"
   ]
  },
  {
   "cell_type": "markdown",
   "metadata": {},
   "source": [
    "\n",
    " **OBSERVATION: There are about 3383 rows with funded amount = 0**  <font size=\"4\">$\\color{red}{\\text{Is there any pattern among loans that are not funded?}}$ </font>\n"
   ]
  },
  {
   "cell_type": "code",
   "execution_count": null,
   "metadata": {},
   "outputs": [],
   "source": [
    "# Plot side by side - Top Countries based on Loan Amount & Top Countries not getting funds\n",
    "plt.subplot(1, 2, 1)\n",
    "df_kiva_loans['country'].value_counts().head(10).plot(kind='bar', title =\"Top 10 Countries getting Loan\", figsize=(15, 10), legend=True, fontsize=12)\n",
    "plt.subplot(1, 2, 2)\n",
    "df_nofund['country'].value_counts().head(10).plot(kind='bar', title =\"Top Countries with Loan Amount NOT FUNDED\", figsize=(15, 10), legend=True, fontsize=12, color = 'DarkGreen')"
   ]
  },
  {
   "cell_type": "markdown",
   "metadata": {},
   "source": [
    "**OBSERVATION: Philippines, Kenya and El Salvador are the top 3 countries featuring in Loans dataset.  United States, Kenya and Pakistan are the countries top countries with loan amount not funded**"
   ]
  },
  {
   "cell_type": "code",
   "execution_count": null,
   "metadata": {},
   "outputs": [],
   "source": [
    "# Plot side by side - Top Sectors based on Loan Amount & Top Sectors not getting funds\n",
    "plt.subplot(1, 2, 1)\n",
    "df_kiva_loans['sector'].value_counts().head(10).plot(kind='bar', title =\"Top 10 Sectors based on Loan Amount\", figsize=(15, 10), legend=True, fontsize=12)\n",
    "plt.subplot(1, 2, 2)\n",
    "df_nofund['sector'].value_counts().head(10).plot(kind='bar', title =\"Top 10 Sectors not getting Funding\", figsize=(15, 10), legend=True, fontsize=12, color = 'DarkGreen')"
   ]
  },
  {
   "cell_type": "markdown",
   "metadata": {},
   "source": [
    "**OBSERVATION: Agriculture, Food and Retail are the top 3 sectors based on Loan Amount.  And these are the top 3 that are not getting funds **"
   ]
  },
  {
   "cell_type": "code",
   "execution_count": null,
   "metadata": {},
   "outputs": [],
   "source": [
    "# Plot side by side - Top Activities based on Loan Amount & Top Activities not getting funds\n",
    "plt.subplot(1, 2, 1)\n",
    "df_kiva_loans['activity'].value_counts().head(10).plot(kind='bar', title =\"Top 10 Activities based on Loan Amount\", figsize=(15, 10), legend=True, fontsize=12)\n",
    "plt.subplot(1, 2, 2)\n",
    "df_nofund['activity'].value_counts().head(10).plot(kind='bar', title =\"Top 10 Activities not getting Funding\", figsize=(15, 10), legend=True, fontsize=12, color = 'DarkGreen')"
   ]
  },
  {
   "cell_type": "markdown",
   "metadata": {},
   "source": [
    "** OBSERVATION: Farming is the top activity based on Loan Amount, followed by General Store and Personal Housing Expenses**"
   ]
  },
  {
   "cell_type": "code",
   "execution_count": null,
   "metadata": {},
   "outputs": [],
   "source": [
    "# Plot side by side - Top Uses based on Loan Amount & Top Uses not getting funds\n",
    "plt.subplot(1, 2, 1)\n",
    "df_kiva_loans['use'].value_counts().head(10).plot(kind='bar', title =\"Top 10 Uses based on Loan Amount\", figsize=(15, 10), legend=True, fontsize=12)\n",
    "plt.subplot(1, 2, 2)\n",
    "df_nofund['use'].value_counts().head(10).plot(kind='bar', title =\"Top 10 Used not getting Funding\", figsize=(15, 10), legend=True, fontsize=12, color = 'DarkGreen')"
   ]
  },
  {
   "cell_type": "code",
   "execution_count": null,
   "metadata": {},
   "outputs": [],
   "source": [
    "# Plot Loan Amount by Sector  \n",
    "plt.figure(figsize=(16,16))\n",
    "sns.boxplot(df_kiva_loans['sector'], np.log(df_kiva_loans.loan_amount.values))\n"
   ]
  },
  {
   "cell_type": "code",
   "execution_count": null,
   "metadata": {},
   "outputs": [],
   "source": [
    "#Loan Count - Split by Gender\n",
    "df_kiva_loans['borrower_genders']=[elem if elem in ['female','male'] else 'Other' for elem in df_kiva_loans['borrower_genders'] ]\n",
    "\n",
    "df_kiva_loans['borrower_genders'].value_counts().head(3).plot(kind='pie', title =\"Loan by Gender\", figsize=(15, 10), legend=True, fontsize=12)"
   ]
  },
  {
   "cell_type": "markdown",
   "metadata": {},
   "source": [
    "** OBSERVATION: There are more Female borrowers than male **"
   ]
  },
  {
   "cell_type": "code",
   "execution_count": null,
   "metadata": {},
   "outputs": [],
   "source": [
    "# Determine Time Taken for Funding. It is Loan Posted Time - Funded Time\n",
    "\n",
    "df_funded = df_kiva_loans[(df_kiva_loans['funded_amount']!=0)]\n",
    "df_funded.dropna()\n",
    "df_funded.shape\n",
    "\n",
    "df_funded['funded_time'] = pd.to_datetime(df_funded['funded_time'])\n",
    "df_funded['posted_time'] = pd.to_datetime(df_funded['posted_time'])    \n",
    "time_to_fund = (df_funded.funded_time - df_funded.posted_time)\n",
    "time_to_fund_in_days = (time_to_fund.astype('timedelta64[s]')/(3600 * 24))\n",
    "df_funded = df_funded.assign(time_to_fund=time_to_fund)\n",
    "df_funded = df_funded.assign(time_to_fund_in_days=time_to_fund_in_days)\n",
    "df_funded.time_to_fund_in_days.plot.hist();"
   ]
  },
  {
   "cell_type": "code",
   "execution_count": null,
   "metadata": {},
   "outputs": [],
   "source": [
    "# Funded Amount vs. Term\n",
    "plt.scatter(df_kiva_loans['funded_amount'], df_kiva_loans['term_in_months'])\n",
    "plt.xlabel('Funded Amount')\n",
    "plt.ylabel('Term in Months')\n",
    "plt.title('Scatter Plot of Funded Amount and Term')"
   ]
  },
  {
   "cell_type": "code",
   "execution_count": null,
   "metadata": {},
   "outputs": [],
   "source": [
    "countries_funded_amount = df_kiva_loans.groupby('country').mean()['funded_amount'].sort_values(ascending = False)\n",
    "print(\"Top Countries with funded amount (Mean values)\\n\",countries_funded_amount.head(10))"
   ]
  },
  {
   "cell_type": "code",
   "execution_count": null,
   "metadata": {},
   "outputs": [],
   "source": [
    "data = [dict(\n",
    "        type='choropleth',\n",
    "        locations= countries_funded_amount.index,\n",
    "        locationmode='country names',\n",
    "        z=countries_funded_amount.values,\n",
    "        text=countries_funded_amount.index,\n",
    "        colorscale='Red',\n",
    "        marker=dict(line=dict(width=0.7)),\n",
    "        colorbar=dict(autotick=False, tickprefix='', title='Top Countries with funded_amount(Mean value)'),\n",
    ")]\n",
    "layout = dict(title = 'Top Countries based on Funded amount',\n",
    "             geo = dict(\n",
    "            showframe = False,\n",
    "            #showcoastlines = False,\n",
    "            projection = dict(\n",
    "                type = 'Mercatorodes'\n",
    "            )\n",
    "        ),)\n",
    "fig = dict(data=data, layout=layout)\n",
    "py.iplot(fig, validate=False)"
   ]
  },
  {
   "cell_type": "markdown",
   "metadata": {},
   "source": [
    "**OBSERVATION: Cote D'Ivoire, Mauritania, Bhutan got top funding**   "
   ]
  },
  {
   "cell_type": "code",
   "execution_count": null,
   "metadata": {},
   "outputs": [],
   "source": [
    "df_funded\n",
    "funded_time = df_funded.groupby('country').mean()['time_to_fund_in_days'].sort_values(ascending = False)\n",
    "print(\"Top Countries with max funded_time(Mean values)\\n\",funded_time.head(10))"
   ]
  },
  {
   "cell_type": "code",
   "execution_count": null,
   "metadata": {},
   "outputs": [],
   "source": [
    "data = [dict(\n",
    "        type='choropleth',\n",
    "        locations= funded_time.index,\n",
    "        locationmode='country names',\n",
    "        z=funded_time.values,\n",
    "        text=funded_time.index,\n",
    "        colorscale='Red',\n",
    "        marker=dict(line=dict(width=0.7)),\n",
    "        colorbar=dict(autotick=False, tickprefix='', title='Top Countries - Funded Time(Mean value)'),\n",
    ")]\n",
    "layout = dict(title = 'Top Countries - Funded Time',\n",
    "             geo = dict(\n",
    "            showframe = False,\n",
    "            #showcoastlines = False,\n",
    "            projection = dict(\n",
    "                type = 'Mercatorodes'\n",
    "            )\n",
    "        ),)\n",
    "fig = dict(data=data, layout=layout)\n",
    "py.iplot(fig, validate=False)\n"
   ]
  },
  {
   "cell_type": "markdown",
   "metadata": {},
   "source": [
    "**OBSERVATION: US, Puerto Rico, Vanuata take longer time for funding**"
   ]
  },
  {
   "cell_type": "markdown",
   "metadata": {},
   "source": [
    "## MPI Region/Location"
   ]
  },
  {
   "cell_type": "code",
   "execution_count": null,
   "metadata": {},
   "outputs": [],
   "source": [
    "df_region = pd.read_csv(\"kiva_mpi_region_locations.csv\")\n",
    "df_region.head()"
   ]
  },
  {
   "cell_type": "code",
   "execution_count": null,
   "metadata": {},
   "outputs": [],
   "source": [
    "df_region['world_region'].unique()"
   ]
  },
  {
   "cell_type": "code",
   "execution_count": null,
   "metadata": {},
   "outputs": [],
   "source": [
    "m=Basemap(llcrnrlon=-160, llcrnrlat=-75,urcrnrlon=160,urcrnrlat=80)\n",
    "m.drawmapboundary(fill_color='#A6CAE0', linewidth=0)\n",
    "m.fillcontinents(color='grey', alpha=0.7, lake_color='grey')\n",
    "m.drawcoastlines(linewidth=0.1, color=\"white\")\n",
    " \n",
    "# Add a marker per city of the data frame!\n",
    "m.plot(df_region['lat'], df_region['lon'], linestyle='none', marker=\"o\", markersize=16, alpha=0.6, c=\"orange\", markeredgecolor=\"black\", markeredgewidth=1)"
   ]
  },
  {
   "cell_type": "code",
   "execution_count": null,
   "metadata": {},
   "outputs": [],
   "source": [
    "mpi_region = df_region.groupby('world_region').mean()['MPI'].sort_values(ascending = False)\n",
    "print(\"Top Countries with High MPI(Mean values)\\n\",mpi_region.head(10))\n",
    "mpi_region.plot(kind = 'bar')"
   ]
  },
  {
   "cell_type": "markdown",
   "metadata": {},
   "source": [
    "** OBSERVATION: As expected, Africa has the HIGHEST Poverty followed by South Asia **"
   ]
  },
  {
   "cell_type": "markdown",
   "metadata": {},
   "source": [
    "## Loan Theme"
   ]
  },
  {
   "cell_type": "code",
   "execution_count": null,
   "metadata": {},
   "outputs": [],
   "source": [
    "df_theme = pd.read_csv(\"loan_theme_ids.csv\")\n",
    "df_theme.head()"
   ]
  },
  {
   "cell_type": "code",
   "execution_count": null,
   "metadata": {},
   "outputs": [],
   "source": [
    "df_theme['Loan Theme Type'].unique()"
   ]
  },
  {
   "cell_type": "code",
   "execution_count": null,
   "metadata": {},
   "outputs": [],
   "source": [
    "df_theme_reg = pd.read_csv(\"loan_themes_by_region.csv\")\n",
    "df_theme_reg"
   ]
  },
  {
   "cell_type": "code",
   "execution_count": null,
   "metadata": {},
   "outputs": [],
   "source": []
  }
 ],
 "metadata": {
  "kernelspec": {
   "display_name": "Python 3",
   "language": "python",
   "name": "python3"
  },
  "language_info": {
   "codemirror_mode": {
    "name": "ipython",
    "version": 3
   },
   "file_extension": ".py",
   "mimetype": "text/x-python",
   "name": "python",
   "nbconvert_exporter": "python",
   "pygments_lexer": "ipython3",
   "version": "3.6.5"
  }
 },
 "nbformat": 4,
 "nbformat_minor": 2
}
