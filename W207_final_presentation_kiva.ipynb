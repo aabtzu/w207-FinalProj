{
 "cells": [
  {
   "cell_type": "markdown",
   "metadata": {},
   "source": [
    "# Kiva Crowdfunding - Loans that change Lives"
   ]
  },
  {
   "cell_type": "markdown",
   "metadata": {},
   "source": [
    "*Kiva is an international nonprofit organization with a mission to connect people through lending to alleviate poverty. Kiva.org is an online crowdfunding platform to extend financial services to poor and financially excluded people around the world. Kiva lenders have provided over $1 billion dollars in loans to over 2 million people.*"
   ]
  },
  {
   "cell_type": "markdown",
   "metadata": {},
   "source": [
    "## Project Goal\n",
    "\n",
    "** Not all loans requested through KIVA are funded (about 3383 records in loans dataset that are not funded). In this project, we are trying to identify if a pattern exists among loans that are not getting funded. Our goal is to predict if a Loan is likely to get fully funded or not. As part of this analysis we determine the features that are of the highest importance to get a loan funded.**"
   ]
  },
  {
   "cell_type": "markdown",
   "metadata": {},
   "source": [
    "In this notebook, we present three different perspective based on each of our analysis while achieving our common goal to predict if a loan is likely to get funded or not."
   ]
  },
  {
   "cell_type": "code",
   "execution_count": 1,
   "metadata": {
    "scrolled": true
   },
   "outputs": [
    {
     "data": {
      "text/html": [
       "<script type=\"text/javascript\">window.PlotlyConfig = {MathJaxConfig: 'local'};</script><script type=\"text/javascript\">if (window.MathJax) {MathJax.Hub.Config({SVG: {font: \"STIX-Web\"}});}</script><script>requirejs.config({paths: { 'plotly': ['https://cdn.plot.ly/plotly-latest.min']},});if(!window._Plotly) {require(['plotly'],function(plotly) {window._Plotly=plotly;});}</script>"
      ],
      "text/vnd.plotly.v1+html": [
       "<script type=\"text/javascript\">window.PlotlyConfig = {MathJaxConfig: 'local'};</script><script type=\"text/javascript\">if (window.MathJax) {MathJax.Hub.Config({SVG: {font: \"STIX-Web\"}});}</script><script>requirejs.config({paths: { 'plotly': ['https://cdn.plot.ly/plotly-latest.min']},});if(!window._Plotly) {require(['plotly'],function(plotly) {window._Plotly=plotly;});}</script>"
      ]
     },
     "metadata": {},
     "output_type": "display_data"
    },
    {
     "name": "stderr",
     "output_type": "stream",
     "text": [
      "C:\\Users\\Amrit\\New_Version_Anaconda\\lib\\site-packages\\sklearn\\ensemble\\weight_boosting.py:29: DeprecationWarning:\n",
      "\n",
      "numpy.core.umath_tests is an internal NumPy module and should not be imported. It will be removed in a future NumPy release.\n",
      "\n"
     ]
    }
   ],
   "source": [
    "%matplotlib inline\n",
    "\n",
    "# General libraries.\n",
    "import re\n",
    "import math\n",
    "import numpy as np\n",
    "import collections\n",
    "import matplotlib.pyplot as plt\n",
    "import pandas as pd\n",
    "import os\n",
    "import seaborn as sns\n",
    "from mpl_toolkits.basemap import Basemap\n",
    "color = sns.color_palette()\n",
    "import plotly\n",
    "plotly.offline.init_notebook_mode(connected=True)\n",
    "import plotly.offline as py\n",
    "from sklearn import datasets\n",
    "from sklearn import metrics\n",
    "from sklearn.preprocessing import StandardScaler\n",
    "from sklearn import cluster, mixture # For clustering \n",
    "from sklearn.cluster import KMeans\n",
    "from sklearn.decomposition import PCA\n",
    "from sklearn.mixture import GaussianMixture as GMM\n",
    "from sklearn.model_selection import train_test_split \n",
    "from sklearn.linear_model import LinearRegression\n",
    "from sklearn.metrics import silhouette_samples, silhouette_score, confusion_matrix, classification_report\n",
    "from sklearn.ensemble import RandomForestClassifier\n",
    "from sklearn.linear_model import LogisticRegression\n",
    "from sklearn import feature_selection\n",
    "from sklearn.model_selection import GridSearchCV\n",
    "\n",
    "from sklearn.tree import DecisionTreeClassifier\n",
    "from sklearn.metrics import accuracy_score\n",
    "from sklearn import tree\n",
    "\n",
    "# For producing decision tree diagrams.\n",
    "from IPython.core.display import Image, display\n",
    "from sklearn.externals.six import StringIO\n",
    "import pydot\n",
    "import graphviz\n",
    "\n",
    "import warnings\n",
    "warnings.filterwarnings('ignore')\n",
    "warnings.filterwarnings(\"ignore\", category=DeprecationWarning) "
   ]
  },
  {
   "cell_type": "markdown",
   "metadata": {},
   "source": [
    "## VERSION # 1"
   ]
  },
  {
   "cell_type": "markdown",
   "metadata": {},
   "source": [
    "## 1a: Data Loading"
   ]
  },
  {
   "cell_type": "code",
   "execution_count": 2,
   "metadata": {},
   "outputs": [
    {
     "data": {
      "text/html": [
       "<div>\n",
       "<style>\n",
       "    .dataframe thead tr:only-child th {\n",
       "        text-align: right;\n",
       "    }\n",
       "\n",
       "    .dataframe thead th {\n",
       "        text-align: left;\n",
       "    }\n",
       "\n",
       "    .dataframe tbody tr th {\n",
       "        vertical-align: top;\n",
       "    }\n",
       "</style>\n",
       "<table border=\"1\" class=\"dataframe\">\n",
       "  <thead>\n",
       "    <tr style=\"text-align: right;\">\n",
       "      <th></th>\n",
       "      <th>id</th>\n",
       "      <th>funded_amount</th>\n",
       "      <th>loan_amount</th>\n",
       "      <th>activity</th>\n",
       "      <th>sector</th>\n",
       "      <th>use</th>\n",
       "      <th>country_code</th>\n",
       "      <th>country</th>\n",
       "      <th>region</th>\n",
       "      <th>currency</th>\n",
       "      <th>partner_id</th>\n",
       "      <th>posted_time</th>\n",
       "      <th>disbursed_time</th>\n",
       "      <th>funded_time</th>\n",
       "      <th>term_in_months</th>\n",
       "      <th>lender_count</th>\n",
       "      <th>tags</th>\n",
       "      <th>borrower_genders</th>\n",
       "      <th>repayment_interval</th>\n",
       "      <th>date</th>\n",
       "    </tr>\n",
       "  </thead>\n",
       "  <tbody>\n",
       "    <tr>\n",
       "      <th>0</th>\n",
       "      <td>653051</td>\n",
       "      <td>300.0</td>\n",
       "      <td>300.0</td>\n",
       "      <td>Fruits &amp; Vegetables</td>\n",
       "      <td>Food</td>\n",
       "      <td>To buy seasonal, fresh fruits to sell.</td>\n",
       "      <td>PK</td>\n",
       "      <td>Pakistan</td>\n",
       "      <td>Lahore</td>\n",
       "      <td>PKR</td>\n",
       "      <td>247.0</td>\n",
       "      <td>2014-01-01 06:12:39+00:00</td>\n",
       "      <td>2013-12-17 08:00:00+00:00</td>\n",
       "      <td>2014-01-02 10:06:32+00:00</td>\n",
       "      <td>12.0</td>\n",
       "      <td>12</td>\n",
       "      <td>NaN</td>\n",
       "      <td>female</td>\n",
       "      <td>irregular</td>\n",
       "      <td>2014-01-01</td>\n",
       "    </tr>\n",
       "    <tr>\n",
       "      <th>1</th>\n",
       "      <td>653053</td>\n",
       "      <td>575.0</td>\n",
       "      <td>575.0</td>\n",
       "      <td>Rickshaw</td>\n",
       "      <td>Transportation</td>\n",
       "      <td>to repair and maintain the auto rickshaw used ...</td>\n",
       "      <td>PK</td>\n",
       "      <td>Pakistan</td>\n",
       "      <td>Lahore</td>\n",
       "      <td>PKR</td>\n",
       "      <td>247.0</td>\n",
       "      <td>2014-01-01 06:51:08+00:00</td>\n",
       "      <td>2013-12-17 08:00:00+00:00</td>\n",
       "      <td>2014-01-02 09:17:23+00:00</td>\n",
       "      <td>11.0</td>\n",
       "      <td>14</td>\n",
       "      <td>NaN</td>\n",
       "      <td>female, female</td>\n",
       "      <td>irregular</td>\n",
       "      <td>2014-01-01</td>\n",
       "    </tr>\n",
       "    <tr>\n",
       "      <th>2</th>\n",
       "      <td>653068</td>\n",
       "      <td>150.0</td>\n",
       "      <td>150.0</td>\n",
       "      <td>Transportation</td>\n",
       "      <td>Transportation</td>\n",
       "      <td>To repair their old cycle-van and buy another ...</td>\n",
       "      <td>IN</td>\n",
       "      <td>India</td>\n",
       "      <td>Maynaguri</td>\n",
       "      <td>INR</td>\n",
       "      <td>334.0</td>\n",
       "      <td>2014-01-01 09:58:07+00:00</td>\n",
       "      <td>2013-12-17 08:00:00+00:00</td>\n",
       "      <td>2014-01-01 16:01:36+00:00</td>\n",
       "      <td>43.0</td>\n",
       "      <td>6</td>\n",
       "      <td>user_favorite, user_favorite</td>\n",
       "      <td>female</td>\n",
       "      <td>bullet</td>\n",
       "      <td>2014-01-01</td>\n",
       "    </tr>\n",
       "    <tr>\n",
       "      <th>3</th>\n",
       "      <td>653063</td>\n",
       "      <td>200.0</td>\n",
       "      <td>200.0</td>\n",
       "      <td>Embroidery</td>\n",
       "      <td>Arts</td>\n",
       "      <td>to purchase an embroidery machine and a variet...</td>\n",
       "      <td>PK</td>\n",
       "      <td>Pakistan</td>\n",
       "      <td>Lahore</td>\n",
       "      <td>PKR</td>\n",
       "      <td>247.0</td>\n",
       "      <td>2014-01-01 08:03:11+00:00</td>\n",
       "      <td>2013-12-24 08:00:00+00:00</td>\n",
       "      <td>2014-01-01 13:00:00+00:00</td>\n",
       "      <td>11.0</td>\n",
       "      <td>8</td>\n",
       "      <td>NaN</td>\n",
       "      <td>female</td>\n",
       "      <td>irregular</td>\n",
       "      <td>2014-01-01</td>\n",
       "    </tr>\n",
       "    <tr>\n",
       "      <th>4</th>\n",
       "      <td>653084</td>\n",
       "      <td>400.0</td>\n",
       "      <td>400.0</td>\n",
       "      <td>Milk Sales</td>\n",
       "      <td>Food</td>\n",
       "      <td>to purchase one buffalo.</td>\n",
       "      <td>PK</td>\n",
       "      <td>Pakistan</td>\n",
       "      <td>Abdul Hakeem</td>\n",
       "      <td>PKR</td>\n",
       "      <td>245.0</td>\n",
       "      <td>2014-01-01 11:53:19+00:00</td>\n",
       "      <td>2013-12-17 08:00:00+00:00</td>\n",
       "      <td>2014-01-01 19:18:51+00:00</td>\n",
       "      <td>14.0</td>\n",
       "      <td>16</td>\n",
       "      <td>NaN</td>\n",
       "      <td>female</td>\n",
       "      <td>monthly</td>\n",
       "      <td>2014-01-01</td>\n",
       "    </tr>\n",
       "  </tbody>\n",
       "</table>\n",
       "</div>"
      ],
      "text/plain": [
       "       id  funded_amount  loan_amount             activity          sector  \\\n",
       "0  653051          300.0        300.0  Fruits & Vegetables            Food   \n",
       "1  653053          575.0        575.0             Rickshaw  Transportation   \n",
       "2  653068          150.0        150.0       Transportation  Transportation   \n",
       "3  653063          200.0        200.0           Embroidery            Arts   \n",
       "4  653084          400.0        400.0           Milk Sales            Food   \n",
       "\n",
       "                                                 use country_code   country  \\\n",
       "0            To buy seasonal, fresh fruits to sell.            PK  Pakistan   \n",
       "1  to repair and maintain the auto rickshaw used ...           PK  Pakistan   \n",
       "2  To repair their old cycle-van and buy another ...           IN     India   \n",
       "3  to purchase an embroidery machine and a variet...           PK  Pakistan   \n",
       "4                           to purchase one buffalo.           PK  Pakistan   \n",
       "\n",
       "         region currency  partner_id                posted_time  \\\n",
       "0        Lahore      PKR       247.0  2014-01-01 06:12:39+00:00   \n",
       "1        Lahore      PKR       247.0  2014-01-01 06:51:08+00:00   \n",
       "2     Maynaguri      INR       334.0  2014-01-01 09:58:07+00:00   \n",
       "3        Lahore      PKR       247.0  2014-01-01 08:03:11+00:00   \n",
       "4  Abdul Hakeem      PKR       245.0  2014-01-01 11:53:19+00:00   \n",
       "\n",
       "              disbursed_time                funded_time  term_in_months  \\\n",
       "0  2013-12-17 08:00:00+00:00  2014-01-02 10:06:32+00:00            12.0   \n",
       "1  2013-12-17 08:00:00+00:00  2014-01-02 09:17:23+00:00            11.0   \n",
       "2  2013-12-17 08:00:00+00:00  2014-01-01 16:01:36+00:00            43.0   \n",
       "3  2013-12-24 08:00:00+00:00  2014-01-01 13:00:00+00:00            11.0   \n",
       "4  2013-12-17 08:00:00+00:00  2014-01-01 19:18:51+00:00            14.0   \n",
       "\n",
       "   lender_count                          tags borrower_genders  \\\n",
       "0            12                           NaN           female   \n",
       "1            14                           NaN   female, female   \n",
       "2             6  user_favorite, user_favorite           female   \n",
       "3             8                           NaN           female   \n",
       "4            16                           NaN           female   \n",
       "\n",
       "  repayment_interval        date  \n",
       "0          irregular  2014-01-01  \n",
       "1          irregular  2014-01-01  \n",
       "2             bullet  2014-01-01  \n",
       "3          irregular  2014-01-01  \n",
       "4            monthly  2014-01-01  "
      ]
     },
     "execution_count": 2,
     "metadata": {},
     "output_type": "execute_result"
    }
   ],
   "source": [
    "df_kiva_loans = pd.read_csv(\"kiva_loans.csv\")\n",
    "df_kiva_loans.head()"
   ]
  },
  {
   "cell_type": "markdown",
   "metadata": {},
   "source": [
    "## 1b: EDA"
   ]
  },
  {
   "cell_type": "code",
   "execution_count": 3,
   "metadata": {},
   "outputs": [
    {
     "data": {
      "text/plain": [
       "(3383, 20)"
      ]
     },
     "execution_count": 3,
     "metadata": {},
     "output_type": "execute_result"
    }
   ],
   "source": [
    "# Identify rows with no funding (Funding amount = 0)\n",
    "df_nofund = df_kiva_loans[(df_kiva_loans['funded_amount']==0)]\n",
    "df_nofund.shape"
   ]
  },
  {
   "cell_type": "markdown",
   "metadata": {},
   "source": [
    "\n",
    " **There are about 3383 rows with funded amount = 0**  "
   ]
  },
  {
   "cell_type": "markdown",
   "metadata": {},
   "source": [
    "** MORE OBSERVATIONS **"
   ]
  },
  {
   "cell_type": "markdown",
   "metadata": {},
   "source": [
    "- Philippines, Kenya and El Salvador are the top 3 countries featuring in Loans dataset based on the number of records  \n",
    "- United States, Kenya and Pakistan are the countries top countries with loan amount not funded\n",
    "- Agriculture, Food and Retail are the top 3 sectors based on Loan Amount\n",
    "- Farming is the top activity based on Loan Amount, followed by General Store and Personal Housing Expenses\n",
    "- There are more Female borrowers than male\n",
    "\n",
    "NOTE: The EDA charts related to these observations have not been included since focus of this project is on the models. "
   ]
  },
  {
   "cell_type": "code",
   "execution_count": 4,
   "metadata": {},
   "outputs": [
    {
     "name": "stdout",
     "output_type": "stream",
     "text": [
      "Top Countries with funded amount (Mean values)\n",
      " country\n",
      "Cote D'Ivoire         50000.000000\n",
      "Mauritania            15000.000000\n",
      "Bhutan                 7812.500000\n",
      "Chile                  7625.000000\n",
      "Afghanistan            7000.000000\n",
      "Congo                  6142.578125\n",
      "Puerto Rico            4409.191176\n",
      "Dominican Republic     4200.604839\n",
      "Namibia                4046.875000\n",
      "United States          3800.843591\n",
      "Name: funded_amount, dtype: float64\n"
     ]
    },
    {
     "data": {
      "application/vnd.plotly.v1+json": {
       "data": [
        {
         "colorbar": {
          "autotick": false,
          "tickprefix": "",
          "title": "Top Countries with funded_amount(Mean value)"
         },
         "colorscale": "Red",
         "locationmode": "country names",
         "locations": [
          "Cote D'Ivoire",
          "Mauritania",
          "Bhutan",
          "Chile",
          "Afghanistan",
          "Congo",
          "Puerto Rico",
          "Dominican Republic",
          "Namibia",
          "United States",
          "Israel",
          "The Democratic Republic of the Congo",
          "Saint Vincent and the Grenadines",
          "Somalia",
          "Burundi",
          "China",
          "Iraq",
          "Paraguay",
          "Suriname",
          "Thailand",
          "Brazil",
          "Vanuatu",
          "Rwanda",
          "Senegal",
          "Bolivia",
          "Moldova",
          "Mongolia",
          "Mexico",
          "Myanmar (Burma)",
          "Ukraine",
          "South Africa",
          "Guatemala",
          "Palestine",
          "Zambia",
          "Panama",
          "Georgia",
          "Azerbaijan",
          "Peru",
          "Lebanon",
          "Armenia",
          "Costa Rica",
          "Albania",
          "Vietnam",
          "Mali",
          "Kosovo",
          "Tanzania",
          "Malawi",
          "Burkina Faso",
          "Kyrgyzstan",
          "Ghana",
          "Ecuador",
          "Jordan",
          "Benin",
          "Belize",
          "Solomon Islands",
          "Timor-Leste",
          "Honduras",
          "Lesotho",
          "Nicaragua",
          "Zimbabwe",
          "Lao People's Democratic Republic",
          "Yemen",
          "Samoa",
          "South Sudan",
          "Haiti",
          "Indonesia",
          "Sierra Leone",
          "Tajikistan",
          "Uganda",
          "Egypt",
          "El Salvador",
          "India",
          "Colombia",
          "Mozambique",
          "Cambodia",
          "Pakistan",
          "Turkey",
          "Nepal",
          "Kenya",
          "Guam",
          "Cameroon",
          "Philippines",
          "Madagascar",
          "Liberia",
          "Togo",
          "Nigeria",
          "Virgin Islands"
         ],
         "marker": {
          "line": {
           "width": 0.7
          }
         },
         "text": [
          "Cote D'Ivoire",
          "Mauritania",
          "Bhutan",
          "Chile",
          "Afghanistan",
          "Congo",
          "Puerto Rico",
          "Dominican Republic",
          "Namibia",
          "United States",
          "Israel",
          "The Democratic Republic of the Congo",
          "Saint Vincent and the Grenadines",
          "Somalia",
          "Burundi",
          "China",
          "Iraq",
          "Paraguay",
          "Suriname",
          "Thailand",
          "Brazil",
          "Vanuatu",
          "Rwanda",
          "Senegal",
          "Bolivia",
          "Moldova",
          "Mongolia",
          "Mexico",
          "Myanmar (Burma)",
          "Ukraine",
          "South Africa",
          "Guatemala",
          "Palestine",
          "Zambia",
          "Panama",
          "Georgia",
          "Azerbaijan",
          "Peru",
          "Lebanon",
          "Armenia",
          "Costa Rica",
          "Albania",
          "Vietnam",
          "Mali",
          "Kosovo",
          "Tanzania",
          "Malawi",
          "Burkina Faso",
          "Kyrgyzstan",
          "Ghana",
          "Ecuador",
          "Jordan",
          "Benin",
          "Belize",
          "Solomon Islands",
          "Timor-Leste",
          "Honduras",
          "Lesotho",
          "Nicaragua",
          "Zimbabwe",
          "Lao People's Democratic Republic",
          "Yemen",
          "Samoa",
          "South Sudan",
          "Haiti",
          "Indonesia",
          "Sierra Leone",
          "Tajikistan",
          "Uganda",
          "Egypt",
          "El Salvador",
          "India",
          "Colombia",
          "Mozambique",
          "Cambodia",
          "Pakistan",
          "Turkey",
          "Nepal",
          "Kenya",
          "Guam",
          "Cameroon",
          "Philippines",
          "Madagascar",
          "Liberia",
          "Togo",
          "Nigeria",
          "Virgin Islands"
         ],
         "type": "choropleth",
         "z": [
          50000,
          15000,
          7812.5,
          7625,
          7000,
          6142.578125,
          4409.191176470588,
          4200.604838709677,
          4046.875,
          3800.8435910060725,
          3786.5789473684213,
          3586.1617312072894,
          3076.5625,
          3011.6666666666665,
          2907.443181818182,
          2787.126865671642,
          2629.6324269889224,
          2471.032512811896,
          2423.654708520179,
          2351.9444444444443,
          2327.5528169014083,
          2312.5,
          2302.242019302153,
          2086.165494034873,
          2075.4258460140813,
          1973.7068965517242,
          1650.8298755186722,
          1635.8169308482843,
          1623.4491978609626,
          1621.3395638629283,
          1518.584656084656,
          1495.8926128590972,
          1473.2490510591404,
          1464.2219387755101,
          1415.9326424870467,
          1398.7131589871317,
          1387.956298200514,
          1367.1052039760716,
          1314.4165150136487,
          1296.1041594253272,
          1291.175528507367,
          1287.4870734229576,
          1259.9557318085401,
          1256.3413164633228,
          1253.417899929528,
          1248.9126269400267,
          1221.590909090909,
          1182.9166666666667,
          1165.3186698995496,
          1095.6732967535436,
          1079.720434879077,
          1062.0410367170625,
          1039.8893360160966,
          912.2,
          891.471119133574,
          865.0185873605948,
          864.4082659752936,
          851.9549763033175,
          836.4633732280791,
          836.074615765989,
          780.9051144010767,
          771.3251188932123,
          762.8211195240671,
          755.625,
          732.3037589828634,
          731.7388155777277,
          731.4958448753463,
          703.8700204290092,
          686.5042959079657,
          661.9432580841977,
          585.7736677115987,
          575.496128860016,
          567.1186633325756,
          550.9115704852139,
          540.1624755999541,
          464.20300107979295,
          436.6559013505578,
          429.044630404463,
          425.3004286185295,
          395,
          392.60089686098655,
          339.5414825387526,
          320.22376341271917,
          317.28001086366106,
          258.6188902417812,
          187.97602604577742,
          0
         ]
        }
       ],
       "layout": {
        "geo": {
         "projection": {
          "type": "Mercatorodes"
         },
         "showframe": false
        },
        "title": "Countries based on Funded amount"
       }
      },
      "text/html": [
       "<div id=\"3a90f5da-f8c6-4a90-a3f1-e9c82efcce8e\" style=\"height: 525px; width: 100%;\" class=\"plotly-graph-div\"></div><script type=\"text/javascript\">require([\"plotly\"], function(Plotly) { window.PLOTLYENV=window.PLOTLYENV || {};window.PLOTLYENV.BASE_URL=\"https://plot.ly\";Plotly.newPlot(\"3a90f5da-f8c6-4a90-a3f1-e9c82efcce8e\", [{\"type\": \"choropleth\", \"locations\": [\"Cote D'Ivoire\", \"Mauritania\", \"Bhutan\", \"Chile\", \"Afghanistan\", \"Congo\", \"Puerto Rico\", \"Dominican Republic\", \"Namibia\", \"United States\", \"Israel\", \"The Democratic Republic of the Congo\", \"Saint Vincent and the Grenadines\", \"Somalia\", \"Burundi\", \"China\", \"Iraq\", \"Paraguay\", \"Suriname\", \"Thailand\", \"Brazil\", \"Vanuatu\", \"Rwanda\", \"Senegal\", \"Bolivia\", \"Moldova\", \"Mongolia\", \"Mexico\", \"Myanmar (Burma)\", \"Ukraine\", \"South Africa\", \"Guatemala\", \"Palestine\", \"Zambia\", \"Panama\", \"Georgia\", \"Azerbaijan\", \"Peru\", \"Lebanon\", \"Armenia\", \"Costa Rica\", \"Albania\", \"Vietnam\", \"Mali\", \"Kosovo\", \"Tanzania\", \"Malawi\", \"Burkina Faso\", \"Kyrgyzstan\", \"Ghana\", \"Ecuador\", \"Jordan\", \"Benin\", \"Belize\", \"Solomon Islands\", \"Timor-Leste\", \"Honduras\", \"Lesotho\", \"Nicaragua\", \"Zimbabwe\", \"Lao People's Democratic Republic\", \"Yemen\", \"Samoa\", \"South Sudan\", \"Haiti\", \"Indonesia\", \"Sierra Leone\", \"Tajikistan\", \"Uganda\", \"Egypt\", \"El Salvador\", \"India\", \"Colombia\", \"Mozambique\", \"Cambodia\", \"Pakistan\", \"Turkey\", \"Nepal\", \"Kenya\", \"Guam\", \"Cameroon\", \"Philippines\", \"Madagascar\", \"Liberia\", \"Togo\", \"Nigeria\", \"Virgin Islands\"], \"locationmode\": \"country names\", \"z\": [50000.0, 15000.0, 7812.5, 7625.0, 7000.0, 6142.578125, 4409.191176470588, 4200.604838709677, 4046.875, 3800.8435910060725, 3786.5789473684213, 3586.1617312072894, 3076.5625, 3011.6666666666665, 2907.443181818182, 2787.126865671642, 2629.6324269889224, 2471.032512811896, 2423.654708520179, 2351.9444444444443, 2327.5528169014083, 2312.5, 2302.242019302153, 2086.165494034873, 2075.4258460140813, 1973.7068965517242, 1650.8298755186722, 1635.8169308482843, 1623.4491978609626, 1621.3395638629283, 1518.584656084656, 1495.8926128590972, 1473.2490510591404, 1464.2219387755101, 1415.9326424870467, 1398.7131589871317, 1387.956298200514, 1367.1052039760716, 1314.4165150136487, 1296.1041594253272, 1291.175528507367, 1287.4870734229576, 1259.9557318085401, 1256.3413164633228, 1253.417899929528, 1248.9126269400267, 1221.590909090909, 1182.9166666666667, 1165.3186698995496, 1095.6732967535436, 1079.720434879077, 1062.0410367170625, 1039.8893360160966, 912.2, 891.471119133574, 865.0185873605948, 864.4082659752936, 851.9549763033175, 836.4633732280791, 836.074615765989, 780.9051144010767, 771.3251188932123, 762.8211195240671, 755.625, 732.3037589828634, 731.7388155777277, 731.4958448753463, 703.8700204290092, 686.5042959079657, 661.9432580841977, 585.7736677115987, 575.496128860016, 567.1186633325756, 550.9115704852139, 540.1624755999541, 464.20300107979295, 436.6559013505578, 429.044630404463, 425.3004286185295, 395.0, 392.60089686098655, 339.5414825387526, 320.22376341271917, 317.28001086366106, 258.6188902417812, 187.97602604577742, 0.0], \"text\": [\"Cote D'Ivoire\", \"Mauritania\", \"Bhutan\", \"Chile\", \"Afghanistan\", \"Congo\", \"Puerto Rico\", \"Dominican Republic\", \"Namibia\", \"United States\", \"Israel\", \"The Democratic Republic of the Congo\", \"Saint Vincent and the Grenadines\", \"Somalia\", \"Burundi\", \"China\", \"Iraq\", \"Paraguay\", \"Suriname\", \"Thailand\", \"Brazil\", \"Vanuatu\", \"Rwanda\", \"Senegal\", \"Bolivia\", \"Moldova\", \"Mongolia\", \"Mexico\", \"Myanmar (Burma)\", \"Ukraine\", \"South Africa\", \"Guatemala\", \"Palestine\", \"Zambia\", \"Panama\", \"Georgia\", \"Azerbaijan\", \"Peru\", \"Lebanon\", \"Armenia\", \"Costa Rica\", \"Albania\", \"Vietnam\", \"Mali\", \"Kosovo\", \"Tanzania\", \"Malawi\", \"Burkina Faso\", \"Kyrgyzstan\", \"Ghana\", \"Ecuador\", \"Jordan\", \"Benin\", \"Belize\", \"Solomon Islands\", \"Timor-Leste\", \"Honduras\", \"Lesotho\", \"Nicaragua\", \"Zimbabwe\", \"Lao People's Democratic Republic\", \"Yemen\", \"Samoa\", \"South Sudan\", \"Haiti\", \"Indonesia\", \"Sierra Leone\", \"Tajikistan\", \"Uganda\", \"Egypt\", \"El Salvador\", \"India\", \"Colombia\", \"Mozambique\", \"Cambodia\", \"Pakistan\", \"Turkey\", \"Nepal\", \"Kenya\", \"Guam\", \"Cameroon\", \"Philippines\", \"Madagascar\", \"Liberia\", \"Togo\", \"Nigeria\", \"Virgin Islands\"], \"colorscale\": \"Red\", \"marker\": {\"line\": {\"width\": 0.7}}, \"colorbar\": {\"autotick\": false, \"tickprefix\": \"\", \"title\": \"Top Countries with funded_amount(Mean value)\"}}], {\"title\": \"Countries based on Funded amount\", \"geo\": {\"showframe\": false, \"projection\": {\"type\": \"Mercatorodes\"}}}, {\"showLink\": true, \"linkText\": \"Export to plot.ly\"})});</script><script type=\"text/javascript\">window.addEventListener(\"resize\", function(){window._Plotly.Plots.resize(document.getElementById(\"3a90f5da-f8c6-4a90-a3f1-e9c82efcce8e\"));});</script>"
      ],
      "text/vnd.plotly.v1+html": [
       "<div id=\"3a90f5da-f8c6-4a90-a3f1-e9c82efcce8e\" style=\"height: 525px; width: 100%;\" class=\"plotly-graph-div\"></div><script type=\"text/javascript\">require([\"plotly\"], function(Plotly) { window.PLOTLYENV=window.PLOTLYENV || {};window.PLOTLYENV.BASE_URL=\"https://plot.ly\";Plotly.newPlot(\"3a90f5da-f8c6-4a90-a3f1-e9c82efcce8e\", [{\"type\": \"choropleth\", \"locations\": [\"Cote D'Ivoire\", \"Mauritania\", \"Bhutan\", \"Chile\", \"Afghanistan\", \"Congo\", \"Puerto Rico\", \"Dominican Republic\", \"Namibia\", \"United States\", \"Israel\", \"The Democratic Republic of the Congo\", \"Saint Vincent and the Grenadines\", \"Somalia\", \"Burundi\", \"China\", \"Iraq\", \"Paraguay\", \"Suriname\", \"Thailand\", \"Brazil\", \"Vanuatu\", \"Rwanda\", \"Senegal\", \"Bolivia\", \"Moldova\", \"Mongolia\", \"Mexico\", \"Myanmar (Burma)\", \"Ukraine\", \"South Africa\", \"Guatemala\", \"Palestine\", \"Zambia\", \"Panama\", \"Georgia\", \"Azerbaijan\", \"Peru\", \"Lebanon\", \"Armenia\", \"Costa Rica\", \"Albania\", \"Vietnam\", \"Mali\", \"Kosovo\", \"Tanzania\", \"Malawi\", \"Burkina Faso\", \"Kyrgyzstan\", \"Ghana\", \"Ecuador\", \"Jordan\", \"Benin\", \"Belize\", \"Solomon Islands\", \"Timor-Leste\", \"Honduras\", \"Lesotho\", \"Nicaragua\", \"Zimbabwe\", \"Lao People's Democratic Republic\", \"Yemen\", \"Samoa\", \"South Sudan\", \"Haiti\", \"Indonesia\", \"Sierra Leone\", \"Tajikistan\", \"Uganda\", \"Egypt\", \"El Salvador\", \"India\", \"Colombia\", \"Mozambique\", \"Cambodia\", \"Pakistan\", \"Turkey\", \"Nepal\", \"Kenya\", \"Guam\", \"Cameroon\", \"Philippines\", \"Madagascar\", \"Liberia\", \"Togo\", \"Nigeria\", \"Virgin Islands\"], \"locationmode\": \"country names\", \"z\": [50000.0, 15000.0, 7812.5, 7625.0, 7000.0, 6142.578125, 4409.191176470588, 4200.604838709677, 4046.875, 3800.8435910060725, 3786.5789473684213, 3586.1617312072894, 3076.5625, 3011.6666666666665, 2907.443181818182, 2787.126865671642, 2629.6324269889224, 2471.032512811896, 2423.654708520179, 2351.9444444444443, 2327.5528169014083, 2312.5, 2302.242019302153, 2086.165494034873, 2075.4258460140813, 1973.7068965517242, 1650.8298755186722, 1635.8169308482843, 1623.4491978609626, 1621.3395638629283, 1518.584656084656, 1495.8926128590972, 1473.2490510591404, 1464.2219387755101, 1415.9326424870467, 1398.7131589871317, 1387.956298200514, 1367.1052039760716, 1314.4165150136487, 1296.1041594253272, 1291.175528507367, 1287.4870734229576, 1259.9557318085401, 1256.3413164633228, 1253.417899929528, 1248.9126269400267, 1221.590909090909, 1182.9166666666667, 1165.3186698995496, 1095.6732967535436, 1079.720434879077, 1062.0410367170625, 1039.8893360160966, 912.2, 891.471119133574, 865.0185873605948, 864.4082659752936, 851.9549763033175, 836.4633732280791, 836.074615765989, 780.9051144010767, 771.3251188932123, 762.8211195240671, 755.625, 732.3037589828634, 731.7388155777277, 731.4958448753463, 703.8700204290092, 686.5042959079657, 661.9432580841977, 585.7736677115987, 575.496128860016, 567.1186633325756, 550.9115704852139, 540.1624755999541, 464.20300107979295, 436.6559013505578, 429.044630404463, 425.3004286185295, 395.0, 392.60089686098655, 339.5414825387526, 320.22376341271917, 317.28001086366106, 258.6188902417812, 187.97602604577742, 0.0], \"text\": [\"Cote D'Ivoire\", \"Mauritania\", \"Bhutan\", \"Chile\", \"Afghanistan\", \"Congo\", \"Puerto Rico\", \"Dominican Republic\", \"Namibia\", \"United States\", \"Israel\", \"The Democratic Republic of the Congo\", \"Saint Vincent and the Grenadines\", \"Somalia\", \"Burundi\", \"China\", \"Iraq\", \"Paraguay\", \"Suriname\", \"Thailand\", \"Brazil\", \"Vanuatu\", \"Rwanda\", \"Senegal\", \"Bolivia\", \"Moldova\", \"Mongolia\", \"Mexico\", \"Myanmar (Burma)\", \"Ukraine\", \"South Africa\", \"Guatemala\", \"Palestine\", \"Zambia\", \"Panama\", \"Georgia\", \"Azerbaijan\", \"Peru\", \"Lebanon\", \"Armenia\", \"Costa Rica\", \"Albania\", \"Vietnam\", \"Mali\", \"Kosovo\", \"Tanzania\", \"Malawi\", \"Burkina Faso\", \"Kyrgyzstan\", \"Ghana\", \"Ecuador\", \"Jordan\", \"Benin\", \"Belize\", \"Solomon Islands\", \"Timor-Leste\", \"Honduras\", \"Lesotho\", \"Nicaragua\", \"Zimbabwe\", \"Lao People's Democratic Republic\", \"Yemen\", \"Samoa\", \"South Sudan\", \"Haiti\", \"Indonesia\", \"Sierra Leone\", \"Tajikistan\", \"Uganda\", \"Egypt\", \"El Salvador\", \"India\", \"Colombia\", \"Mozambique\", \"Cambodia\", \"Pakistan\", \"Turkey\", \"Nepal\", \"Kenya\", \"Guam\", \"Cameroon\", \"Philippines\", \"Madagascar\", \"Liberia\", \"Togo\", \"Nigeria\", \"Virgin Islands\"], \"colorscale\": \"Red\", \"marker\": {\"line\": {\"width\": 0.7}}, \"colorbar\": {\"autotick\": false, \"tickprefix\": \"\", \"title\": \"Top Countries with funded_amount(Mean value)\"}}], {\"title\": \"Countries based on Funded amount\", \"geo\": {\"showframe\": false, \"projection\": {\"type\": \"Mercatorodes\"}}}, {\"showLink\": true, \"linkText\": \"Export to plot.ly\"})});</script><script type=\"text/javascript\">window.addEventListener(\"resize\", function(){window._Plotly.Plots.resize(document.getElementById(\"3a90f5da-f8c6-4a90-a3f1-e9c82efcce8e\"));});</script>"
      ]
     },
     "metadata": {},
     "output_type": "display_data"
    }
   ],
   "source": [
    "countries_funded_amount = df_kiva_loans.groupby('country').mean()['funded_amount'].sort_values(ascending = False)\n",
    "print(\"Top Countries with funded amount (Mean values)\\n\",countries_funded_amount.head(10))\n",
    "data = [dict(\n",
    "        type='choropleth',\n",
    "        locations= countries_funded_amount.index,\n",
    "        locationmode='country names',\n",
    "        z=countries_funded_amount.values,\n",
    "        text=countries_funded_amount.index,\n",
    "        colorscale='Red',\n",
    "        marker=dict(line=dict(width=0.7)),\n",
    "        colorbar=dict(autotick=False, tickprefix='', title='Top Countries with funded_amount(Mean value)'),\n",
    ")]\n",
    "layout = dict(title = 'Countries based on Funded amount',\n",
    "             geo = dict(\n",
    "            showframe = False,\n",
    "            #showcoastlines = False,\n",
    "            projection = dict(\n",
    "                type = 'Mercatorodes'\n",
    "            )\n",
    "        ),)\n",
    "fig = dict(data=data, layout=layout)\n",
    "py.iplot(fig, validate=False)"
   ]
  },
  {
   "cell_type": "code",
   "execution_count": 5,
   "metadata": {},
   "outputs": [
    {
     "name": "stdout",
     "output_type": "stream",
     "text": [
      "Top Countries with max funded_time(Mean values)\n",
      " country\n",
      "United States    39.544380\n",
      "Puerto Rico      38.112630\n",
      "Vanuatu          35.963452\n",
      "El Salvador      22.054165\n",
      "Azerbaijan       21.930762\n",
      "Bolivia          21.458772\n",
      "Georgia          20.976522\n",
      "Armenia          20.607393\n",
      "Colombia         20.366121\n",
      "Kenya            20.161696\n",
      "Name: time_to_fund_in_days, dtype: float64\n"
     ]
    },
    {
     "data": {
      "application/vnd.plotly.v1+json": {
       "data": [
        {
         "colorbar": {
          "autotick": false,
          "tickprefix": "",
          "title": "Countries based on Funded Time"
         },
         "colorscale": "Red",
         "locationmode": "country names",
         "locations": [
          "United States",
          "Puerto Rico",
          "Vanuatu",
          "El Salvador",
          "Azerbaijan",
          "Bolivia",
          "Georgia",
          "Armenia",
          "Colombia",
          "Kenya",
          "Mozambique",
          "Honduras",
          "Benin",
          "Burundi",
          "Kyrgyzstan",
          "Pakistan",
          "Suriname",
          "Senegal",
          "Kosovo",
          "Tajikistan",
          "Nicaragua",
          "Albania",
          "Myanmar (Burma)",
          "Costa Rica",
          "Samoa",
          "The Democratic Republic of the Congo",
          "Guatemala",
          "Bhutan",
          "Mali",
          "Rwanda",
          "Jordan",
          "Palestine",
          "Lebanon",
          "Sierra Leone",
          "Dominican Republic",
          "Vietnam",
          "Yemen",
          "Uganda",
          "Mongolia",
          "Zambia",
          "Timor-Leste",
          "Indonesia",
          "Tanzania",
          "Nigeria",
          "Cameroon",
          "Ghana",
          "Ukraine",
          "Zimbabwe",
          "Peru",
          "Mexico",
          "Ecuador",
          "Moldova",
          "Saint Vincent and the Grenadines",
          "Namibia",
          "Burkina Faso",
          "Cambodia",
          "Iraq",
          "India",
          "Haiti",
          "Paraguay",
          "Egypt",
          "Israel",
          "Philippines",
          "Brazil",
          "Madagascar",
          "Cote D'Ivoire",
          "Thailand",
          "Togo",
          "South Africa",
          "Malawi",
          "Congo",
          "Lesotho",
          "Solomon Islands",
          "Liberia",
          "China",
          "Panama",
          "Somalia",
          "South Sudan",
          "Lao People's Democratic Republic",
          "Chile",
          "Turkey",
          "Belize",
          "Nepal",
          "Mauritania",
          "Afghanistan",
          "Guam"
         ],
         "marker": {
          "line": {
           "width": 0.7
          }
         },
         "text": [
          "United States",
          "Puerto Rico",
          "Vanuatu",
          "El Salvador",
          "Azerbaijan",
          "Bolivia",
          "Georgia",
          "Armenia",
          "Colombia",
          "Kenya",
          "Mozambique",
          "Honduras",
          "Benin",
          "Burundi",
          "Kyrgyzstan",
          "Pakistan",
          "Suriname",
          "Senegal",
          "Kosovo",
          "Tajikistan",
          "Nicaragua",
          "Albania",
          "Myanmar (Burma)",
          "Costa Rica",
          "Samoa",
          "The Democratic Republic of the Congo",
          "Guatemala",
          "Bhutan",
          "Mali",
          "Rwanda",
          "Jordan",
          "Palestine",
          "Lebanon",
          "Sierra Leone",
          "Dominican Republic",
          "Vietnam",
          "Yemen",
          "Uganda",
          "Mongolia",
          "Zambia",
          "Timor-Leste",
          "Indonesia",
          "Tanzania",
          "Nigeria",
          "Cameroon",
          "Ghana",
          "Ukraine",
          "Zimbabwe",
          "Peru",
          "Mexico",
          "Ecuador",
          "Moldova",
          "Saint Vincent and the Grenadines",
          "Namibia",
          "Burkina Faso",
          "Cambodia",
          "Iraq",
          "India",
          "Haiti",
          "Paraguay",
          "Egypt",
          "Israel",
          "Philippines",
          "Brazil",
          "Madagascar",
          "Cote D'Ivoire",
          "Thailand",
          "Togo",
          "South Africa",
          "Malawi",
          "Congo",
          "Lesotho",
          "Solomon Islands",
          "Liberia",
          "China",
          "Panama",
          "Somalia",
          "South Sudan",
          "Lao People's Democratic Republic",
          "Chile",
          "Turkey",
          "Belize",
          "Nepal",
          "Mauritania",
          "Afghanistan",
          "Guam"
         ],
         "type": "choropleth",
         "z": [
          39.544379906789004,
          38.11262954059829,
          35.96345196759259,
          22.054165304927487,
          21.930762002272406,
          21.458772453183233,
          20.976521640875124,
          20.607392921958862,
          20.366121445174606,
          20.16169644788298,
          19.591623619428706,
          19.48493478122429,
          19.435593006624522,
          19.350997776861007,
          18.740950898370862,
          18.433326594639812,
          18.365537698412698,
          18.356821534946523,
          18.262576654523357,
          18.241089448596234,
          18.181199029537275,
          17.371667725643537,
          17.149385583067087,
          16.924667809464434,
          16.917196739865254,
          16.286214097552694,
          16.190830835796817,
          16.09929398148148,
          15.622203806089042,
          15.167064357692261,
          15.040111597198045,
          15.032780117767597,
          15.028480604631639,
          15.011017922438775,
          14.656272267246116,
          14.368665933329632,
          14.267449506689411,
          14.213783968756296,
          14.20256006500293,
          13.806514796910156,
          13.617022901410374,
          13.47437095720136,
          13.41675495224366,
          13.193298269095118,
          13.115443587517804,
          12.945043946981034,
          12.875962285144245,
          12.734252646752738,
          12.403214882980729,
          12.243986091548086,
          12.195079288243758,
          11.935847018180787,
          11.881797598379631,
          11.809020543981482,
          11.781625543302392,
          10.894337524335178,
          10.801359811107297,
          10.739604488292537,
          10.718128444897264,
          10.49286347590035,
          10.141008087384261,
          10.127180433723199,
          9.846077103130348,
          9.646803298200686,
          9.578178943998873,
          9.501597222222221,
          9.47810818849576,
          9.374126782559832,
          8.838908301489326,
          7.924727338428077,
          7.665016276041667,
          7.468920841012811,
          7.363984467636181,
          7.356759658587345,
          7.329100355054304,
          7.24865374928037,
          7.027889351851853,
          6.580884765624999,
          6.265067672822863,
          5.67221579218107,
          5.4992320921465,
          5.203528425925929,
          4.970291805490991,
          2.9006944444444445,
          0.6963541666666666,
          null
         ]
        }
       ],
       "layout": {
        "geo": {
         "projection": {
          "type": "Mercatorodes"
         },
         "showframe": false
        },
        "title": "Top Countries - Funded Time"
       }
      },
      "text/html": [
       "<div id=\"246e5136-ac02-4443-bd99-31adb45e13f9\" style=\"height: 525px; width: 100%;\" class=\"plotly-graph-div\"></div><script type=\"text/javascript\">require([\"plotly\"], function(Plotly) { window.PLOTLYENV=window.PLOTLYENV || {};window.PLOTLYENV.BASE_URL=\"https://plot.ly\";Plotly.newPlot(\"246e5136-ac02-4443-bd99-31adb45e13f9\", [{\"type\": \"choropleth\", \"locations\": [\"United States\", \"Puerto Rico\", \"Vanuatu\", \"El Salvador\", \"Azerbaijan\", \"Bolivia\", \"Georgia\", \"Armenia\", \"Colombia\", \"Kenya\", \"Mozambique\", \"Honduras\", \"Benin\", \"Burundi\", \"Kyrgyzstan\", \"Pakistan\", \"Suriname\", \"Senegal\", \"Kosovo\", \"Tajikistan\", \"Nicaragua\", \"Albania\", \"Myanmar (Burma)\", \"Costa Rica\", \"Samoa\", \"The Democratic Republic of the Congo\", \"Guatemala\", \"Bhutan\", \"Mali\", \"Rwanda\", \"Jordan\", \"Palestine\", \"Lebanon\", \"Sierra Leone\", \"Dominican Republic\", \"Vietnam\", \"Yemen\", \"Uganda\", \"Mongolia\", \"Zambia\", \"Timor-Leste\", \"Indonesia\", \"Tanzania\", \"Nigeria\", \"Cameroon\", \"Ghana\", \"Ukraine\", \"Zimbabwe\", \"Peru\", \"Mexico\", \"Ecuador\", \"Moldova\", \"Saint Vincent and the Grenadines\", \"Namibia\", \"Burkina Faso\", \"Cambodia\", \"Iraq\", \"India\", \"Haiti\", \"Paraguay\", \"Egypt\", \"Israel\", \"Philippines\", \"Brazil\", \"Madagascar\", \"Cote D'Ivoire\", \"Thailand\", \"Togo\", \"South Africa\", \"Malawi\", \"Congo\", \"Lesotho\", \"Solomon Islands\", \"Liberia\", \"China\", \"Panama\", \"Somalia\", \"South Sudan\", \"Lao People's Democratic Republic\", \"Chile\", \"Turkey\", \"Belize\", \"Nepal\", \"Mauritania\", \"Afghanistan\", \"Guam\"], \"locationmode\": \"country names\", \"z\": [39.544379906789004, 38.11262954059829, 35.96345196759259, 22.054165304927487, 21.930762002272406, 21.458772453183233, 20.976521640875124, 20.607392921958862, 20.366121445174606, 20.16169644788298, 19.591623619428706, 19.48493478122429, 19.435593006624522, 19.350997776861007, 18.740950898370862, 18.433326594639812, 18.365537698412698, 18.356821534946523, 18.262576654523357, 18.241089448596234, 18.181199029537275, 17.371667725643537, 17.149385583067087, 16.924667809464434, 16.917196739865254, 16.286214097552694, 16.190830835796817, 16.09929398148148, 15.622203806089042, 15.167064357692261, 15.040111597198045, 15.032780117767597, 15.028480604631639, 15.011017922438775, 14.656272267246116, 14.368665933329632, 14.267449506689411, 14.213783968756296, 14.20256006500293, 13.806514796910156, 13.617022901410374, 13.47437095720136, 13.41675495224366, 13.193298269095118, 13.115443587517804, 12.945043946981034, 12.875962285144245, 12.734252646752738, 12.403214882980729, 12.243986091548086, 12.195079288243758, 11.935847018180787, 11.881797598379631, 11.809020543981482, 11.781625543302392, 10.894337524335178, 10.801359811107297, 10.739604488292537, 10.718128444897264, 10.49286347590035, 10.141008087384261, 10.127180433723199, 9.846077103130348, 9.646803298200686, 9.578178943998873, 9.501597222222221, 9.47810818849576, 9.374126782559832, 8.838908301489326, 7.924727338428077, 7.665016276041667, 7.468920841012811, 7.363984467636181, 7.356759658587345, 7.329100355054304, 7.24865374928037, 7.027889351851853, 6.580884765624999, 6.265067672822863, 5.67221579218107, 5.4992320921465, 5.203528425925929, 4.970291805490991, 2.9006944444444445, 0.6963541666666666, null], \"text\": [\"United States\", \"Puerto Rico\", \"Vanuatu\", \"El Salvador\", \"Azerbaijan\", \"Bolivia\", \"Georgia\", \"Armenia\", \"Colombia\", \"Kenya\", \"Mozambique\", \"Honduras\", \"Benin\", \"Burundi\", \"Kyrgyzstan\", \"Pakistan\", \"Suriname\", \"Senegal\", \"Kosovo\", \"Tajikistan\", \"Nicaragua\", \"Albania\", \"Myanmar (Burma)\", \"Costa Rica\", \"Samoa\", \"The Democratic Republic of the Congo\", \"Guatemala\", \"Bhutan\", \"Mali\", \"Rwanda\", \"Jordan\", \"Palestine\", \"Lebanon\", \"Sierra Leone\", \"Dominican Republic\", \"Vietnam\", \"Yemen\", \"Uganda\", \"Mongolia\", \"Zambia\", \"Timor-Leste\", \"Indonesia\", \"Tanzania\", \"Nigeria\", \"Cameroon\", \"Ghana\", \"Ukraine\", \"Zimbabwe\", \"Peru\", \"Mexico\", \"Ecuador\", \"Moldova\", \"Saint Vincent and the Grenadines\", \"Namibia\", \"Burkina Faso\", \"Cambodia\", \"Iraq\", \"India\", \"Haiti\", \"Paraguay\", \"Egypt\", \"Israel\", \"Philippines\", \"Brazil\", \"Madagascar\", \"Cote D'Ivoire\", \"Thailand\", \"Togo\", \"South Africa\", \"Malawi\", \"Congo\", \"Lesotho\", \"Solomon Islands\", \"Liberia\", \"China\", \"Panama\", \"Somalia\", \"South Sudan\", \"Lao People's Democratic Republic\", \"Chile\", \"Turkey\", \"Belize\", \"Nepal\", \"Mauritania\", \"Afghanistan\", \"Guam\"], \"colorscale\": \"Red\", \"marker\": {\"line\": {\"width\": 0.7}}, \"colorbar\": {\"autotick\": false, \"tickprefix\": \"\", \"title\": \"Countries based on Funded Time\"}}], {\"title\": \"Top Countries - Funded Time\", \"geo\": {\"showframe\": false, \"projection\": {\"type\": \"Mercatorodes\"}}}, {\"showLink\": true, \"linkText\": \"Export to plot.ly\"})});</script><script type=\"text/javascript\">window.addEventListener(\"resize\", function(){window._Plotly.Plots.resize(document.getElementById(\"246e5136-ac02-4443-bd99-31adb45e13f9\"));});</script>"
      ],
      "text/vnd.plotly.v1+html": [
       "<div id=\"246e5136-ac02-4443-bd99-31adb45e13f9\" style=\"height: 525px; width: 100%;\" class=\"plotly-graph-div\"></div><script type=\"text/javascript\">require([\"plotly\"], function(Plotly) { window.PLOTLYENV=window.PLOTLYENV || {};window.PLOTLYENV.BASE_URL=\"https://plot.ly\";Plotly.newPlot(\"246e5136-ac02-4443-bd99-31adb45e13f9\", [{\"type\": \"choropleth\", \"locations\": [\"United States\", \"Puerto Rico\", \"Vanuatu\", \"El Salvador\", \"Azerbaijan\", \"Bolivia\", \"Georgia\", \"Armenia\", \"Colombia\", \"Kenya\", \"Mozambique\", \"Honduras\", \"Benin\", \"Burundi\", \"Kyrgyzstan\", \"Pakistan\", \"Suriname\", \"Senegal\", \"Kosovo\", \"Tajikistan\", \"Nicaragua\", \"Albania\", \"Myanmar (Burma)\", \"Costa Rica\", \"Samoa\", \"The Democratic Republic of the Congo\", \"Guatemala\", \"Bhutan\", \"Mali\", \"Rwanda\", \"Jordan\", \"Palestine\", \"Lebanon\", \"Sierra Leone\", \"Dominican Republic\", \"Vietnam\", \"Yemen\", \"Uganda\", \"Mongolia\", \"Zambia\", \"Timor-Leste\", \"Indonesia\", \"Tanzania\", \"Nigeria\", \"Cameroon\", \"Ghana\", \"Ukraine\", \"Zimbabwe\", \"Peru\", \"Mexico\", \"Ecuador\", \"Moldova\", \"Saint Vincent and the Grenadines\", \"Namibia\", \"Burkina Faso\", \"Cambodia\", \"Iraq\", \"India\", \"Haiti\", \"Paraguay\", \"Egypt\", \"Israel\", \"Philippines\", \"Brazil\", \"Madagascar\", \"Cote D'Ivoire\", \"Thailand\", \"Togo\", \"South Africa\", \"Malawi\", \"Congo\", \"Lesotho\", \"Solomon Islands\", \"Liberia\", \"China\", \"Panama\", \"Somalia\", \"South Sudan\", \"Lao People's Democratic Republic\", \"Chile\", \"Turkey\", \"Belize\", \"Nepal\", \"Mauritania\", \"Afghanistan\", \"Guam\"], \"locationmode\": \"country names\", \"z\": [39.544379906789004, 38.11262954059829, 35.96345196759259, 22.054165304927487, 21.930762002272406, 21.458772453183233, 20.976521640875124, 20.607392921958862, 20.366121445174606, 20.16169644788298, 19.591623619428706, 19.48493478122429, 19.435593006624522, 19.350997776861007, 18.740950898370862, 18.433326594639812, 18.365537698412698, 18.356821534946523, 18.262576654523357, 18.241089448596234, 18.181199029537275, 17.371667725643537, 17.149385583067087, 16.924667809464434, 16.917196739865254, 16.286214097552694, 16.190830835796817, 16.09929398148148, 15.622203806089042, 15.167064357692261, 15.040111597198045, 15.032780117767597, 15.028480604631639, 15.011017922438775, 14.656272267246116, 14.368665933329632, 14.267449506689411, 14.213783968756296, 14.20256006500293, 13.806514796910156, 13.617022901410374, 13.47437095720136, 13.41675495224366, 13.193298269095118, 13.115443587517804, 12.945043946981034, 12.875962285144245, 12.734252646752738, 12.403214882980729, 12.243986091548086, 12.195079288243758, 11.935847018180787, 11.881797598379631, 11.809020543981482, 11.781625543302392, 10.894337524335178, 10.801359811107297, 10.739604488292537, 10.718128444897264, 10.49286347590035, 10.141008087384261, 10.127180433723199, 9.846077103130348, 9.646803298200686, 9.578178943998873, 9.501597222222221, 9.47810818849576, 9.374126782559832, 8.838908301489326, 7.924727338428077, 7.665016276041667, 7.468920841012811, 7.363984467636181, 7.356759658587345, 7.329100355054304, 7.24865374928037, 7.027889351851853, 6.580884765624999, 6.265067672822863, 5.67221579218107, 5.4992320921465, 5.203528425925929, 4.970291805490991, 2.9006944444444445, 0.6963541666666666, null], \"text\": [\"United States\", \"Puerto Rico\", \"Vanuatu\", \"El Salvador\", \"Azerbaijan\", \"Bolivia\", \"Georgia\", \"Armenia\", \"Colombia\", \"Kenya\", \"Mozambique\", \"Honduras\", \"Benin\", \"Burundi\", \"Kyrgyzstan\", \"Pakistan\", \"Suriname\", \"Senegal\", \"Kosovo\", \"Tajikistan\", \"Nicaragua\", \"Albania\", \"Myanmar (Burma)\", \"Costa Rica\", \"Samoa\", \"The Democratic Republic of the Congo\", \"Guatemala\", \"Bhutan\", \"Mali\", \"Rwanda\", \"Jordan\", \"Palestine\", \"Lebanon\", \"Sierra Leone\", \"Dominican Republic\", \"Vietnam\", \"Yemen\", \"Uganda\", \"Mongolia\", \"Zambia\", \"Timor-Leste\", \"Indonesia\", \"Tanzania\", \"Nigeria\", \"Cameroon\", \"Ghana\", \"Ukraine\", \"Zimbabwe\", \"Peru\", \"Mexico\", \"Ecuador\", \"Moldova\", \"Saint Vincent and the Grenadines\", \"Namibia\", \"Burkina Faso\", \"Cambodia\", \"Iraq\", \"India\", \"Haiti\", \"Paraguay\", \"Egypt\", \"Israel\", \"Philippines\", \"Brazil\", \"Madagascar\", \"Cote D'Ivoire\", \"Thailand\", \"Togo\", \"South Africa\", \"Malawi\", \"Congo\", \"Lesotho\", \"Solomon Islands\", \"Liberia\", \"China\", \"Panama\", \"Somalia\", \"South Sudan\", \"Lao People's Democratic Republic\", \"Chile\", \"Turkey\", \"Belize\", \"Nepal\", \"Mauritania\", \"Afghanistan\", \"Guam\"], \"colorscale\": \"Red\", \"marker\": {\"line\": {\"width\": 0.7}}, \"colorbar\": {\"autotick\": false, \"tickprefix\": \"\", \"title\": \"Countries based on Funded Time\"}}], {\"title\": \"Top Countries - Funded Time\", \"geo\": {\"showframe\": false, \"projection\": {\"type\": \"Mercatorodes\"}}}, {\"showLink\": true, \"linkText\": \"Export to plot.ly\"})});</script><script type=\"text/javascript\">window.addEventListener(\"resize\", function(){window._Plotly.Plots.resize(document.getElementById(\"246e5136-ac02-4443-bd99-31adb45e13f9\"));});</script>"
      ]
     },
     "metadata": {},
     "output_type": "display_data"
    }
   ],
   "source": [
    "# Determine Time Taken for Funding. It is Loan Posted Time - Funded Time\n",
    "\n",
    "df_funded = df_kiva_loans[(df_kiva_loans['funded_amount']!=0)]\n",
    "df_funded.dropna()\n",
    "df_funded.shape\n",
    "\n",
    "df_funded['funded_time'] = pd.to_datetime(df_funded['funded_time'])\n",
    "df_funded['posted_time'] = pd.to_datetime(df_funded['posted_time'])    \n",
    "time_to_fund = (df_funded.funded_time - df_funded.posted_time)\n",
    "time_to_fund_in_days = (time_to_fund.astype('timedelta64[s]')/(3600 * 24))\n",
    "df_funded = df_funded.assign(time_to_fund=time_to_fund)\n",
    "df_funded = df_funded.assign(time_to_fund_in_days=time_to_fund_in_days)\n",
    "\n",
    "funded_time = df_funded.groupby('country').mean()['time_to_fund_in_days'].sort_values(ascending = False)\n",
    "print(\"Top Countries with max funded_time(Mean values)\\n\",funded_time.head(10))\n",
    "data = [dict(\n",
    "        type='choropleth',\n",
    "        locations= funded_time.index,\n",
    "        locationmode='country names',\n",
    "        z=funded_time.values,\n",
    "        text=funded_time.index,\n",
    "        colorscale='Red',\n",
    "        marker=dict(line=dict(width=0.7)),\n",
    "        colorbar=dict(autotick=False, tickprefix='', title='Countries based on Funded Time'),\n",
    ")]\n",
    "layout = dict(title = 'Top Countries - Funded Time',\n",
    "             geo = dict(\n",
    "            showframe = False,\n",
    "            #showcoastlines = False,\n",
    "            projection = dict(\n",
    "                type = 'Mercatorodes'\n",
    "            )\n",
    "        ),)\n",
    "fig = dict(data=data, layout=layout)\n",
    "py.iplot(fig, validate=False)"
   ]
  },
  {
   "cell_type": "markdown",
   "metadata": {
    "collapsed": true
   },
   "source": [
    "## 1c: Data Pre-processing"
   ]
  },
  {
   "cell_type": "code",
   "execution_count": 6,
   "metadata": {},
   "outputs": [
    {
     "data": {
      "text/html": [
       "<div>\n",
       "<style>\n",
       "    .dataframe thead tr:only-child th {\n",
       "        text-align: right;\n",
       "    }\n",
       "\n",
       "    .dataframe thead th {\n",
       "        text-align: left;\n",
       "    }\n",
       "\n",
       "    .dataframe tbody tr th {\n",
       "        vertical-align: top;\n",
       "    }\n",
       "</style>\n",
       "<table border=\"1\" class=\"dataframe\">\n",
       "  <thead>\n",
       "    <tr style=\"text-align: right;\">\n",
       "      <th></th>\n",
       "      <th>funded_amount</th>\n",
       "      <th>loan_amount</th>\n",
       "      <th>sector</th>\n",
       "      <th>country</th>\n",
       "      <th>term_in_months</th>\n",
       "      <th>borrower_genders</th>\n",
       "      <th>repayment_interval</th>\n",
       "    </tr>\n",
       "  </thead>\n",
       "  <tbody>\n",
       "    <tr>\n",
       "      <th>0</th>\n",
       "      <td>300.0</td>\n",
       "      <td>300.0</td>\n",
       "      <td>Food</td>\n",
       "      <td>Pakistan</td>\n",
       "      <td>12.0</td>\n",
       "      <td>female</td>\n",
       "      <td>irregular</td>\n",
       "    </tr>\n",
       "    <tr>\n",
       "      <th>1</th>\n",
       "      <td>575.0</td>\n",
       "      <td>575.0</td>\n",
       "      <td>Transportation</td>\n",
       "      <td>Pakistan</td>\n",
       "      <td>11.0</td>\n",
       "      <td>female, female</td>\n",
       "      <td>irregular</td>\n",
       "    </tr>\n",
       "    <tr>\n",
       "      <th>2</th>\n",
       "      <td>150.0</td>\n",
       "      <td>150.0</td>\n",
       "      <td>Transportation</td>\n",
       "      <td>India</td>\n",
       "      <td>43.0</td>\n",
       "      <td>female</td>\n",
       "      <td>bullet</td>\n",
       "    </tr>\n",
       "    <tr>\n",
       "      <th>3</th>\n",
       "      <td>200.0</td>\n",
       "      <td>200.0</td>\n",
       "      <td>Arts</td>\n",
       "      <td>Pakistan</td>\n",
       "      <td>11.0</td>\n",
       "      <td>female</td>\n",
       "      <td>irregular</td>\n",
       "    </tr>\n",
       "    <tr>\n",
       "      <th>4</th>\n",
       "      <td>400.0</td>\n",
       "      <td>400.0</td>\n",
       "      <td>Food</td>\n",
       "      <td>Pakistan</td>\n",
       "      <td>14.0</td>\n",
       "      <td>female</td>\n",
       "      <td>monthly</td>\n",
       "    </tr>\n",
       "  </tbody>\n",
       "</table>\n",
       "</div>"
      ],
      "text/plain": [
       "   funded_amount  loan_amount          sector   country  term_in_months  \\\n",
       "0          300.0        300.0            Food  Pakistan            12.0   \n",
       "1          575.0        575.0  Transportation  Pakistan            11.0   \n",
       "2          150.0        150.0  Transportation     India            43.0   \n",
       "3          200.0        200.0            Arts  Pakistan            11.0   \n",
       "4          400.0        400.0            Food  Pakistan            14.0   \n",
       "\n",
       "  borrower_genders repayment_interval  \n",
       "0           female          irregular  \n",
       "1   female, female          irregular  \n",
       "2           female             bullet  \n",
       "3           female          irregular  \n",
       "4           female            monthly  "
      ]
     },
     "execution_count": 6,
     "metadata": {},
     "output_type": "execute_result"
    }
   ],
   "source": [
    "use_col = ['funded_amount', 'loan_amount', 'sector', 'country', 'term_in_months', 'borrower_genders', 'repayment_interval']\n",
    "df_loans = df_kiva_loans[use_col].copy()\n",
    "df_loans.head()"
   ]
  },
  {
   "cell_type": "code",
   "execution_count": 7,
   "metadata": {},
   "outputs": [
    {
     "data": {
      "text/plain": [
       "funded_amount            0\n",
       "loan_amount              0\n",
       "sector                   0\n",
       "country                  0\n",
       "term_in_months           0\n",
       "borrower_genders      4221\n",
       "repayment_interval       0\n",
       "dtype: int64"
      ]
     },
     "execution_count": 7,
     "metadata": {},
     "output_type": "execute_result"
    }
   ],
   "source": [
    "df_loans.isnull().sum()"
   ]
  },
  {
   "cell_type": "code",
   "execution_count": 8,
   "metadata": {
    "collapsed": true
   },
   "outputs": [],
   "source": [
    "df_loans.dropna(inplace=True)"
   ]
  },
  {
   "cell_type": "code",
   "execution_count": 9,
   "metadata": {},
   "outputs": [
    {
     "data": {
      "text/plain": [
       "(666984, 7)"
      ]
     },
     "execution_count": 9,
     "metadata": {},
     "output_type": "execute_result"
    }
   ],
   "source": [
    "df_loans.shape"
   ]
  },
  {
   "cell_type": "code",
   "execution_count": 10,
   "metadata": {
    "collapsed": true
   },
   "outputs": [],
   "source": [
    "df_loans['percent_female'] = df_loans['borrower_genders'].apply(lambda x: np.mean(np.array(x.split(',')) == 'female'))\n",
    "df_loans['applicants'] = df_loans['borrower_genders'].apply(lambda x: len(x.split(',')))\n",
    "df_loans.drop('borrower_genders', axis=1, inplace=True)"
   ]
  },
  {
   "cell_type": "code",
   "execution_count": 11,
   "metadata": {},
   "outputs": [
    {
     "data": {
      "text/html": [
       "<div>\n",
       "<style>\n",
       "    .dataframe thead tr:only-child th {\n",
       "        text-align: right;\n",
       "    }\n",
       "\n",
       "    .dataframe thead th {\n",
       "        text-align: left;\n",
       "    }\n",
       "\n",
       "    .dataframe tbody tr th {\n",
       "        vertical-align: top;\n",
       "    }\n",
       "</style>\n",
       "<table border=\"1\" class=\"dataframe\">\n",
       "  <thead>\n",
       "    <tr style=\"text-align: right;\">\n",
       "      <th></th>\n",
       "      <th>funded_amount</th>\n",
       "      <th>loan_amount</th>\n",
       "      <th>sector</th>\n",
       "      <th>country</th>\n",
       "      <th>term_in_months</th>\n",
       "      <th>repayment_interval</th>\n",
       "      <th>percent_female</th>\n",
       "      <th>applicants</th>\n",
       "    </tr>\n",
       "  </thead>\n",
       "  <tbody>\n",
       "    <tr>\n",
       "      <th>0</th>\n",
       "      <td>300.0</td>\n",
       "      <td>300.0</td>\n",
       "      <td>Food</td>\n",
       "      <td>Pakistan</td>\n",
       "      <td>12.0</td>\n",
       "      <td>irregular</td>\n",
       "      <td>1.0</td>\n",
       "      <td>1</td>\n",
       "    </tr>\n",
       "    <tr>\n",
       "      <th>1</th>\n",
       "      <td>575.0</td>\n",
       "      <td>575.0</td>\n",
       "      <td>Transportation</td>\n",
       "      <td>Pakistan</td>\n",
       "      <td>11.0</td>\n",
       "      <td>irregular</td>\n",
       "      <td>0.5</td>\n",
       "      <td>2</td>\n",
       "    </tr>\n",
       "    <tr>\n",
       "      <th>2</th>\n",
       "      <td>150.0</td>\n",
       "      <td>150.0</td>\n",
       "      <td>Transportation</td>\n",
       "      <td>India</td>\n",
       "      <td>43.0</td>\n",
       "      <td>bullet</td>\n",
       "      <td>1.0</td>\n",
       "      <td>1</td>\n",
       "    </tr>\n",
       "    <tr>\n",
       "      <th>3</th>\n",
       "      <td>200.0</td>\n",
       "      <td>200.0</td>\n",
       "      <td>Arts</td>\n",
       "      <td>Pakistan</td>\n",
       "      <td>11.0</td>\n",
       "      <td>irregular</td>\n",
       "      <td>1.0</td>\n",
       "      <td>1</td>\n",
       "    </tr>\n",
       "    <tr>\n",
       "      <th>4</th>\n",
       "      <td>400.0</td>\n",
       "      <td>400.0</td>\n",
       "      <td>Food</td>\n",
       "      <td>Pakistan</td>\n",
       "      <td>14.0</td>\n",
       "      <td>monthly</td>\n",
       "      <td>1.0</td>\n",
       "      <td>1</td>\n",
       "    </tr>\n",
       "  </tbody>\n",
       "</table>\n",
       "</div>"
      ],
      "text/plain": [
       "   funded_amount  loan_amount          sector   country  term_in_months  \\\n",
       "0          300.0        300.0            Food  Pakistan            12.0   \n",
       "1          575.0        575.0  Transportation  Pakistan            11.0   \n",
       "2          150.0        150.0  Transportation     India            43.0   \n",
       "3          200.0        200.0            Arts  Pakistan            11.0   \n",
       "4          400.0        400.0            Food  Pakistan            14.0   \n",
       "\n",
       "  repayment_interval  percent_female  applicants  \n",
       "0          irregular             1.0           1  \n",
       "1          irregular             0.5           2  \n",
       "2             bullet             1.0           1  \n",
       "3          irregular             1.0           1  \n",
       "4            monthly             1.0           1  "
      ]
     },
     "execution_count": 11,
     "metadata": {},
     "output_type": "execute_result"
    }
   ],
   "source": [
    "df_loans.head()"
   ]
  },
  {
   "cell_type": "code",
   "execution_count": 12,
   "metadata": {
    "collapsed": true
   },
   "outputs": [],
   "source": [
    "df_loans['granted'] = 1*(df_loans['loan_amount'] == df_loans['funded_amount'])\n",
    "df_loans.drop('funded_amount', axis=1, inplace=True)"
   ]
  },
  {
   "cell_type": "code",
   "execution_count": 13,
   "metadata": {},
   "outputs": [
    {
     "data": {
      "text/plain": [
       "1    619336\n",
       "0     47648\n",
       "Name: granted, dtype: int64"
      ]
     },
     "execution_count": 13,
     "metadata": {},
     "output_type": "execute_result"
    }
   ],
   "source": [
    "df_loans['granted'].value_counts()"
   ]
  },
  {
   "cell_type": "markdown",
   "metadata": {},
   "source": [
    "** OBSERVATION: There are 47648 that are not fully funded. **"
   ]
  },
  {
   "cell_type": "code",
   "execution_count": 14,
   "metadata": {
    "collapsed": true
   },
   "outputs": [],
   "source": [
    "df_loans = pd.concat((df_loans,pd.get_dummies(df_loans[['sector', 'country', 'repayment_interval']], drop_first=True)), axis=1)\n",
    "df_loans.drop(['sector', 'country', 'repayment_interval'], axis=1, inplace=True)\n",
    "df_loans.shape\n",
    "df_loans.head()\n",
    "\n",
    "df_loans1 = df_loans.copy()\n",
    "features = df_loans.drop('granted', axis=1).columns"
   ]
  },
  {
   "cell_type": "code",
   "execution_count": 15,
   "metadata": {},
   "outputs": [
    {
     "name": "stdout",
     "output_type": "stream",
     "text": [
      "(666984, 107)\n",
      "(666984,)\n"
     ]
    }
   ],
   "source": [
    "X = df_loans.drop('granted', axis=1).values\n",
    "y = df_loans['granted'].values\n",
    "print(X.shape)\n",
    "print(y.shape)\n"
   ]
  },
  {
   "cell_type": "code",
   "execution_count": 16,
   "metadata": {
    "collapsed": true
   },
   "outputs": [],
   "source": [
    "X_train, X_test, y_train, y_test = train_test_split(X, y, test_size=0.33, random_state=42)"
   ]
  },
  {
   "cell_type": "markdown",
   "metadata": {},
   "source": [
    "## 1d: Model Building"
   ]
  },
  {
   "cell_type": "markdown",
   "metadata": {},
   "source": [
    "### 1. Random Forest"
   ]
  },
  {
   "cell_type": "code",
   "execution_count": 17,
   "metadata": {},
   "outputs": [
    {
     "name": "stdout",
     "output_type": "stream",
     "text": [
      "Score from Random Forest is 92.61%\n",
      "True Positive= 199972\n",
      "False Positive= 11941\n",
      "True Negative= 3858\n",
      "False Negative= 4334\n"
     ]
    }
   ],
   "source": [
    "rfc = RandomForestClassifier(n_estimators=50)\n",
    "rfc.fit(X_train, y_train)\n",
    "score = rfc.score(X_test, y_test)\n",
    "print(\"Score from Random Forest is %.2f%%\" %(score*100))\n",
    "y_pred = rfc.predict(X_test)\n",
    "tn, fp, fn, tp = confusion_matrix(y_test, y_pred, labels=[0,1]).ravel()\n",
    "print ('True Positive=', tp)\n",
    "print ('False Positive=', fp)\n",
    "print ('True Negative=', tn)\n",
    "print ('False Negative=', fn)"
   ]
  },
  {
   "cell_type": "code",
   "execution_count": 18,
   "metadata": {},
   "outputs": [
    {
     "name": "stdout",
     "output_type": "stream",
     "text": [
      "             precision    recall  f1-score   support\n",
      "\n",
      "          0       0.47      0.24      0.32     15799\n",
      "          1       0.94      0.98      0.96    204306\n",
      "\n",
      "avg / total       0.91      0.93      0.92    220105\n",
      "\n"
     ]
    }
   ],
   "source": [
    "print(classification_report(y_test, y_pred))"
   ]
  },
  {
   "cell_type": "markdown",
   "metadata": {},
   "source": [
    "** OBSERVATION: Even though Random Forest model gave an accuracy score of 92.6%, it did bad on predicting class 0 (only 33% score on predicting loans that are not fully funded). There are close to 12K False Positives and 4K False Negatives. Also notice, the data between class 0 and 1 is uneven/imbalanced.**"
   ]
  },
  {
   "cell_type": "markdown",
   "metadata": {},
   "source": [
    "### Feature Importance from Random Forest"
   ]
  },
  {
   "cell_type": "code",
   "execution_count": 19,
   "metadata": {
    "collapsed": true
   },
   "outputs": [],
   "source": [
    "importances = pd.DataFrame({\"Feature\": features, 'Score': rfc.feature_importances_})\n",
    "importances = importances.sort_values(by='Score', ascending=False).head(10)"
   ]
  },
  {
   "cell_type": "code",
   "execution_count": 20,
   "metadata": {},
   "outputs": [
    {
     "data": {
      "image/png": "[encoded data removed]",
      "text/plain": [
       "<matplotlib.figure.Figure at 0x186dbc2a518>"
      ]
     },
     "metadata": {},
     "output_type": "display_data"
    }
   ],
   "source": [
    "plt.figure(figsize=(8,8))\n",
    "plt.barh(range(10), importances['Score'])\n",
    "a = plt.yticks(range(10), importances['Feature'])"
   ]
  },
  {
   "cell_type": "markdown",
   "metadata": {},
   "source": [
    "### 2. Decision Tree"
   ]
  },
  {
   "cell_type": "code",
   "execution_count": 36,
   "metadata": {},
   "outputs": [
    {
     "name": "stdout",
     "output_type": "stream",
     "text": [
      "Accuracy: 0.9282206219758752\n",
      "             precision    recall  f1-score   support\n",
      "\n",
      "          0       0.00      0.00      0.00     15799\n",
      "          1       0.93      1.00      0.96    204306\n",
      "\n",
      "avg / total       0.86      0.93      0.89    220105\n",
      "\n"
     ]
    }
   ],
   "source": [
    "clf = DecisionTreeClassifier(criterion = \"entropy\", random_state = 100,\n",
    "                               max_depth=3, min_samples_leaf=5, min_samples_split=10)\n",
    "clf.fit(X_train, y_train)\n",
    "print ('Accuracy:', clf.score(X_test, y_test))\n",
    "\n",
    "y_pred = clf.predict(X_test)\n",
    "\n",
    "print(classification_report(y_test, y_pred))\n"
   ]
  },
  {
   "cell_type": "code",
   "execution_count": 22,
   "metadata": {},
   "outputs": [
    {
     "data": {
      "image/svg+xml": [
       "<?xml version=\"1.0\" encoding=\"UTF-8\" standalone=\"no\"?>\r\n",
       "<!DOCTYPE svg PUBLIC \"-//W3C//DTD SVG 1.1//EN\"\r\n",
       " \"http://www.w3.org/Graphics/SVG/1.1/DTD/svg11.dtd\">\r\n",
       "<!-- Generated by graphviz version 2.38.0 (20140413.2041)\r\n",
       " -->\r\n",
       "<!-- Title: Tree Pages: 1 -->\r\n",
       "<svg width=\"1330pt\" height=\"373pt\"\r\n",
       " viewBox=\"0.00 0.00 1329.50 373.00\" xmlns=\"http://www.w3.org/2000/svg\" xmlns:xlink=\"http://www.w3.org/1999/xlink\">\r\n",
       "<g id=\"graph0\" class=\"graph\" transform=\"scale(1 1) rotate(0) translate(4 369)\">\r\n",
       "<title>Tree</title>\r\n",
       "<polygon fill=\"white\" stroke=\"none\" points=\"-4,4 -4,-369 1325.5,-369 1325.5,4 -4,4\"/>\r\n",
       "<!-- 0 -->\r\n",
       "<g id=\"node1\" class=\"node\"><title>0</title>\r\n",
       "<path fill=\"#399de5\" fill-opacity=\"0.921569\" stroke=\"black\" d=\"M698.5,-365C698.5,-365 551.5,-365 551.5,-365 545.5,-365 539.5,-359 539.5,-353 539.5,-353 539.5,-309 539.5,-309 539.5,-303 545.5,-297 551.5,-297 551.5,-297 698.5,-297 698.5,-297 704.5,-297 710.5,-303 710.5,-309 710.5,-309 710.5,-353 710.5,-353 710.5,-359 704.5,-365 698.5,-365\"/>\r\n",
       "<text text-anchor=\"start\" x=\"556\" y=\"-349.8\" font-family=\"Helvetica,sans-Serif\" font-size=\"14.00\">term_in_months ≤ 8.5</text>\r\n",
       "<text text-anchor=\"start\" x=\"575\" y=\"-334.8\" font-family=\"Helvetica,sans-Serif\" font-size=\"14.00\">entropy = 0.371</text>\r\n",
       "<text text-anchor=\"start\" x=\"565\" y=\"-319.8\" font-family=\"Helvetica,sans-Serif\" font-size=\"14.00\">samples = 446879</text>\r\n",
       "<text text-anchor=\"start\" x=\"547.5\" y=\"-304.8\" font-family=\"Helvetica,sans-Serif\" font-size=\"14.00\">value = [31849, 415030]</text>\r\n",
       "</g>\r\n",
       "<!-- 1 -->\r\n",
       "<g id=\"node2\" class=\"node\"><title>1</title>\r\n",
       "<path fill=\"#399de5\" fill-opacity=\"0.996078\" stroke=\"black\" d=\"M578.5,-261C578.5,-261 447.5,-261 447.5,-261 441.5,-261 435.5,-255 435.5,-249 435.5,-249 435.5,-205 435.5,-205 435.5,-199 441.5,-193 447.5,-193 447.5,-193 578.5,-193 578.5,-193 584.5,-193 590.5,-199 590.5,-205 590.5,-205 590.5,-249 590.5,-249 590.5,-255 584.5,-261 578.5,-261\"/>\r\n",
       "<text text-anchor=\"start\" x=\"463\" y=\"-245.8\" font-family=\"Helvetica,sans-Serif\" font-size=\"14.00\">applicants ≤ 1.5</text>\r\n",
       "<text text-anchor=\"start\" x=\"463\" y=\"-230.8\" font-family=\"Helvetica,sans-Serif\" font-size=\"14.00\">entropy = 0.041</text>\r\n",
       "<text text-anchor=\"start\" x=\"453\" y=\"-215.8\" font-family=\"Helvetica,sans-Serif\" font-size=\"14.00\">samples = 146129</text>\r\n",
       "<text text-anchor=\"start\" x=\"443.5\" y=\"-200.8\" font-family=\"Helvetica,sans-Serif\" font-size=\"14.00\">value = [639, 145490]</text>\r\n",
       "</g>\r\n",
       "<!-- 0&#45;&gt;1 -->\r\n",
       "<g id=\"edge1\" class=\"edge\"><title>0&#45;&gt;1</title>\r\n",
       "<path fill=\"none\" stroke=\"black\" d=\"M588.637,-296.884C578.563,-287.709 567.518,-277.65 557.056,-268.123\"/>\r\n",
       "<polygon fill=\"black\" stroke=\"black\" points=\"559.314,-265.445 549.564,-261.299 554.601,-270.62 559.314,-265.445\"/>\r\n",
       "<text text-anchor=\"middle\" x=\"550.731\" y=\"-282.572\" font-family=\"Helvetica,sans-Serif\" font-size=\"14.00\">True</text>\r\n",
       "</g>\r\n",
       "<!-- 8 -->\r\n",
       "<g id=\"node9\" class=\"node\"><title>8</title>\r\n",
       "<path fill=\"#399de5\" fill-opacity=\"0.882353\" stroke=\"black\" d=\"M810.5,-261C810.5,-261 663.5,-261 663.5,-261 657.5,-261 651.5,-255 651.5,-249 651.5,-249 651.5,-205 651.5,-205 651.5,-199 657.5,-193 663.5,-193 663.5,-193 810.5,-193 810.5,-193 816.5,-193 822.5,-199 822.5,-205 822.5,-205 822.5,-249 822.5,-249 822.5,-255 816.5,-261 810.5,-261\"/>\r\n",
       "<text text-anchor=\"start\" x=\"670.5\" y=\"-245.8\" font-family=\"Helvetica,sans-Serif\" font-size=\"14.00\">loan_amount ≤ 487.5</text>\r\n",
       "<text text-anchor=\"start\" x=\"687\" y=\"-230.8\" font-family=\"Helvetica,sans-Serif\" font-size=\"14.00\">entropy = 0.481</text>\r\n",
       "<text text-anchor=\"start\" x=\"677\" y=\"-215.8\" font-family=\"Helvetica,sans-Serif\" font-size=\"14.00\">samples = 300750</text>\r\n",
       "<text text-anchor=\"start\" x=\"659.5\" y=\"-200.8\" font-family=\"Helvetica,sans-Serif\" font-size=\"14.00\">value = [31210, 269540]</text>\r\n",
       "</g>\r\n",
       "<!-- 0&#45;&gt;8 -->\r\n",
       "<g id=\"edge8\" class=\"edge\"><title>0&#45;&gt;8</title>\r\n",
       "<path fill=\"none\" stroke=\"black\" d=\"M661.363,-296.884C671.437,-287.709 682.482,-277.65 692.944,-268.123\"/>\r\n",
       "<polygon fill=\"black\" stroke=\"black\" points=\"695.399,-270.62 700.436,-261.299 690.686,-265.445 695.399,-270.62\"/>\r\n",
       "<text text-anchor=\"middle\" x=\"699.269\" y=\"-282.572\" font-family=\"Helvetica,sans-Serif\" font-size=\"14.00\">False</text>\r\n",
       "</g>\r\n",
       "<!-- 2 -->\r\n",
       "<g id=\"node3\" class=\"node\"><title>2</title>\r\n",
       "<path fill=\"#399de5\" stroke=\"black\" d=\"M328,-157C328,-157 122,-157 122,-157 116,-157 110,-151 110,-145 110,-145 110,-101 110,-101 110,-95 116,-89 122,-89 122,-89 328,-89 328,-89 334,-89 340,-95 340,-101 340,-101 340,-145 340,-145 340,-151 334,-157 328,-157\"/>\r\n",
       "<text text-anchor=\"start\" x=\"118\" y=\"-141.8\" font-family=\"Helvetica,sans-Serif\" font-size=\"14.00\">repayment_interval_irregular ≤ 0.5</text>\r\n",
       "<text text-anchor=\"start\" x=\"179\" y=\"-126.8\" font-family=\"Helvetica,sans-Serif\" font-size=\"14.00\">entropy = 0.01</text>\r\n",
       "<text text-anchor=\"start\" x=\"165\" y=\"-111.8\" font-family=\"Helvetica,sans-Serif\" font-size=\"14.00\">samples = 109299</text>\r\n",
       "<text text-anchor=\"start\" x=\"160\" y=\"-96.8\" font-family=\"Helvetica,sans-Serif\" font-size=\"14.00\">value = [91, 109208]</text>\r\n",
       "</g>\r\n",
       "<!-- 1&#45;&gt;2 -->\r\n",
       "<g id=\"edge2\" class=\"edge\"><title>1&#45;&gt;2</title>\r\n",
       "<path fill=\"none\" stroke=\"black\" d=\"M435.442,-198.532C402.472,-186.855 363.551,-173.07 328.203,-160.551\"/>\r\n",
       "<polygon fill=\"black\" stroke=\"black\" points=\"328.931,-157.096 318.336,-157.057 326.594,-163.694 328.931,-157.096\"/>\r\n",
       "</g>\r\n",
       "<!-- 5 -->\r\n",
       "<g id=\"node6\" class=\"node\"><title>5</title>\r\n",
       "<path fill=\"#399de5\" fill-opacity=\"0.984314\" stroke=\"black\" d=\"M579.5,-157C579.5,-157 446.5,-157 446.5,-157 440.5,-157 434.5,-151 434.5,-145 434.5,-145 434.5,-101 434.5,-101 434.5,-95 440.5,-89 446.5,-89 446.5,-89 579.5,-89 579.5,-89 585.5,-89 591.5,-95 591.5,-101 591.5,-101 591.5,-145 591.5,-145 591.5,-151 585.5,-157 579.5,-157\"/>\r\n",
       "<text text-anchor=\"start\" x=\"442.5\" y=\"-141.8\" font-family=\"Helvetica,sans-Serif\" font-size=\"14.00\">country_Rwanda ≤ 0.5</text>\r\n",
       "<text text-anchor=\"start\" x=\"463\" y=\"-126.8\" font-family=\"Helvetica,sans-Serif\" font-size=\"14.00\">entropy = 0.112</text>\r\n",
       "<text text-anchor=\"start\" x=\"457\" y=\"-111.8\" font-family=\"Helvetica,sans-Serif\" font-size=\"14.00\">samples = 36830</text>\r\n",
       "<text text-anchor=\"start\" x=\"448\" y=\"-96.8\" font-family=\"Helvetica,sans-Serif\" font-size=\"14.00\">value = [548, 36282]</text>\r\n",
       "</g>\r\n",
       "<!-- 1&#45;&gt;5 -->\r\n",
       "<g id=\"edge5\" class=\"edge\"><title>1&#45;&gt;5</title>\r\n",
       "<path fill=\"none\" stroke=\"black\" d=\"M513,-192.884C513,-184.778 513,-175.982 513,-167.472\"/>\r\n",
       "<polygon fill=\"black\" stroke=\"black\" points=\"516.5,-167.299 513,-157.299 509.5,-167.299 516.5,-167.299\"/>\r\n",
       "</g>\r\n",
       "<!-- 3 -->\r\n",
       "<g id=\"node4\" class=\"node\"><title>3</title>\r\n",
       "<path fill=\"#399de5\" fill-opacity=\"0.996078\" stroke=\"black\" d=\"M126,-53C126,-53 12,-53 12,-53 6,-53 0,-47 0,-41 0,-41 0,-12 0,-12 0,-6 6,-0 12,-0 12,-0 126,-0 126,-0 132,-0 138,-6 138,-12 138,-12 138,-41 138,-41 138,-47 132,-53 126,-53\"/>\r\n",
       "<text text-anchor=\"start\" x=\"19\" y=\"-37.8\" font-family=\"Helvetica,sans-Serif\" font-size=\"14.00\">entropy = 0.027</text>\r\n",
       "<text text-anchor=\"start\" x=\"13\" y=\"-22.8\" font-family=\"Helvetica,sans-Serif\" font-size=\"14.00\">samples = 24782</text>\r\n",
       "<text text-anchor=\"start\" x=\"8\" y=\"-7.8\" font-family=\"Helvetica,sans-Serif\" font-size=\"14.00\">value = [66, 24716]</text>\r\n",
       "</g>\r\n",
       "<!-- 2&#45;&gt;3 -->\r\n",
       "<g id=\"edge3\" class=\"edge\"><title>2&#45;&gt;3</title>\r\n",
       "<path fill=\"none\" stroke=\"black\" d=\"M170.439,-88.9485C154.129,-79.0686 136.312,-68.2758 120.225,-58.5305\"/>\r\n",
       "<polygon fill=\"black\" stroke=\"black\" points=\"121.853,-55.4244 111.486,-53.2367 118.226,-61.4115 121.853,-55.4244\"/>\r\n",
       "</g>\r\n",
       "<!-- 4 -->\r\n",
       "<g id=\"node5\" class=\"node\"><title>4</title>\r\n",
       "<path fill=\"#399de5\" stroke=\"black\" d=\"M282,-53C282,-53 168,-53 168,-53 162,-53 156,-47 156,-41 156,-41 156,-12 156,-12 156,-6 162,-0 168,-0 168,-0 282,-0 282,-0 288,-0 294,-6 294,-12 294,-12 294,-41 294,-41 294,-47 288,-53 282,-53\"/>\r\n",
       "<text text-anchor=\"start\" x=\"175\" y=\"-37.8\" font-family=\"Helvetica,sans-Serif\" font-size=\"14.00\">entropy = 0.004</text>\r\n",
       "<text text-anchor=\"start\" x=\"169\" y=\"-22.8\" font-family=\"Helvetica,sans-Serif\" font-size=\"14.00\">samples = 84517</text>\r\n",
       "<text text-anchor=\"start\" x=\"164\" y=\"-7.8\" font-family=\"Helvetica,sans-Serif\" font-size=\"14.00\">value = [25, 84492]</text>\r\n",
       "</g>\r\n",
       "<!-- 2&#45;&gt;4 -->\r\n",
       "<g id=\"edge4\" class=\"edge\"><title>2&#45;&gt;4</title>\r\n",
       "<path fill=\"none\" stroke=\"black\" d=\"M225,-88.9485C225,-80.7153 225,-71.848 225,-63.4814\"/>\r\n",
       "<polygon fill=\"black\" stroke=\"black\" points=\"228.5,-63.2367 225,-53.2367 221.5,-63.2367 228.5,-63.2367\"/>\r\n",
       "</g>\r\n",
       "<!-- 6 -->\r\n",
       "<g id=\"node7\" class=\"node\"><title>6</title>\r\n",
       "<path fill=\"#399de5\" fill-opacity=\"0.988235\" stroke=\"black\" d=\"M446,-53C446,-53 324,-53 324,-53 318,-53 312,-47 312,-41 312,-41 312,-12 312,-12 312,-6 318,-0 324,-0 324,-0 446,-0 446,-0 452,-0 458,-6 458,-12 458,-12 458,-41 458,-41 458,-47 452,-53 446,-53\"/>\r\n",
       "<text text-anchor=\"start\" x=\"335\" y=\"-37.8\" font-family=\"Helvetica,sans-Serif\" font-size=\"14.00\">entropy = 0.088</text>\r\n",
       "<text text-anchor=\"start\" x=\"329\" y=\"-22.8\" font-family=\"Helvetica,sans-Serif\" font-size=\"14.00\">samples = 35375</text>\r\n",
       "<text text-anchor=\"start\" x=\"320\" y=\"-7.8\" font-family=\"Helvetica,sans-Serif\" font-size=\"14.00\">value = [394, 34981]</text>\r\n",
       "</g>\r\n",
       "<!-- 5&#45;&gt;6 -->\r\n",
       "<g id=\"edge6\" class=\"edge\"><title>5&#45;&gt;6</title>\r\n",
       "<path fill=\"none\" stroke=\"black\" d=\"M468.232,-88.9485C455.221,-79.3431 441.042,-68.8747 428.134,-59.345\"/>\r\n",
       "<polygon fill=\"black\" stroke=\"black\" points=\"429.984,-56.3605 419.86,-53.2367 425.827,-61.992 429.984,-56.3605\"/>\r\n",
       "</g>\r\n",
       "<!-- 7 -->\r\n",
       "<g id=\"node8\" class=\"node\"><title>7</title>\r\n",
       "<path fill=\"#399de5\" fill-opacity=\"0.882353\" stroke=\"black\" d=\"M602,-53C602,-53 488,-53 488,-53 482,-53 476,-47 476,-41 476,-41 476,-12 476,-12 476,-6 482,-0 488,-0 488,-0 602,-0 602,-0 608,-0 614,-6 614,-12 614,-12 614,-41 614,-41 614,-47 608,-53 602,-53\"/>\r\n",
       "<text text-anchor=\"start\" x=\"495\" y=\"-37.8\" font-family=\"Helvetica,sans-Serif\" font-size=\"14.00\">entropy = 0.487</text>\r\n",
       "<text text-anchor=\"start\" x=\"493.5\" y=\"-22.8\" font-family=\"Helvetica,sans-Serif\" font-size=\"14.00\">samples = 1455</text>\r\n",
       "<text text-anchor=\"start\" x=\"484\" y=\"-7.8\" font-family=\"Helvetica,sans-Serif\" font-size=\"14.00\">value = [154, 1301]</text>\r\n",
       "</g>\r\n",
       "<!-- 5&#45;&gt;7 -->\r\n",
       "<g id=\"edge7\" class=\"edge\"><title>5&#45;&gt;7</title>\r\n",
       "<path fill=\"none\" stroke=\"black\" d=\"M524.192,-88.9485C527.042,-80.5323 530.116,-71.4536 533.004,-62.9243\"/>\r\n",
       "<polygon fill=\"black\" stroke=\"black\" points=\"536.393,-63.831 536.285,-53.2367 529.762,-61.5858 536.393,-63.831\"/>\r\n",
       "</g>\r\n",
       "<!-- 9 -->\r\n",
       "<g id=\"node10\" class=\"node\"><title>9</title>\r\n",
       "<path fill=\"#399de5\" fill-opacity=\"0.964706\" stroke=\"black\" d=\"M806.5,-157C806.5,-157 667.5,-157 667.5,-157 661.5,-157 655.5,-151 655.5,-145 655.5,-145 655.5,-101 655.5,-101 655.5,-95 661.5,-89 667.5,-89 667.5,-89 806.5,-89 806.5,-89 812.5,-89 818.5,-95 818.5,-101 818.5,-101 818.5,-145 818.5,-145 818.5,-151 812.5,-157 806.5,-157\"/>\r\n",
       "<text text-anchor=\"start\" x=\"670.5\" y=\"-141.8\" font-family=\"Helvetica,sans-Serif\" font-size=\"14.00\">loan_amount ≤ 262.5</text>\r\n",
       "<text text-anchor=\"start\" x=\"687\" y=\"-126.8\" font-family=\"Helvetica,sans-Serif\" font-size=\"14.00\">entropy = 0.213</text>\r\n",
       "<text text-anchor=\"start\" x=\"677\" y=\"-111.8\" font-family=\"Helvetica,sans-Serif\" font-size=\"14.00\">samples = 125171</text>\r\n",
       "<text text-anchor=\"start\" x=\"663.5\" y=\"-96.8\" font-family=\"Helvetica,sans-Serif\" font-size=\"14.00\">value = [4216, 120955]</text>\r\n",
       "</g>\r\n",
       "<!-- 8&#45;&gt;9 -->\r\n",
       "<g id=\"edge9\" class=\"edge\"><title>8&#45;&gt;9</title>\r\n",
       "<path fill=\"none\" stroke=\"black\" d=\"M737,-192.884C737,-184.778 737,-175.982 737,-167.472\"/>\r\n",
       "<polygon fill=\"black\" stroke=\"black\" points=\"740.5,-167.299 737,-157.299 733.5,-167.299 740.5,-167.299\"/>\r\n",
       "</g>\r\n",
       "<!-- 12 -->\r\n",
       "<g id=\"node13\" class=\"node\"><title>12</title>\r\n",
       "<path fill=\"#399de5\" fill-opacity=\"0.819608\" stroke=\"black\" d=\"M1124.5,-157C1124.5,-157 977.5,-157 977.5,-157 971.5,-157 965.5,-151 965.5,-145 965.5,-145 965.5,-101 965.5,-101 965.5,-95 971.5,-89 977.5,-89 977.5,-89 1124.5,-89 1124.5,-89 1130.5,-89 1136.5,-95 1136.5,-101 1136.5,-101 1136.5,-145 1136.5,-145 1136.5,-151 1130.5,-157 1124.5,-157\"/>\r\n",
       "<text text-anchor=\"start\" x=\"979\" y=\"-141.8\" font-family=\"Helvetica,sans-Serif\" font-size=\"14.00\">percent_female ≤ 0.01</text>\r\n",
       "<text text-anchor=\"start\" x=\"1001\" y=\"-126.8\" font-family=\"Helvetica,sans-Serif\" font-size=\"14.00\">entropy = 0.619</text>\r\n",
       "<text text-anchor=\"start\" x=\"991\" y=\"-111.8\" font-family=\"Helvetica,sans-Serif\" font-size=\"14.00\">samples = 175579</text>\r\n",
       "<text text-anchor=\"start\" x=\"973.5\" y=\"-96.8\" font-family=\"Helvetica,sans-Serif\" font-size=\"14.00\">value = [26994, 148585]</text>\r\n",
       "</g>\r\n",
       "<!-- 8&#45;&gt;12 -->\r\n",
       "<g id=\"edge12\" class=\"edge\"><title>8&#45;&gt;12</title>\r\n",
       "<path fill=\"none\" stroke=\"black\" d=\"M822.802,-198.128C863.906,-184.776 913.27,-168.74 955.556,-155.004\"/>\r\n",
       "<polygon fill=\"black\" stroke=\"black\" points=\"956.872,-158.257 965.302,-151.838 954.71,-151.599 956.872,-158.257\"/>\r\n",
       "</g>\r\n",
       "<!-- 10 -->\r\n",
       "<g id=\"node11\" class=\"node\"><title>10</title>\r\n",
       "<path fill=\"#399de5\" fill-opacity=\"0.988235\" stroke=\"black\" d=\"M766,-53C766,-53 644,-53 644,-53 638,-53 632,-47 632,-41 632,-41 632,-12 632,-12 632,-6 638,-0 644,-0 644,-0 766,-0 766,-0 772,-0 778,-6 778,-12 778,-12 778,-41 778,-41 778,-47 772,-53 766,-53\"/>\r\n",
       "<text text-anchor=\"start\" x=\"655\" y=\"-37.8\" font-family=\"Helvetica,sans-Serif\" font-size=\"14.00\">entropy = 0.085</text>\r\n",
       "<text text-anchor=\"start\" x=\"649\" y=\"-22.8\" font-family=\"Helvetica,sans-Serif\" font-size=\"14.00\">samples = 47615</text>\r\n",
       "<text text-anchor=\"start\" x=\"640\" y=\"-7.8\" font-family=\"Helvetica,sans-Serif\" font-size=\"14.00\">value = [510, 47105]</text>\r\n",
       "</g>\r\n",
       "<!-- 9&#45;&gt;10 -->\r\n",
       "<g id=\"edge10\" class=\"edge\"><title>9&#45;&gt;10</title>\r\n",
       "<path fill=\"none\" stroke=\"black\" d=\"M725.808,-88.9485C722.958,-80.5323 719.884,-71.4536 716.996,-62.9243\"/>\r\n",
       "<polygon fill=\"black\" stroke=\"black\" points=\"720.238,-61.5858 713.715,-53.2367 713.607,-63.831 720.238,-61.5858\"/>\r\n",
       "</g>\r\n",
       "<!-- 11 -->\r\n",
       "<g id=\"node12\" class=\"node\"><title>11</title>\r\n",
       "<path fill=\"#399de5\" fill-opacity=\"0.949020\" stroke=\"black\" d=\"M939.5,-53C939.5,-53 808.5,-53 808.5,-53 802.5,-53 796.5,-47 796.5,-41 796.5,-41 796.5,-12 796.5,-12 796.5,-6 802.5,-0 808.5,-0 808.5,-0 939.5,-0 939.5,-0 945.5,-0 951.5,-6 951.5,-12 951.5,-12 951.5,-41 951.5,-41 951.5,-47 945.5,-53 939.5,-53\"/>\r\n",
       "<text text-anchor=\"start\" x=\"824\" y=\"-37.8\" font-family=\"Helvetica,sans-Serif\" font-size=\"14.00\">entropy = 0.277</text>\r\n",
       "<text text-anchor=\"start\" x=\"818\" y=\"-22.8\" font-family=\"Helvetica,sans-Serif\" font-size=\"14.00\">samples = 77556</text>\r\n",
       "<text text-anchor=\"start\" x=\"804.5\" y=\"-7.8\" font-family=\"Helvetica,sans-Serif\" font-size=\"14.00\">value = [3706, 73850]</text>\r\n",
       "</g>\r\n",
       "<!-- 9&#45;&gt;11 -->\r\n",
       "<g id=\"edge11\" class=\"edge\"><title>9&#45;&gt;11</title>\r\n",
       "<path fill=\"none\" stroke=\"black\" d=\"M784.916,-88.9485C798.974,-79.2516 814.307,-68.6752 828.228,-59.073\"/>\r\n",
       "<polygon fill=\"black\" stroke=\"black\" points=\"830.444,-61.7959 836.689,-53.2367 826.47,-56.0337 830.444,-61.7959\"/>\r\n",
       "</g>\r\n",
       "<!-- 13 -->\r\n",
       "<g id=\"node14\" class=\"node\"><title>13</title>\r\n",
       "<path fill=\"#399de5\" fill-opacity=\"0.694118\" stroke=\"black\" d=\"M1120.5,-53C1120.5,-53 981.5,-53 981.5,-53 975.5,-53 969.5,-47 969.5,-41 969.5,-41 969.5,-12 969.5,-12 969.5,-6 975.5,-0 981.5,-0 981.5,-0 1120.5,-0 1120.5,-0 1126.5,-0 1132.5,-6 1132.5,-12 1132.5,-12 1132.5,-41 1132.5,-41 1132.5,-47 1126.5,-53 1120.5,-53\"/>\r\n",
       "<text text-anchor=\"start\" x=\"1001\" y=\"-37.8\" font-family=\"Helvetica,sans-Serif\" font-size=\"14.00\">entropy = 0.786</text>\r\n",
       "<text text-anchor=\"start\" x=\"995\" y=\"-22.8\" font-family=\"Helvetica,sans-Serif\" font-size=\"14.00\">samples = 57306</text>\r\n",
       "<text text-anchor=\"start\" x=\"977.5\" y=\"-7.8\" font-family=\"Helvetica,sans-Serif\" font-size=\"14.00\">value = [13450, 43856]</text>\r\n",
       "</g>\r\n",
       "<!-- 12&#45;&gt;13 -->\r\n",
       "<g id=\"edge13\" class=\"edge\"><title>12&#45;&gt;13</title>\r\n",
       "<path fill=\"none\" stroke=\"black\" d=\"M1051,-88.9485C1051,-80.7153 1051,-71.848 1051,-63.4814\"/>\r\n",
       "<polygon fill=\"black\" stroke=\"black\" points=\"1054.5,-63.2367 1051,-53.2367 1047.5,-63.2367 1054.5,-63.2367\"/>\r\n",
       "</g>\r\n",
       "<!-- 14 -->\r\n",
       "<g id=\"node15\" class=\"node\"><title>14</title>\r\n",
       "<path fill=\"#399de5\" fill-opacity=\"0.870588\" stroke=\"black\" d=\"M1309.5,-53C1309.5,-53 1162.5,-53 1162.5,-53 1156.5,-53 1150.5,-47 1150.5,-41 1150.5,-41 1150.5,-12 1150.5,-12 1150.5,-6 1156.5,-0 1162.5,-0 1162.5,-0 1309.5,-0 1309.5,-0 1315.5,-0 1321.5,-6 1321.5,-12 1321.5,-12 1321.5,-41 1321.5,-41 1321.5,-47 1315.5,-53 1309.5,-53\"/>\r\n",
       "<text text-anchor=\"start\" x=\"1186\" y=\"-37.8\" font-family=\"Helvetica,sans-Serif\" font-size=\"14.00\">entropy = 0.513</text>\r\n",
       "<text text-anchor=\"start\" x=\"1176\" y=\"-22.8\" font-family=\"Helvetica,sans-Serif\" font-size=\"14.00\">samples = 118273</text>\r\n",
       "<text text-anchor=\"start\" x=\"1158.5\" y=\"-7.8\" font-family=\"Helvetica,sans-Serif\" font-size=\"14.00\">value = [13544, 104729]</text>\r\n",
       "</g>\r\n",
       "<!-- 12&#45;&gt;14 -->\r\n",
       "<g id=\"edge14\" class=\"edge\"><title>12&#45;&gt;14</title>\r\n",
       "<path fill=\"none\" stroke=\"black\" d=\"M1115.7,-88.9485C1135.58,-78.794 1157.35,-67.675 1176.84,-57.7203\"/>\r\n",
       "<polygon fill=\"black\" stroke=\"black\" points=\"1178.6,-60.7526 1185.91,-53.0867 1175.41,-54.5188 1178.6,-60.7526\"/>\r\n",
       "</g>\r\n",
       "</g>\r\n",
       "</svg>\r\n"
      ],
      "text/plain": [
       "<graphviz.files.Source at 0x186d2182d30>"
      ]
     },
     "execution_count": 22,
     "metadata": {},
     "output_type": "execute_result"
    }
   ],
   "source": [
    "dot_data = tree.export_graphviz(clf, out_file=None, \n",
    "                      feature_names=features,  \n",
    "                      #class_names=y_test,  \n",
    "                      filled=True, rounded=True,  \n",
    "                      special_characters=True)\n",
    "\n",
    "\n",
    "graph = graphviz.Source(dot_data)  \n",
    "graph "
   ]
  },
  {
   "cell_type": "markdown",
   "metadata": {},
   "source": [
    "** OBSERVATION: Even though Decision Tree model gave an accuracy score of 92.8%, it did worse on predicting class 0 (0% score on predicting loans that are not fully funded). **"
   ]
  },
  {
   "cell_type": "markdown",
   "metadata": {},
   "source": [
    "### 3. XGBoost"
   ]
  },
  {
   "cell_type": "code",
   "execution_count": 23,
   "metadata": {},
   "outputs": [
    {
     "name": "stdout",
     "output_type": "stream",
     "text": [
      "             precision    recall  f1-score   support\n",
      "\n",
      "          0       0.82      0.04      0.08     15799\n",
      "          1       0.93      1.00      0.96    204306\n",
      "\n",
      "avg / total       0.92      0.93      0.90    220105\n",
      "\n",
      "Accuracy: 0.9306285636400808\n",
      "True Positive= 204161\n",
      "False Positive= 15124\n",
      "True Negative= 675\n",
      "False Negative= 145\n"
     ]
    }
   ],
   "source": [
    "from xgboost import XGBClassifier\n",
    "clf_xgb = XGBClassifier()\n",
    "clf_xgb.fit(X_train, y_train)\n",
    "y_pred = clf_xgb.predict(X_test)\n",
    "print(classification_report(y_test, y_pred))\n",
    "\n",
    "print ('Accuracy:', clf_xgb.score(X_test, y_test))\n",
    "\n",
    "y_pred = clf_xgb.predict(X_test)\n",
    "tn, fp, fn, tp = confusion_matrix(y_test, y_pred, labels=[0,1]).ravel()\n",
    "print ('True Positive=', tp)\n",
    "print ('False Positive=', fp)\n",
    "print ('True Negative=', tn)\n",
    "print ('False Negative=', fn)"
   ]
  },
  {
   "cell_type": "code",
   "execution_count": 24,
   "metadata": {},
   "outputs": [
    {
     "data": {
      "image/png": "[encoded data removed]",
      "text/plain": [
       "<matplotlib.figure.Figure at 0x186805a97b8>"
      ]
     },
     "metadata": {},
     "output_type": "display_data"
    }
   ],
   "source": [
    "imp = pd.DataFrame({\"Feature\": features, \"Score\": clf_xgb.feature_importances_ })\n",
    "imp = imp.sort_values(by = 'Score', ascending = False).head(10)\n",
    "plt.figure(figsize= (8,8))\n",
    "plt.barh(range(10),imp[\"Score\"])\n",
    "a = plt.yticks(range(10), importances[\"Feature\"])"
   ]
  },
  {
   "cell_type": "markdown",
   "metadata": {},
   "source": [
    "** OBSERVATION: XGBoost scored only 8% on Class 0 (loans that are not fully funded) while Class 1 (fully funded) was predicted at 96%. **"
   ]
  },
  {
   "cell_type": "markdown",
   "metadata": {},
   "source": [
    "### 4. Logistic Regression - UNADJUSTED"
   ]
  },
  {
   "cell_type": "code",
   "execution_count": 25,
   "metadata": {},
   "outputs": [
    {
     "name": "stdout",
     "output_type": "stream",
     "text": [
      "Score from Logisitic Regression is 92.77%\n",
      "             precision    recall  f1-score   support\n",
      "\n",
      "          0       0.46      0.04      0.07     15799\n",
      "          1       0.93      1.00      0.96    204306\n",
      "\n",
      "avg / total       0.90      0.93      0.90    220105\n",
      "\n",
      "True Positive= 203643\n",
      "False Positive= 15245\n",
      "True Negative= 554\n",
      "False Negative= 663\n"
     ]
    }
   ],
   "source": [
    "logisticRegr = LogisticRegression()\n",
    "logisticRegr.fit(X_train, y_train)\n",
    "y_pred = logisticRegr.predict(X_test)\n",
    "score = logisticRegr.score(X_test, y_test)\n",
    "print(\"Score from Logisitic Regression is %.2f%%\" %(score*100))\n",
    "\n",
    "print(classification_report(y_test, y_pred))\n",
    "\n",
    "tn, fp, fn, tp = confusion_matrix(y_test, y_pred, labels=[0,1]).ravel()\n",
    "print ('True Positive=', tp)\n",
    "print ('False Positive=', fp)\n",
    "print ('True Negative=', tn)\n",
    "print ('False Negative=', fn)"
   ]
  },
  {
   "cell_type": "markdown",
   "metadata": {},
   "source": [
    "### 5. Logistic Regression with Balanced Class weight and Grid Search Best Parameters"
   ]
  },
  {
   "cell_type": "code",
   "execution_count": 26,
   "metadata": {},
   "outputs": [
    {
     "name": "stdout",
     "output_type": "stream",
     "text": [
      "The best value for C {'C': 0.5}\n",
      "The best score 0.8985605099159708\n"
     ]
    }
   ],
   "source": [
    "lgr = LogisticRegression(penalty = 'l2', C=0.5)\n",
    "lgr.fit(X_train,y_train)\n",
    " \n",
    "cval = {'C': [0.0001, 0.001, 0.01, 0.1, 0.5, 1.0, 2.0, 10.0, 20.0, 30.0, 50.0, 100.0]}\n",
    "grid = GridSearchCV(estimator=lgr, param_grid=cval, cv=5,scoring='f1_weighted' )\n",
    "grid.fit(X_train, y_train)\n",
    "print('The best value for C', grid.best_params_)\n",
    "print('The best score',grid.best_score_)"
   ]
  },
  {
   "cell_type": "code",
   "execution_count": 27,
   "metadata": {},
   "outputs": [
    {
     "name": "stdout",
     "output_type": "stream",
     "text": [
      "Score from Logisitic Regression with balanced class is 72.57%\n",
      "             precision    recall  f1-score   support\n",
      "\n",
      "          0       0.17      0.76      0.28     15799\n",
      "          1       0.97      0.72      0.83    204306\n",
      "\n",
      "avg / total       0.92      0.73      0.79    220105\n",
      "\n",
      "Confusion Matrix after adding Class_weight\n",
      "True Positive= 147746\n",
      "False Positive= 3820\n",
      "True Negative= 11979\n",
      "False Negative= 56560\n"
     ]
    }
   ],
   "source": [
    "lgr = LogisticRegression(class_weight=\"balanced\", penalty = 'l2', C=0.5)\n",
    "lgr.fit(X_train,y_train)\n",
    "predict = lgr.predict(X_test)\n",
    "score1 = lgr.score(X_test, y_test)\n",
    "print(\"Score from Logisitic Regression with balanced class is %.2f%%\" %(score1*100))\n",
    "\n",
    "print(classification_report(y_test, predict))\n",
    "\n",
    "confusion_matrix(y_test, predict)\n",
    "tn, fp, fn, tp = confusion_matrix(y_test, predict, labels=[0,1]).ravel()\n",
    "print ('Confusion Matrix after adding Class_weight')\n",
    "print ('True Positive=', tp)\n",
    "print ('False Positive=', fp)\n",
    "print ('True Negative=', tn)\n",
    "print ('False Negative=', fn)"
   ]
  },
  {
   "cell_type": "markdown",
   "metadata": {},
   "source": [
    "### 6. Logistic Regression after Downsampling"
   ]
  },
  {
   "cell_type": "code",
   "execution_count": 28,
   "metadata": {},
   "outputs": [
    {
     "data": {
      "text/plain": [
       "1    47648\n",
       "0    47648\n",
       "Name: granted, dtype: int64"
      ]
     },
     "execution_count": 28,
     "metadata": {},
     "output_type": "execute_result"
    }
   ],
   "source": [
    "# Separate majority and minority classes\n",
    "from sklearn.utils import resample\n",
    "df_majority = df_loans1[df_loans1.granted == 1]\n",
    "df_minority = df_loans1[df_loans1.granted == 0]\n",
    "df_minority.shape\n",
    "\n",
    "# Downsample majority class\n",
    "df_majority_downsampled = resample(df_majority, \n",
    "                                 replace=False,    # sample without replacement\n",
    "                                 n_samples=47648,     # to match minority class\n",
    "                                 random_state=123) # reproducible results\n",
    "\n",
    "# Combine minority class with downsampled majority class\n",
    "df_downsampled = pd.concat([df_majority_downsampled, df_minority])\n",
    " \n",
    "# Display new class counts\n",
    "df_downsampled.granted.value_counts()"
   ]
  },
  {
   "cell_type": "code",
   "execution_count": 29,
   "metadata": {
    "collapsed": true
   },
   "outputs": [],
   "source": [
    "X_train_balanced, X_test_balanced, y_train_balanced, y_test_balanced = train_test_split(\n",
    "    df_downsampled.drop('granted', axis=1).values, df_downsampled['granted'].values, \n",
    "                 test_size=0.33, random_state=42)"
   ]
  },
  {
   "cell_type": "code",
   "execution_count": 37,
   "metadata": {},
   "outputs": [
    {
     "name": "stdout",
     "output_type": "stream",
     "text": [
      "Score from Logisitic Regression with balanced class is 74.69%\n",
      "             precision    recall  f1-score   support\n",
      "\n",
      "          0       0.73      0.77      0.75     15693\n",
      "          1       0.76      0.72      0.74     15755\n",
      "\n",
      "avg / total       0.74      0.74      0.74     31448\n",
      "\n",
      "Confusion Matrix after adding Class_weight\n",
      "True Positive= 11333\n",
      "False Positive= 3674\n",
      "True Negative= 12019\n",
      "False Negative= 4422\n"
     ]
    }
   ],
   "source": [
    "# Separate input features (X) and target variable (y)\n",
    "\n",
    "# Train model\n",
    "clf_2 = LogisticRegression(class_weight=\"balanced\", penalty = 'l2', C=0.5).fit(X_train_balanced, y_train_balanced)\n",
    " \n",
    "# Predict \n",
    "y_pred = clf_2.predict(X_test_balanced)\n",
    "\n",
    "score1 = lgr.score(X_test_balanced, y_test_balanced)\n",
    "print(\"Score from Logisitic Regression with balanced class is %.2f%%\" %(score1*100))\n",
    "\n",
    "# accuracy\n",
    "print(classification_report(y_test_balanced, y_pred))\n",
    "\n",
    "tn, fp, fn, tp = confusion_matrix(y_test_balanced, y_pred, labels=[0,1]).ravel()\n",
    "print ('Confusion Matrix after adding Class_weight')\n",
    "print ('True Positive=', tp)\n",
    "print ('False Positive=', fp)\n",
    "print ('True Negative=', tn)\n",
    "print ('False Negative=', fn)"
   ]
  },
  {
   "cell_type": "markdown",
   "metadata": {},
   "source": [
    "** OBSERVATION: After downsampling, Logistic Regression gave more balanced results with class 0(non funded) score increase from 7% to 75%. However, Class 1 scoring decreased due to the decrease in sample data. Overall, downsampling gave the best results for Logistic Regression **"
   ]
  },
  {
   "cell_type": "markdown",
   "metadata": {},
   "source": [
    "### 7. Revisit Random Forest with balanced data"
   ]
  },
  {
   "cell_type": "code",
   "execution_count": 40,
   "metadata": {},
   "outputs": [
    {
     "name": "stdout",
     "output_type": "stream",
     "text": [
      "Score from Logisitic Regression with balanced class is 79.83%\n",
      "             precision    recall  f1-score   support\n",
      "\n",
      "          0       0.78      0.83      0.80     15693\n",
      "          1       0.82      0.76      0.79     15755\n",
      "\n",
      "avg / total       0.80      0.80      0.80     31448\n",
      "\n",
      "Confusion Matrix after adding Class_weight\n",
      "True Positive= 12010\n",
      "False Positive= 2599\n",
      "True Negative= 13094\n",
      "False Negative= 3745\n"
     ]
    }
   ],
   "source": [
    "rfc = RandomForestClassifier(n_estimators=50)\n",
    "rfc.fit(X_train_balanced, y_train_balanced)\n",
    "y_pred = rfc.predict(X_test_balanced)\n",
    "\n",
    "score1 = rfc.score(X_test_balanced, y_test_balanced)\n",
    "print(\"Score from Logisitic Regression with balanced class is %.2f%%\" %(score1*100))\n",
    "\n",
    "print(classification_report(y_test_balanced, y_pred))\n",
    "\n",
    "tn, fp, fn, tp = confusion_matrix(y_test_balanced, y_pred, labels=[0,1]).ravel()\n",
    "print ('Confusion Matrix after adding Class_weight')\n",
    "print ('True Positive=', tp)\n",
    "print ('False Positive=', fp)\n",
    "print ('True Negative=', tn)\n",
    "print ('False Negative=', fn)"
   ]
  },
  {
   "cell_type": "markdown",
   "metadata": {},
   "source": [
    "** OBSERVATION: After downsampling, Random Forest gave more balanced results with class 0(non funded) score increase from 32% to 80%. However, Class 1 scoring decreased due to the decrease in sample data. Overall, Random Forest after downsampling did better than ANY other model above.**"
   ]
  },
  {
   "cell_type": "markdown",
   "metadata": {},
   "source": [
    "### Feature Importance based on SelectKBest"
   ]
  },
  {
   "cell_type": "code",
   "execution_count": 32,
   "metadata": {},
   "outputs": [
    {
     "name": "stdout",
     "output_type": "stream",
     "text": [
      "country_Mauritania\n",
      "country_Cote D'Ivoire\n",
      "loan_amount\n",
      "term_in_months\n",
      "repayment_interval_irregular\n",
      "country_United States\n",
      "country_Philippines\n",
      "country_El Salvador\n",
      "country_Colombia\n",
      "percent_female\n"
     ]
    }
   ],
   "source": [
    "from sklearn.feature_selection import SelectKBest\n",
    "from sklearn.feature_selection import chi2\n",
    "\n",
    "# feature extraction\n",
    "test = SelectKBest(score_func=chi2, k=10)\n",
    "fit = test.fit(X_train, y_train)\n",
    "# summarize scores\n",
    "np.set_printoptions(precision=3)\n",
    "\n",
    "sorted_features = features[fit.scores_.argsort()]\n",
    "for i, x in enumerate(features[fit.scores_.argsort()].tolist()[::-1][:10]):\n",
    "    print(x)"
   ]
  },
  {
   "cell_type": "markdown",
   "metadata": {},
   "source": [
    "### 8. Unsupervised Learning"
   ]
  },
  {
   "cell_type": "code",
   "execution_count": 33,
   "metadata": {},
   "outputs": [
    {
     "data": {
      "image/png": "[encoded data removed]",
      "text/plain": [
       "<matplotlib.figure.Figure at 0x18680643128>"
      ]
     },
     "metadata": {},
     "output_type": "display_data"
    }
   ],
   "source": [
    "pca = PCA(n_components=10)\n",
    "train_data_comp = pca.fit_transform(X_train)\n",
    "\n",
    "test_data_comp = pca.transform(X_test)\n",
    "\n",
    "km = KMeans(n_clusters=2, init='k-means++')\n",
    "clstrs = km.fit(train_data_comp)\n",
    "\n",
    "plt.scatter(train_data_comp[:,0], train_data_comp[:,1], c=clstrs.labels_)\n",
    "plt.plot(clstrs.cluster_centers_[:,0], clstrs.cluster_centers_[:,1], 'ro')  \n",
    "plt.show() \n"
   ]
  },
  {
   "cell_type": "code",
   "execution_count": 34,
   "metadata": {},
   "outputs": [
    {
     "name": "stdout",
     "output_type": "stream",
     "text": [
      "GMM Accuracy = 65.42% percent\n",
      "             precision    recall  f1-score   support\n",
      "\n",
      "          0       0.14      0.73      0.23     15799\n",
      "          1       0.97      0.65      0.78    204306\n",
      "\n",
      "avg / total       0.91      0.65      0.74    220105\n",
      "\n"
     ]
    }
   ],
   "source": [
    "clf_pos = GMM(n_components=2, covariance_type='full')\n",
    "clf_pos.fit(train_data_comp[y_train == 1, :])\n",
    "\n",
    "clf_neg = GMM(n_components=2, covariance_type='full')\n",
    "clf_neg.fit(train_data_comp[y_train == 0, :])\n",
    "\n",
    "prob_pos = clf_pos.score_samples(test_data_comp)\n",
    "prob_neg = clf_neg.score_samples(test_data_comp)\n",
    "    \n",
    "test_class1 = (prob_pos> prob_neg).astype(int)\n",
    "\n",
    "print (\"GMM Accuracy = %.2f%% percent\" %(np.mean(test_class1 == y_test)*100))\n",
    "print(classification_report(y_test, test_class1))"
   ]
  },
  {
   "cell_type": "code",
   "execution_count": 35,
   "metadata": {},
   "outputs": [
    {
     "name": "stdout",
     "output_type": "stream",
     "text": [
      "GMM Accuracy = 70.47% percent\n",
      "             precision    recall  f1-score   support\n",
      "\n",
      "          0       0.68      0.76      0.72     15693\n",
      "          1       0.73      0.65      0.69     15755\n",
      "\n",
      "avg / total       0.71      0.70      0.70     31448\n",
      "\n"
     ]
    }
   ],
   "source": [
    "pca = PCA(n_components=10)\n",
    "train_data_comp = pca.fit_transform(X_train_balanced)\n",
    "test_data_comp = pca.transform(X_test_balanced)\n",
    "\n",
    "clf_pos = GMM(n_components=2, covariance_type='full')\n",
    "clf_pos.fit(train_data_comp[y_train_balanced == 1, :])\n",
    "\n",
    "clf_neg = GMM(n_components=2, covariance_type='full')\n",
    "clf_neg.fit(train_data_comp[y_train_balanced == 0, :])\n",
    "\n",
    "prob_pos = clf_pos.score_samples(test_data_comp)\n",
    "prob_neg = clf_neg.score_samples(test_data_comp)\n",
    "    \n",
    "test_class1 = (prob_pos> prob_neg).astype(int)\n",
    "\n",
    "print (\"GMM Accuracy = %.2f%% percent\" %(np.mean(test_class1 == y_test_balanced)*100))\n",
    "print(classification_report(y_test_balanced, test_class1))"
   ]
  },
  {
   "cell_type": "markdown",
   "metadata": {},
   "source": [
    "** OBSERVATION: GMM did a lot better after downsampling (Class 0 score increased from 23% to 72%). However, this is still lower than Supervised Learning prediction.**"
   ]
  },
  {
   "cell_type": "markdown",
   "metadata": {},
   "source": [
    "## Summary"
   ]
  },
  {
   "cell_type": "markdown",
   "metadata": {},
   "source": [
    "| Model                                 | Overall Accuracy | 0 score | 1 score | False Positive | False Negative |\n",
    "|---------------------------------------|------------------|---------|---------|----------------|----------------|\n",
    "| Random Forest                         |       92.6%      |   32%   |   96%   |      11941     |      4334      |\n",
    "| Decision Tree                         |       92.8%      |    0%   |   96%   |                |                |\n",
    "| XG Boost                              |       93.1%      |    8%   |   96%   |      15124     |       675      |\n",
    "| Logistic Reg - Unadj                  |       92.8%      |    7%   |   96%   |      15245     |       663      |\n",
    "| Logistic Reg after Parameter tuning   |       72.6%      |   28%   |   83%   |      3820      |      56560     |\n",
    "| Logistic Reg after Downsampling       |      74.69%      |   75%   |   74%   |      3674      |      4422      |\n",
    "| Random Forest after Downsampling      |      79.97%      |   81%   |   79%   |      2599      |      3745      |\n",
    "| Unsupervised -   GMM                  |       65.4%      |   23%   |   78%   |                |                |\n",
    "| Unsupervised - GMM after Downsampling |      70.47%      |   72%   |   69%   |                |                |"
   ]
  },
  {
   "cell_type": "markdown",
   "metadata": {},
   "source": [
    "## Version 2"
   ]
  },
  {
   "cell_type": "code",
   "execution_count": null,
   "metadata": {
    "collapsed": true
   },
   "outputs": [],
   "source": []
  },
  {
   "cell_type": "markdown",
   "metadata": {},
   "source": [
    "## Version 3"
   ]
  },
  {
   "cell_type": "code",
   "execution_count": null,
   "metadata": {
    "collapsed": true
   },
   "outputs": [],
   "source": []
  }
 ],
 "metadata": {
  "kernelspec": {
   "display_name": "Python 3",
   "language": "python",
   "name": "python3"
  },
  "language_info": {
   "codemirror_mode": {
    "name": "ipython",
    "version": 3
   },
   "file_extension": ".py",
   "mimetype": "text/x-python",
   "name": "python",
   "nbconvert_exporter": "python",
   "pygments_lexer": "ipython3",
   "version": "3.6.3"
  }
 },
 "nbformat": 4,
 "nbformat_minor": 2
}
