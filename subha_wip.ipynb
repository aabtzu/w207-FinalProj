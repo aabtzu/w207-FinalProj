{
 "cells": [
  {
   "cell_type": "markdown",
   "metadata": {},
   "source": [
    "# Kiva Crowdfunding"
   ]
  },
  {
   "cell_type": "markdown",
   "metadata": {},
   "source": [
    "*Kiva.org is an online crowdfunding platform to extend financial services to poor and financially excluded people around the world. Kiva lenders have provided over $1 billion dollars in loans to over 2 million people. In order to set investment priorities, help inform lenders, and understand their target communities, knowing the level of poverty of each borrower is critical. However, this requires inference based on a limited set of information for each borrower.*"
   ]
  },
  {
   "cell_type": "markdown",
   "metadata": {},
   "source": [
    "## Prediction and Models\n",
    "\n",
    "* Not all loan requests are funded (about 3383 records in loans dataset that are not funded). Is there a pattern among the loans not funded?  \n",
    "\n",
    "* Group Loans into Clusters and identify Top Features [Unsupervised Learning]. \n",
    "\n",
    "* Predict if a loan request is likely to get funded or not [Logistic Regression] \n"
   ]
  },
  {
   "cell_type": "code",
   "execution_count": 1,
   "metadata": {
    "scrolled": true
   },
   "outputs": [
    {
     "data": {
      "text/html": [
       "<script type=\"text/javascript\">window.PlotlyConfig = {MathJaxConfig: 'local'};</script><script type=\"text/javascript\">if (window.MathJax) {MathJax.Hub.Config({SVG: {font: \"STIX-Web\"}});}</script><script>requirejs.config({paths: { 'plotly': ['https://cdn.plot.ly/plotly-latest.min']},});if(!window._Plotly) {require(['plotly'],function(plotly) {window._Plotly=plotly;});}</script>"
      ],
      "text/vnd.plotly.v1+html": [
       "<script type=\"text/javascript\">window.PlotlyConfig = {MathJaxConfig: 'local'};</script><script type=\"text/javascript\">if (window.MathJax) {MathJax.Hub.Config({SVG: {font: \"STIX-Web\"}});}</script><script>requirejs.config({paths: { 'plotly': ['https://cdn.plot.ly/plotly-latest.min']},});if(!window._Plotly) {require(['plotly'],function(plotly) {window._Plotly=plotly;});}</script>"
      ]
     },
     "metadata": {},
     "output_type": "display_data"
    }
   ],
   "source": [
    "%matplotlib inline\n",
    "\n",
    "# General libraries.\n",
    "import re\n",
    "import math\n",
    "import numpy as np\n",
    "import collections\n",
    "import matplotlib.pyplot as plt\n",
    "import pandas as pd\n",
    "import os\n",
    "import seaborn as sns\n",
    "from mpl_toolkits.basemap import Basemap\n",
    "color = sns.color_palette()\n",
    "import plotly\n",
    "plotly.offline.init_notebook_mode(connected=True)\n",
    "import plotly.offline as py\n",
    "from sklearn import datasets\n",
    "from sklearn import metrics\n",
    "from sklearn.preprocessing import StandardScaler\n",
    "from sklearn import cluster, mixture # For clustering \n",
    "from sklearn.cluster import KMeans\n",
    "from sklearn.decomposition import PCA\n",
    "from sklearn.mixture import GaussianMixture as GMM\n",
    "from sklearn.model_selection import train_test_split \n",
    "from sklearn.linear_model import LinearRegression\n",
    "from sklearn.metrics import silhouette_samples, silhouette_score, confusion_matrix\n",
    "from sklearn.ensemble import RandomForestClassifier\n",
    "from sklearn.linear_model import LogisticRegression\n",
    "from sklearn import feature_selection\n",
    "    \n",
    "import warnings\n",
    "warnings.filterwarnings('ignore')"
   ]
  },
  {
   "cell_type": "markdown",
   "metadata": {},
   "source": [
    "## EDA - LOOK AT THE OTHER FILE. THIS ONE IS JUST MODELS"
   ]
  },
  {
   "cell_type": "markdown",
   "metadata": {},
   "source": [
    "### Kiva Loans"
   ]
  },
  {
   "cell_type": "code",
   "execution_count": 2,
   "metadata": {},
   "outputs": [
    {
     "data": {
      "text/html": [
       "<div>\n",
       "<style>\n",
       "    .dataframe thead tr:only-child th {\n",
       "        text-align: right;\n",
       "    }\n",
       "\n",
       "    .dataframe thead th {\n",
       "        text-align: left;\n",
       "    }\n",
       "\n",
       "    .dataframe tbody tr th {\n",
       "        vertical-align: top;\n",
       "    }\n",
       "</style>\n",
       "<table border=\"1\" class=\"dataframe\">\n",
       "  <thead>\n",
       "    <tr style=\"text-align: right;\">\n",
       "      <th></th>\n",
       "      <th>id</th>\n",
       "      <th>funded_amount</th>\n",
       "      <th>loan_amount</th>\n",
       "      <th>activity</th>\n",
       "      <th>sector</th>\n",
       "      <th>use</th>\n",
       "      <th>country_code</th>\n",
       "      <th>country</th>\n",
       "      <th>region</th>\n",
       "      <th>currency</th>\n",
       "      <th>partner_id</th>\n",
       "      <th>posted_time</th>\n",
       "      <th>disbursed_time</th>\n",
       "      <th>funded_time</th>\n",
       "      <th>term_in_months</th>\n",
       "      <th>lender_count</th>\n",
       "      <th>tags</th>\n",
       "      <th>borrower_genders</th>\n",
       "      <th>repayment_interval</th>\n",
       "      <th>date</th>\n",
       "    </tr>\n",
       "  </thead>\n",
       "  <tbody>\n",
       "    <tr>\n",
       "      <th>0</th>\n",
       "      <td>653051</td>\n",
       "      <td>300.0</td>\n",
       "      <td>300.0</td>\n",
       "      <td>Fruits &amp; Vegetables</td>\n",
       "      <td>Food</td>\n",
       "      <td>To buy seasonal, fresh fruits to sell.</td>\n",
       "      <td>PK</td>\n",
       "      <td>Pakistan</td>\n",
       "      <td>Lahore</td>\n",
       "      <td>PKR</td>\n",
       "      <td>247.0</td>\n",
       "      <td>2014-01-01 06:12:39+00:00</td>\n",
       "      <td>2013-12-17 08:00:00+00:00</td>\n",
       "      <td>2014-01-02 10:06:32+00:00</td>\n",
       "      <td>12.0</td>\n",
       "      <td>12</td>\n",
       "      <td>NaN</td>\n",
       "      <td>female</td>\n",
       "      <td>irregular</td>\n",
       "      <td>2014-01-01</td>\n",
       "    </tr>\n",
       "    <tr>\n",
       "      <th>1</th>\n",
       "      <td>653053</td>\n",
       "      <td>575.0</td>\n",
       "      <td>575.0</td>\n",
       "      <td>Rickshaw</td>\n",
       "      <td>Transportation</td>\n",
       "      <td>to repair and maintain the auto rickshaw used ...</td>\n",
       "      <td>PK</td>\n",
       "      <td>Pakistan</td>\n",
       "      <td>Lahore</td>\n",
       "      <td>PKR</td>\n",
       "      <td>247.0</td>\n",
       "      <td>2014-01-01 06:51:08+00:00</td>\n",
       "      <td>2013-12-17 08:00:00+00:00</td>\n",
       "      <td>2014-01-02 09:17:23+00:00</td>\n",
       "      <td>11.0</td>\n",
       "      <td>14</td>\n",
       "      <td>NaN</td>\n",
       "      <td>female, female</td>\n",
       "      <td>irregular</td>\n",
       "      <td>2014-01-01</td>\n",
       "    </tr>\n",
       "    <tr>\n",
       "      <th>2</th>\n",
       "      <td>653068</td>\n",
       "      <td>150.0</td>\n",
       "      <td>150.0</td>\n",
       "      <td>Transportation</td>\n",
       "      <td>Transportation</td>\n",
       "      <td>To repair their old cycle-van and buy another ...</td>\n",
       "      <td>IN</td>\n",
       "      <td>India</td>\n",
       "      <td>Maynaguri</td>\n",
       "      <td>INR</td>\n",
       "      <td>334.0</td>\n",
       "      <td>2014-01-01 09:58:07+00:00</td>\n",
       "      <td>2013-12-17 08:00:00+00:00</td>\n",
       "      <td>2014-01-01 16:01:36+00:00</td>\n",
       "      <td>43.0</td>\n",
       "      <td>6</td>\n",
       "      <td>user_favorite, user_favorite</td>\n",
       "      <td>female</td>\n",
       "      <td>bullet</td>\n",
       "      <td>2014-01-01</td>\n",
       "    </tr>\n",
       "    <tr>\n",
       "      <th>3</th>\n",
       "      <td>653063</td>\n",
       "      <td>200.0</td>\n",
       "      <td>200.0</td>\n",
       "      <td>Embroidery</td>\n",
       "      <td>Arts</td>\n",
       "      <td>to purchase an embroidery machine and a variet...</td>\n",
       "      <td>PK</td>\n",
       "      <td>Pakistan</td>\n",
       "      <td>Lahore</td>\n",
       "      <td>PKR</td>\n",
       "      <td>247.0</td>\n",
       "      <td>2014-01-01 08:03:11+00:00</td>\n",
       "      <td>2013-12-24 08:00:00+00:00</td>\n",
       "      <td>2014-01-01 13:00:00+00:00</td>\n",
       "      <td>11.0</td>\n",
       "      <td>8</td>\n",
       "      <td>NaN</td>\n",
       "      <td>female</td>\n",
       "      <td>irregular</td>\n",
       "      <td>2014-01-01</td>\n",
       "    </tr>\n",
       "    <tr>\n",
       "      <th>4</th>\n",
       "      <td>653084</td>\n",
       "      <td>400.0</td>\n",
       "      <td>400.0</td>\n",
       "      <td>Milk Sales</td>\n",
       "      <td>Food</td>\n",
       "      <td>to purchase one buffalo.</td>\n",
       "      <td>PK</td>\n",
       "      <td>Pakistan</td>\n",
       "      <td>Abdul Hakeem</td>\n",
       "      <td>PKR</td>\n",
       "      <td>245.0</td>\n",
       "      <td>2014-01-01 11:53:19+00:00</td>\n",
       "      <td>2013-12-17 08:00:00+00:00</td>\n",
       "      <td>2014-01-01 19:18:51+00:00</td>\n",
       "      <td>14.0</td>\n",
       "      <td>16</td>\n",
       "      <td>NaN</td>\n",
       "      <td>female</td>\n",
       "      <td>monthly</td>\n",
       "      <td>2014-01-01</td>\n",
       "    </tr>\n",
       "  </tbody>\n",
       "</table>\n",
       "</div>"
      ],
      "text/plain": [
       "       id  funded_amount  loan_amount             activity          sector  \\\n",
       "0  653051          300.0        300.0  Fruits & Vegetables            Food   \n",
       "1  653053          575.0        575.0             Rickshaw  Transportation   \n",
       "2  653068          150.0        150.0       Transportation  Transportation   \n",
       "3  653063          200.0        200.0           Embroidery            Arts   \n",
       "4  653084          400.0        400.0           Milk Sales            Food   \n",
       "\n",
       "                                                 use country_code   country  \\\n",
       "0            To buy seasonal, fresh fruits to sell.            PK  Pakistan   \n",
       "1  to repair and maintain the auto rickshaw used ...           PK  Pakistan   \n",
       "2  To repair their old cycle-van and buy another ...           IN     India   \n",
       "3  to purchase an embroidery machine and a variet...           PK  Pakistan   \n",
       "4                           to purchase one buffalo.           PK  Pakistan   \n",
       "\n",
       "         region currency  partner_id                posted_time  \\\n",
       "0        Lahore      PKR       247.0  2014-01-01 06:12:39+00:00   \n",
       "1        Lahore      PKR       247.0  2014-01-01 06:51:08+00:00   \n",
       "2     Maynaguri      INR       334.0  2014-01-01 09:58:07+00:00   \n",
       "3        Lahore      PKR       247.0  2014-01-01 08:03:11+00:00   \n",
       "4  Abdul Hakeem      PKR       245.0  2014-01-01 11:53:19+00:00   \n",
       "\n",
       "              disbursed_time                funded_time  term_in_months  \\\n",
       "0  2013-12-17 08:00:00+00:00  2014-01-02 10:06:32+00:00            12.0   \n",
       "1  2013-12-17 08:00:00+00:00  2014-01-02 09:17:23+00:00            11.0   \n",
       "2  2013-12-17 08:00:00+00:00  2014-01-01 16:01:36+00:00            43.0   \n",
       "3  2013-12-24 08:00:00+00:00  2014-01-01 13:00:00+00:00            11.0   \n",
       "4  2013-12-17 08:00:00+00:00  2014-01-01 19:18:51+00:00            14.0   \n",
       "\n",
       "   lender_count                          tags borrower_genders  \\\n",
       "0            12                           NaN           female   \n",
       "1            14                           NaN   female, female   \n",
       "2             6  user_favorite, user_favorite           female   \n",
       "3             8                           NaN           female   \n",
       "4            16                           NaN           female   \n",
       "\n",
       "  repayment_interval        date  \n",
       "0          irregular  2014-01-01  \n",
       "1          irregular  2014-01-01  \n",
       "2             bullet  2014-01-01  \n",
       "3          irregular  2014-01-01  \n",
       "4            monthly  2014-01-01  "
      ]
     },
     "execution_count": 2,
     "metadata": {},
     "output_type": "execute_result"
    }
   ],
   "source": [
    "df_kiva_loans = pd.read_csv(\"kiva_loans.csv\")\n",
    "df_kiva_loans.head()\n",
    "#df_kiva_loans.describe(include = 'all')"
   ]
  },
  {
   "cell_type": "code",
   "execution_count": 3,
   "metadata": {},
   "outputs": [
    {
     "data": {
      "text/plain": [
       "female                                                                                                                                                                                                                                426502\n",
       "male                                                                                                                                                                                                                                  134710\n",
       "female, female                                                                                                                                                                                                                         12164\n",
       "female, female, female                                                                                                                                                                                                                 11676\n",
       "female, female, female, female                                                                                                                                                                                                          9052\n",
       "female, female, female, female, female                                                                                                                                                                                                  7568\n",
       "female, female, female, female, female, female                                                                                                                                                                                          2674\n",
       "female, female, female, female, female, female, female, female, female, female                                                                                                                                                          2185\n",
       "female, female, female, female, female, female, female                                                                                                                                                                                  2127\n",
       "female, female, female, female, female, female, female, female                                                                                                                                                                          1936\n",
       "female, female, female, female, female, female, female, female, female, female, female, female, female, female, female, female, female                                                                                                  1692\n",
       "male, female                                                                                                                                                                                                                            1572\n",
       "female, male                                                                                                                                                                                                                            1532\n",
       "female, female, female, female, female, female, female, female, female, female, female, female, female, female, female                                                                                                                  1283\n",
       "female, female, female, female, female, female, female, female, female                                                                                                                                                                  1207\n",
       "female, female, female, female, female, female, female, female, female, female, female, female, female, female, female, female, female, female                                                                                           999\n",
       "male, male                                                                                                                                                                                                                               944\n",
       "male, female, female                                                                                                                                                                                                                     900\n",
       "female, male, female                                                                                                                                                                                                                     896\n",
       "female, female, male                                                                                                                                                                                                                     881\n",
       "female, female, female, female, female, female, female, female, female, female, female, female, female, female, female, female                                                                                                           837\n",
       "male, male, male                                                                                                                                                                                                                         827\n",
       "female, female, female, female, female, female, female, female, female, female, female                                                                                                                                                   745\n",
       "female, female, female, female, female, female, female, female, female, female, female, female, female, female, female, female, female, female, female                                                                                   734\n",
       "female, female, female, female, female, female, female, female, female, female, female, female, female, female, female, female, female, female, female, female                                                                           696\n",
       "male, male, male, male, male                                                                                                                                                                                                             613\n",
       "female, male, female, female                                                                                                                                                                                                             604\n",
       "female, female, male, female                                                                                                                                                                                                             596\n",
       "female, female, female, female, female, female, female, female, female, female, female, female                                                                                                                                           573\n",
       "female, female, female, male                                                                                                                                                                                                             568\n",
       "                                                                                                                                                                                                                                       ...  \n",
       "female, female, female, female, female, female, female, female, female, female, female, female, male, female, female, female, female, female, female                                                                                       1\n",
       "male, female, female, female, female, female, female, female, male, male, female, female                                                                                                                                                   1\n",
       "female, female, female, female, female, male, male, male, female, female, female, female, male, female, female, female, female, female, female, female, female, female, female, female, female, male, female, female, male, female         1\n",
       "female, female, male, female, female, male, female, female, male, male, male, female, female                                                                                                                                               1\n",
       "female, female, male, female, female, female, female, male, female, female, female, male, male, female, female                                                                                                                             1\n",
       "female, male, male, female, female, female, female, male, female, female, female, male, female, female, male, female, female, male, female, male, male, female, male                                                                       1\n",
       "male, female, female, female, female, female, female, female, male, female, female, female, male, female, female, male, female, female, female, male, female, male, male, female                                                           1\n",
       "male, female, male, female, female, female, male, female, female, male, male, female, female, male, female, female, female, female, female, female, female, female, female, female, male, female, male                                     1\n",
       "male, male, female, male, male, male, male, male, male, male, female, male, male, male                                                                                                                                                     1\n",
       "female, female, female, female, female, female, female, male, female, male, male, female, male                                                                                                                                             1\n",
       "female, male, female, female, male, female, female, female, female, male, male, female, female, female, male, female, female, female, female, female                                                                                       1\n",
       "female, female, male, female, female, female, female, male, female, female, male, female, female, female, female, male                                                                                                                     1\n",
       "male, male, male, female, female, male, male, female, male, female, male, female, female, female, female, female, female, male, male, female, male, male, male, female, female, female, female, female, female, female                     1\n",
       "female, female, male, female, male, female, male, female, female, female, male                                                                                                                                                             1\n",
       "male, male, male, male, male, male, male, female, female, female, female, male                                                                                                                                                             1\n",
       "female, female, male, female, female, female, female, female, female, female, female, female, female, male, female, female, female, female, female, male, female                                                                           1\n",
       "female, female, female, female, male, female, female, male, female, male, female, female                                                                                                                                                   1\n",
       "female, male, female, female, female, male, female, female, male, male, male, male, female, female                                                                                                                                         1\n",
       "female, female, female, male, female, female, male, female, female, female, female, female, female, female, female, female, female, female, female, female                                                                                 1\n",
       "female, female, female, female, female, female, male, female, male, female, male, female, female, female                                                                                                                                   1\n",
       "male, male, male, female, male, male, male, male, female, male, female, male, male, female, male, male, female, female                                                                                                                     1\n",
       "male, male, male, male, female, female, female, female, female, female, male, male, male, male, male, female, male, female, female, female                                                                                                 1\n",
       "female, female, female, female, female, female, female, female, female, male, female, female, female, female, male                                                                                                                         1\n",
       "male, male, male, male, female, male, male, female, female, male, male, male, female                                                                                                                                                       1\n",
       "male, female, male, female, male, female, female, male, male, male, male, male, male, male                                                                                                                                                 1\n",
       "female, female, male, male, male, male, female, male, female, female, female, female, female, male, male, female, female                                                                                                                   1\n",
       "female, female, male, female, male, female, female, female, female, female, female, female, female, female, female, female, female, male, female, female, female, female, female, female, female, female                                   1\n",
       "male, female, female, female, female, male, male, female, female, male, female, female, male, female, female                                                                                                                               1\n",
       "male, male, male, male, male, female, male, male, male, male, male, male, male, male, female, male                                                                                                                                         1\n",
       "female, male, male, female, male, male, male, male, male, male, male, male, female, male, male, female, male, female                                                                                                                       1\n",
       "Name: borrower_genders, Length: 11298, dtype: int64"
      ]
     },
     "execution_count": 3,
     "metadata": {},
     "output_type": "execute_result"
    }
   ],
   "source": [
    "df_kiva_loans['borrower_genders'].value_counts()"
   ]
  },
  {
   "cell_type": "code",
   "execution_count": 4,
   "metadata": {},
   "outputs": [
    {
     "data": {
      "text/html": [
       "<div>\n",
       "<style>\n",
       "    .dataframe thead tr:only-child th {\n",
       "        text-align: right;\n",
       "    }\n",
       "\n",
       "    .dataframe thead th {\n",
       "        text-align: left;\n",
       "    }\n",
       "\n",
       "    .dataframe tbody tr th {\n",
       "        vertical-align: top;\n",
       "    }\n",
       "</style>\n",
       "<table border=\"1\" class=\"dataframe\">\n",
       "  <thead>\n",
       "    <tr style=\"text-align: right;\">\n",
       "      <th></th>\n",
       "      <th>id</th>\n",
       "      <th>funded_amount</th>\n",
       "      <th>loan_amount</th>\n",
       "      <th>partner_id</th>\n",
       "      <th>term_in_months</th>\n",
       "      <th>lender_count</th>\n",
       "    </tr>\n",
       "  </thead>\n",
       "  <tbody>\n",
       "    <tr>\n",
       "      <th>count</th>\n",
       "      <td>6.712050e+05</td>\n",
       "      <td>671205.000000</td>\n",
       "      <td>671205.000000</td>\n",
       "      <td>657698.000000</td>\n",
       "      <td>671205.000000</td>\n",
       "      <td>671205.000000</td>\n",
       "    </tr>\n",
       "    <tr>\n",
       "      <th>mean</th>\n",
       "      <td>9.932486e+05</td>\n",
       "      <td>785.995061</td>\n",
       "      <td>842.397107</td>\n",
       "      <td>178.199616</td>\n",
       "      <td>13.739022</td>\n",
       "      <td>20.590922</td>\n",
       "    </tr>\n",
       "    <tr>\n",
       "      <th>std</th>\n",
       "      <td>1.966113e+05</td>\n",
       "      <td>1130.398941</td>\n",
       "      <td>1198.660073</td>\n",
       "      <td>94.247581</td>\n",
       "      <td>8.598919</td>\n",
       "      <td>28.459551</td>\n",
       "    </tr>\n",
       "    <tr>\n",
       "      <th>min</th>\n",
       "      <td>6.530470e+05</td>\n",
       "      <td>0.000000</td>\n",
       "      <td>25.000000</td>\n",
       "      <td>9.000000</td>\n",
       "      <td>1.000000</td>\n",
       "      <td>0.000000</td>\n",
       "    </tr>\n",
       "    <tr>\n",
       "      <th>25%</th>\n",
       "      <td>8.230720e+05</td>\n",
       "      <td>250.000000</td>\n",
       "      <td>275.000000</td>\n",
       "      <td>126.000000</td>\n",
       "      <td>8.000000</td>\n",
       "      <td>7.000000</td>\n",
       "    </tr>\n",
       "    <tr>\n",
       "      <th>50%</th>\n",
       "      <td>9.927800e+05</td>\n",
       "      <td>450.000000</td>\n",
       "      <td>500.000000</td>\n",
       "      <td>145.000000</td>\n",
       "      <td>13.000000</td>\n",
       "      <td>13.000000</td>\n",
       "    </tr>\n",
       "    <tr>\n",
       "      <th>75%</th>\n",
       "      <td>1.163653e+06</td>\n",
       "      <td>900.000000</td>\n",
       "      <td>1000.000000</td>\n",
       "      <td>204.000000</td>\n",
       "      <td>14.000000</td>\n",
       "      <td>24.000000</td>\n",
       "    </tr>\n",
       "    <tr>\n",
       "      <th>max</th>\n",
       "      <td>1.340339e+06</td>\n",
       "      <td>100000.000000</td>\n",
       "      <td>100000.000000</td>\n",
       "      <td>536.000000</td>\n",
       "      <td>158.000000</td>\n",
       "      <td>2986.000000</td>\n",
       "    </tr>\n",
       "  </tbody>\n",
       "</table>\n",
       "</div>"
      ],
      "text/plain": [
       "                 id  funded_amount    loan_amount     partner_id  \\\n",
       "count  6.712050e+05  671205.000000  671205.000000  657698.000000   \n",
       "mean   9.932486e+05     785.995061     842.397107     178.199616   \n",
       "std    1.966113e+05    1130.398941    1198.660073      94.247581   \n",
       "min    6.530470e+05       0.000000      25.000000       9.000000   \n",
       "25%    8.230720e+05     250.000000     275.000000     126.000000   \n",
       "50%    9.927800e+05     450.000000     500.000000     145.000000   \n",
       "75%    1.163653e+06     900.000000    1000.000000     204.000000   \n",
       "max    1.340339e+06  100000.000000  100000.000000     536.000000   \n",
       "\n",
       "       term_in_months   lender_count  \n",
       "count   671205.000000  671205.000000  \n",
       "mean        13.739022      20.590922  \n",
       "std          8.598919      28.459551  \n",
       "min          1.000000       0.000000  \n",
       "25%          8.000000       7.000000  \n",
       "50%         13.000000      13.000000  \n",
       "75%         14.000000      24.000000  \n",
       "max        158.000000    2986.000000  "
      ]
     },
     "execution_count": 4,
     "metadata": {},
     "output_type": "execute_result"
    }
   ],
   "source": [
    "df_kiva_loans.describe()"
   ]
  },
  {
   "cell_type": "markdown",
   "metadata": {},
   "source": [
    "** OBSERVATION: Funded Amount, Loan Amount and Lender Count are highly correlated**\n"
   ]
  },
  {
   "cell_type": "code",
   "execution_count": 5,
   "metadata": {},
   "outputs": [
    {
     "data": {
      "text/plain": [
       "(3383, 20)"
      ]
     },
     "execution_count": 5,
     "metadata": {},
     "output_type": "execute_result"
    }
   ],
   "source": [
    "# Identify rows with no funding (Funding amount = 0)\n",
    "df_nofund = df_kiva_loans[(df_kiva_loans['funded_amount']==0)]\n",
    "df_nofund.shape"
   ]
  },
  {
   "cell_type": "markdown",
   "metadata": {},
   "source": [
    "\n",
    " **OBSERVATION: There are about 3383 rows with funded amount = 0**  <font size=\"4\">$\\color{red}{\\text{Is there any pattern among loans that are not funded?}}$ </font>\n"
   ]
  },
  {
   "cell_type": "markdown",
   "metadata": {},
   "source": [
    "**OBSERVATION: Philippines, Kenya and El Salvador are the top 3 countries featuring in Loans dataset.  United States, Kenya and Pakistan are the countries top countries with loan amount not funded**"
   ]
  },
  {
   "cell_type": "markdown",
   "metadata": {},
   "source": [
    "**OBSERVATION: Agriculture, Food and Retail are the top 3 sectors based on Loan Amount.  And these are the top 3 that are not getting funds **"
   ]
  },
  {
   "cell_type": "markdown",
   "metadata": {},
   "source": [
    "** OBSERVATION: Farming is the top activity based on Loan Amount, followed by General Store and Personal Housing Expenses**"
   ]
  },
  {
   "cell_type": "markdown",
   "metadata": {},
   "source": [
    "** OBSERVATION: There are more Female borrowers than male **"
   ]
  },
  {
   "cell_type": "code",
   "execution_count": 6,
   "metadata": {},
   "outputs": [
    {
     "data": {
      "image/png": "[encoded data removed]",
      "text/plain": [
       "<matplotlib.figure.Figure at 0x1d7415e0d30>"
      ]
     },
     "metadata": {},
     "output_type": "display_data"
    }
   ],
   "source": [
    "# Determine Time Taken for Funding. It is Loan Posted Time - Funded Time\n",
    "\n",
    "df_funded = df_kiva_loans[(df_kiva_loans['funded_amount']!=0)]\n",
    "df_funded.dropna()\n",
    "df_funded.shape\n",
    "\n",
    "df_funded['funded_time'] = pd.to_datetime(df_funded['funded_time'])\n",
    "df_funded['posted_time'] = pd.to_datetime(df_funded['posted_time'])    \n",
    "time_to_fund = (df_funded.funded_time - df_funded.posted_time)\n",
    "time_to_fund_in_days = (time_to_fund.astype('timedelta64[s]')/(3600 * 24))\n",
    "df_funded = df_funded.assign(time_to_fund=time_to_fund)\n",
    "df_funded = df_funded.assign(time_to_fund_in_days=time_to_fund_in_days)\n",
    "df_funded.time_to_fund_in_days.plot.hist();"
   ]
  },
  {
   "cell_type": "code",
   "execution_count": 7,
   "metadata": {},
   "outputs": [
    {
     "name": "stdout",
     "output_type": "stream",
     "text": [
      "Top Countries with funded amount (Mean values)\n",
      " country\n",
      "Cote D'Ivoire         50000.000000\n",
      "Mauritania            15000.000000\n",
      "Bhutan                 7812.500000\n",
      "Chile                  7625.000000\n",
      "Afghanistan            7000.000000\n",
      "Congo                  6142.578125\n",
      "Puerto Rico            4409.191176\n",
      "Dominican Republic     4200.604839\n",
      "Namibia                4046.875000\n",
      "United States          3800.843591\n",
      "Name: funded_amount, dtype: float64\n"
     ]
    }
   ],
   "source": [
    "countries_funded_amount = df_kiva_loans.groupby('country').mean()['funded_amount'].sort_values(ascending = False)\n",
    "print(\"Top Countries with funded amount (Mean values)\\n\",countries_funded_amount.head(10))"
   ]
  },
  {
   "cell_type": "markdown",
   "metadata": {},
   "source": [
    "**OBSERVATION: Cote D'Ivoire, Mauritania, Bhutan got top funding**   "
   ]
  },
  {
   "cell_type": "code",
   "execution_count": 8,
   "metadata": {},
   "outputs": [
    {
     "name": "stdout",
     "output_type": "stream",
     "text": [
      "Top Countries with max funded_time(Mean values)\n",
      " country\n",
      "United States    39.544380\n",
      "Puerto Rico      38.112630\n",
      "Vanuatu          35.963452\n",
      "El Salvador      22.054165\n",
      "Azerbaijan       21.930762\n",
      "Bolivia          21.458772\n",
      "Georgia          20.976522\n",
      "Armenia          20.607393\n",
      "Colombia         20.366121\n",
      "Kenya            20.161696\n",
      "Name: time_to_fund_in_days, dtype: float64\n"
     ]
    }
   ],
   "source": [
    "df_funded\n",
    "funded_time = df_funded.groupby('country').mean()['time_to_fund_in_days'].sort_values(ascending = False)\n",
    "print(\"Top Countries with max funded_time(Mean values)\\n\",funded_time.head(10))"
   ]
  },
  {
   "cell_type": "markdown",
   "metadata": {},
   "source": [
    "**OBSERVATION: US, Puerto Rico, Vanuata take longer time for funding**"
   ]
  },
  {
   "cell_type": "markdown",
   "metadata": {},
   "source": [
    "## MPI Region/Location"
   ]
  },
  {
   "cell_type": "markdown",
   "metadata": {},
   "source": [
    "** OBSERVATION: As expected, Africa has the HIGHEST Poverty followed by South Asia **"
   ]
  },
  {
   "cell_type": "markdown",
   "metadata": {
    "collapsed": true
   },
   "source": [
    "# Models"
   ]
  },
  {
   "cell_type": "markdown",
   "metadata": {},
   "source": [
    "## Model Selection"
   ]
  },
  {
   "cell_type": "markdown",
   "metadata": {},
   "source": [
    "- Scaling and normalizing the data\n",
    "- Dividing the data into a training and testing sets\n",
    "- Evaluating an initial model\n",
    "- Selecting the columns with the highest weights\n",
    "- Creating the final model\n",
    "- Measuring the model's performance"
   ]
  },
  {
   "cell_type": "code",
   "execution_count": 9,
   "metadata": {
    "collapsed": true
   },
   "outputs": [],
   "source": [
    "#normalised = StandardScaler()\n",
    "#normalised.fit_transform(data)"
   ]
  },
  {
   "cell_type": "markdown",
   "metadata": {},
   "source": [
    "## Pre-processing & Splitting"
   ]
  },
  {
   "cell_type": "code",
   "execution_count": 10,
   "metadata": {},
   "outputs": [
    {
     "data": {
      "text/html": [
       "<div>\n",
       "<style>\n",
       "    .dataframe thead tr:only-child th {\n",
       "        text-align: right;\n",
       "    }\n",
       "\n",
       "    .dataframe thead th {\n",
       "        text-align: left;\n",
       "    }\n",
       "\n",
       "    .dataframe tbody tr th {\n",
       "        vertical-align: top;\n",
       "    }\n",
       "</style>\n",
       "<table border=\"1\" class=\"dataframe\">\n",
       "  <thead>\n",
       "    <tr style=\"text-align: right;\">\n",
       "      <th></th>\n",
       "      <th>funded_amount</th>\n",
       "      <th>loan_amount</th>\n",
       "      <th>sector</th>\n",
       "      <th>country</th>\n",
       "      <th>term_in_months</th>\n",
       "      <th>lender_count</th>\n",
       "      <th>borrower_genders</th>\n",
       "      <th>repayment_interval</th>\n",
       "    </tr>\n",
       "  </thead>\n",
       "  <tbody>\n",
       "    <tr>\n",
       "      <th>0</th>\n",
       "      <td>300.0</td>\n",
       "      <td>300.0</td>\n",
       "      <td>Food</td>\n",
       "      <td>Pakistan</td>\n",
       "      <td>12.0</td>\n",
       "      <td>12</td>\n",
       "      <td>female</td>\n",
       "      <td>irregular</td>\n",
       "    </tr>\n",
       "    <tr>\n",
       "      <th>1</th>\n",
       "      <td>575.0</td>\n",
       "      <td>575.0</td>\n",
       "      <td>Transportation</td>\n",
       "      <td>Pakistan</td>\n",
       "      <td>11.0</td>\n",
       "      <td>14</td>\n",
       "      <td>female, female</td>\n",
       "      <td>irregular</td>\n",
       "    </tr>\n",
       "    <tr>\n",
       "      <th>2</th>\n",
       "      <td>150.0</td>\n",
       "      <td>150.0</td>\n",
       "      <td>Transportation</td>\n",
       "      <td>India</td>\n",
       "      <td>43.0</td>\n",
       "      <td>6</td>\n",
       "      <td>female</td>\n",
       "      <td>bullet</td>\n",
       "    </tr>\n",
       "    <tr>\n",
       "      <th>3</th>\n",
       "      <td>200.0</td>\n",
       "      <td>200.0</td>\n",
       "      <td>Arts</td>\n",
       "      <td>Pakistan</td>\n",
       "      <td>11.0</td>\n",
       "      <td>8</td>\n",
       "      <td>female</td>\n",
       "      <td>irregular</td>\n",
       "    </tr>\n",
       "    <tr>\n",
       "      <th>4</th>\n",
       "      <td>400.0</td>\n",
       "      <td>400.0</td>\n",
       "      <td>Food</td>\n",
       "      <td>Pakistan</td>\n",
       "      <td>14.0</td>\n",
       "      <td>16</td>\n",
       "      <td>female</td>\n",
       "      <td>monthly</td>\n",
       "    </tr>\n",
       "  </tbody>\n",
       "</table>\n",
       "</div>"
      ],
      "text/plain": [
       "   funded_amount  loan_amount          sector   country  term_in_months  \\\n",
       "0          300.0        300.0            Food  Pakistan            12.0   \n",
       "1          575.0        575.0  Transportation  Pakistan            11.0   \n",
       "2          150.0        150.0  Transportation     India            43.0   \n",
       "3          200.0        200.0            Arts  Pakistan            11.0   \n",
       "4          400.0        400.0            Food  Pakistan            14.0   \n",
       "\n",
       "   lender_count borrower_genders repayment_interval  \n",
       "0            12           female          irregular  \n",
       "1            14   female, female          irregular  \n",
       "2             6           female             bullet  \n",
       "3             8           female          irregular  \n",
       "4            16           female            monthly  "
      ]
     },
     "execution_count": 10,
     "metadata": {},
     "output_type": "execute_result"
    }
   ],
   "source": [
    "use_col = ['funded_amount', 'loan_amount', 'sector', 'country', 'term_in_months', 'lender_count', 'borrower_genders', 'repayment_interval']\n",
    "df_loans = df_kiva_loans[use_col].copy()\n",
    "df_loans.head()"
   ]
  },
  {
   "cell_type": "code",
   "execution_count": 11,
   "metadata": {},
   "outputs": [
    {
     "data": {
      "text/plain": [
       "Agriculture       180302\n",
       "Food              136657\n",
       "Retail            124494\n",
       "Services           45140\n",
       "Personal Use       36385\n",
       "Housing            33731\n",
       "Clothing           32742\n",
       "Education          31013\n",
       "Transportation     15518\n",
       "Arts               12060\n",
       "Health              9223\n",
       "Construction        6268\n",
       "Manufacturing       6208\n",
       "Entertainment        830\n",
       "Wholesale            634\n",
       "Name: sector, dtype: int64"
      ]
     },
     "execution_count": 11,
     "metadata": {},
     "output_type": "execute_result"
    }
   ],
   "source": [
    "df_loans['sector'].value_counts()"
   ]
  },
  {
   "cell_type": "code",
   "execution_count": 12,
   "metadata": {},
   "outputs": [
    {
     "data": {
      "text/plain": [
       "funded_amount            0\n",
       "loan_amount              0\n",
       "sector                   0\n",
       "country                  0\n",
       "term_in_months           0\n",
       "lender_count             0\n",
       "borrower_genders      4221\n",
       "repayment_interval       0\n",
       "dtype: int64"
      ]
     },
     "execution_count": 12,
     "metadata": {},
     "output_type": "execute_result"
    }
   ],
   "source": [
    "df_loans.isnull().sum()"
   ]
  },
  {
   "cell_type": "code",
   "execution_count": 13,
   "metadata": {
    "collapsed": true
   },
   "outputs": [],
   "source": [
    "df_loans.dropna(inplace=True)"
   ]
  },
  {
   "cell_type": "code",
   "execution_count": 14,
   "metadata": {},
   "outputs": [
    {
     "data": {
      "text/plain": [
       "(666984, 8)"
      ]
     },
     "execution_count": 14,
     "metadata": {},
     "output_type": "execute_result"
    }
   ],
   "source": [
    "df_loans.shape"
   ]
  },
  {
   "cell_type": "code",
   "execution_count": 15,
   "metadata": {
    "collapsed": true
   },
   "outputs": [],
   "source": [
    "df_loans['percent_female'] = df_loans['borrower_genders'].apply(lambda x: np.mean(np.array(x.split(',')) == 'female'))\n",
    "df_loans['applicants'] = df_loans['borrower_genders'].apply(lambda x: len(x.split(',')))\n",
    "df_loans.drop('borrower_genders', axis=1, inplace=True)"
   ]
  },
  {
   "cell_type": "code",
   "execution_count": 16,
   "metadata": {},
   "outputs": [
    {
     "data": {
      "text/html": [
       "<div>\n",
       "<style>\n",
       "    .dataframe thead tr:only-child th {\n",
       "        text-align: right;\n",
       "    }\n",
       "\n",
       "    .dataframe thead th {\n",
       "        text-align: left;\n",
       "    }\n",
       "\n",
       "    .dataframe tbody tr th {\n",
       "        vertical-align: top;\n",
       "    }\n",
       "</style>\n",
       "<table border=\"1\" class=\"dataframe\">\n",
       "  <thead>\n",
       "    <tr style=\"text-align: right;\">\n",
       "      <th></th>\n",
       "      <th>funded_amount</th>\n",
       "      <th>loan_amount</th>\n",
       "      <th>sector</th>\n",
       "      <th>country</th>\n",
       "      <th>term_in_months</th>\n",
       "      <th>lender_count</th>\n",
       "      <th>repayment_interval</th>\n",
       "      <th>percent_female</th>\n",
       "      <th>applicants</th>\n",
       "    </tr>\n",
       "  </thead>\n",
       "  <tbody>\n",
       "    <tr>\n",
       "      <th>0</th>\n",
       "      <td>300.0</td>\n",
       "      <td>300.0</td>\n",
       "      <td>Food</td>\n",
       "      <td>Pakistan</td>\n",
       "      <td>12.0</td>\n",
       "      <td>12</td>\n",
       "      <td>irregular</td>\n",
       "      <td>1.0</td>\n",
       "      <td>1</td>\n",
       "    </tr>\n",
       "    <tr>\n",
       "      <th>1</th>\n",
       "      <td>575.0</td>\n",
       "      <td>575.0</td>\n",
       "      <td>Transportation</td>\n",
       "      <td>Pakistan</td>\n",
       "      <td>11.0</td>\n",
       "      <td>14</td>\n",
       "      <td>irregular</td>\n",
       "      <td>0.5</td>\n",
       "      <td>2</td>\n",
       "    </tr>\n",
       "    <tr>\n",
       "      <th>2</th>\n",
       "      <td>150.0</td>\n",
       "      <td>150.0</td>\n",
       "      <td>Transportation</td>\n",
       "      <td>India</td>\n",
       "      <td>43.0</td>\n",
       "      <td>6</td>\n",
       "      <td>bullet</td>\n",
       "      <td>1.0</td>\n",
       "      <td>1</td>\n",
       "    </tr>\n",
       "    <tr>\n",
       "      <th>3</th>\n",
       "      <td>200.0</td>\n",
       "      <td>200.0</td>\n",
       "      <td>Arts</td>\n",
       "      <td>Pakistan</td>\n",
       "      <td>11.0</td>\n",
       "      <td>8</td>\n",
       "      <td>irregular</td>\n",
       "      <td>1.0</td>\n",
       "      <td>1</td>\n",
       "    </tr>\n",
       "    <tr>\n",
       "      <th>4</th>\n",
       "      <td>400.0</td>\n",
       "      <td>400.0</td>\n",
       "      <td>Food</td>\n",
       "      <td>Pakistan</td>\n",
       "      <td>14.0</td>\n",
       "      <td>16</td>\n",
       "      <td>monthly</td>\n",
       "      <td>1.0</td>\n",
       "      <td>1</td>\n",
       "    </tr>\n",
       "  </tbody>\n",
       "</table>\n",
       "</div>"
      ],
      "text/plain": [
       "   funded_amount  loan_amount          sector   country  term_in_months  \\\n",
       "0          300.0        300.0            Food  Pakistan            12.0   \n",
       "1          575.0        575.0  Transportation  Pakistan            11.0   \n",
       "2          150.0        150.0  Transportation     India            43.0   \n",
       "3          200.0        200.0            Arts  Pakistan            11.0   \n",
       "4          400.0        400.0            Food  Pakistan            14.0   \n",
       "\n",
       "   lender_count repayment_interval  percent_female  applicants  \n",
       "0            12          irregular             1.0           1  \n",
       "1            14          irregular             0.5           2  \n",
       "2             6             bullet             1.0           1  \n",
       "3             8          irregular             1.0           1  \n",
       "4            16            monthly             1.0           1  "
      ]
     },
     "execution_count": 16,
     "metadata": {},
     "output_type": "execute_result"
    }
   ],
   "source": [
    "df_loans.head()"
   ]
  },
  {
   "cell_type": "code",
   "execution_count": 17,
   "metadata": {
    "collapsed": true
   },
   "outputs": [],
   "source": [
    "df_loans['granted'] = 1*(df_loans['loan_amount'] == df_loans['funded_amount'])\n",
    "df_loans.drop('funded_amount', axis=1, inplace=True)"
   ]
  },
  {
   "cell_type": "code",
   "execution_count": 18,
   "metadata": {},
   "outputs": [
    {
     "data": {
      "text/plain": [
       "1    619336\n",
       "0     47648\n",
       "Name: granted, dtype: int64"
      ]
     },
     "execution_count": 18,
     "metadata": {},
     "output_type": "execute_result"
    }
   ],
   "source": [
    "df_loans['granted'].value_counts()"
   ]
  },
  {
   "cell_type": "code",
   "execution_count": 40,
   "metadata": {},
   "outputs": [
    {
     "data": {
      "text/plain": [
       "7.143799551413527"
      ]
     },
     "execution_count": 40,
     "metadata": {},
     "output_type": "execute_result"
    }
   ],
   "source": [
    "47648/(47648+619336)*100"
   ]
  },
  {
   "cell_type": "code",
   "execution_count": 19,
   "metadata": {},
   "outputs": [
    {
     "data": {
      "text/html": [
       "<div>\n",
       "<style>\n",
       "    .dataframe thead tr:only-child th {\n",
       "        text-align: right;\n",
       "    }\n",
       "\n",
       "    .dataframe thead th {\n",
       "        text-align: left;\n",
       "    }\n",
       "\n",
       "    .dataframe tbody tr th {\n",
       "        vertical-align: top;\n",
       "    }\n",
       "</style>\n",
       "<table border=\"1\" class=\"dataframe\">\n",
       "  <thead>\n",
       "    <tr style=\"text-align: right;\">\n",
       "      <th></th>\n",
       "      <th>loan_amount</th>\n",
       "      <th>sector</th>\n",
       "      <th>country</th>\n",
       "      <th>term_in_months</th>\n",
       "      <th>lender_count</th>\n",
       "      <th>repayment_interval</th>\n",
       "      <th>percent_female</th>\n",
       "      <th>applicants</th>\n",
       "      <th>granted</th>\n",
       "    </tr>\n",
       "  </thead>\n",
       "  <tbody>\n",
       "    <tr>\n",
       "      <th>0</th>\n",
       "      <td>300.0</td>\n",
       "      <td>Food</td>\n",
       "      <td>Pakistan</td>\n",
       "      <td>12.0</td>\n",
       "      <td>12</td>\n",
       "      <td>irregular</td>\n",
       "      <td>1.0</td>\n",
       "      <td>1</td>\n",
       "      <td>1</td>\n",
       "    </tr>\n",
       "    <tr>\n",
       "      <th>1</th>\n",
       "      <td>575.0</td>\n",
       "      <td>Transportation</td>\n",
       "      <td>Pakistan</td>\n",
       "      <td>11.0</td>\n",
       "      <td>14</td>\n",
       "      <td>irregular</td>\n",
       "      <td>0.5</td>\n",
       "      <td>2</td>\n",
       "      <td>1</td>\n",
       "    </tr>\n",
       "    <tr>\n",
       "      <th>2</th>\n",
       "      <td>150.0</td>\n",
       "      <td>Transportation</td>\n",
       "      <td>India</td>\n",
       "      <td>43.0</td>\n",
       "      <td>6</td>\n",
       "      <td>bullet</td>\n",
       "      <td>1.0</td>\n",
       "      <td>1</td>\n",
       "      <td>1</td>\n",
       "    </tr>\n",
       "    <tr>\n",
       "      <th>3</th>\n",
       "      <td>200.0</td>\n",
       "      <td>Arts</td>\n",
       "      <td>Pakistan</td>\n",
       "      <td>11.0</td>\n",
       "      <td>8</td>\n",
       "      <td>irregular</td>\n",
       "      <td>1.0</td>\n",
       "      <td>1</td>\n",
       "      <td>1</td>\n",
       "    </tr>\n",
       "    <tr>\n",
       "      <th>4</th>\n",
       "      <td>400.0</td>\n",
       "      <td>Food</td>\n",
       "      <td>Pakistan</td>\n",
       "      <td>14.0</td>\n",
       "      <td>16</td>\n",
       "      <td>monthly</td>\n",
       "      <td>1.0</td>\n",
       "      <td>1</td>\n",
       "      <td>1</td>\n",
       "    </tr>\n",
       "  </tbody>\n",
       "</table>\n",
       "</div>"
      ],
      "text/plain": [
       "   loan_amount          sector   country  term_in_months  lender_count  \\\n",
       "0        300.0            Food  Pakistan            12.0            12   \n",
       "1        575.0  Transportation  Pakistan            11.0            14   \n",
       "2        150.0  Transportation     India            43.0             6   \n",
       "3        200.0            Arts  Pakistan            11.0             8   \n",
       "4        400.0            Food  Pakistan            14.0            16   \n",
       "\n",
       "  repayment_interval  percent_female  applicants  granted  \n",
       "0          irregular             1.0           1        1  \n",
       "1          irregular             0.5           2        1  \n",
       "2             bullet             1.0           1        1  \n",
       "3          irregular             1.0           1        1  \n",
       "4            monthly             1.0           1        1  "
      ]
     },
     "execution_count": 19,
     "metadata": {},
     "output_type": "execute_result"
    }
   ],
   "source": [
    "df_loans.head()"
   ]
  },
  {
   "cell_type": "code",
   "execution_count": 20,
   "metadata": {},
   "outputs": [
    {
     "data": {
      "text/plain": [
       "(666984, 9)"
      ]
     },
     "execution_count": 20,
     "metadata": {},
     "output_type": "execute_result"
    }
   ],
   "source": [
    "df_loans.shape"
   ]
  },
  {
   "cell_type": "code",
   "execution_count": 21,
   "metadata": {},
   "outputs": [
    {
     "data": {
      "text/html": [
       "<div>\n",
       "<style>\n",
       "    .dataframe thead tr:only-child th {\n",
       "        text-align: right;\n",
       "    }\n",
       "\n",
       "    .dataframe thead th {\n",
       "        text-align: left;\n",
       "    }\n",
       "\n",
       "    .dataframe tbody tr th {\n",
       "        vertical-align: top;\n",
       "    }\n",
       "</style>\n",
       "<table border=\"1\" class=\"dataframe\">\n",
       "  <thead>\n",
       "    <tr style=\"text-align: right;\">\n",
       "      <th></th>\n",
       "      <th>loan_amount</th>\n",
       "      <th>term_in_months</th>\n",
       "      <th>lender_count</th>\n",
       "      <th>percent_female</th>\n",
       "      <th>applicants</th>\n",
       "      <th>granted</th>\n",
       "      <th>sector_Arts</th>\n",
       "      <th>sector_Clothing</th>\n",
       "      <th>sector_Construction</th>\n",
       "      <th>sector_Education</th>\n",
       "      <th>...</th>\n",
       "      <th>country_United States</th>\n",
       "      <th>country_Vanuatu</th>\n",
       "      <th>country_Vietnam</th>\n",
       "      <th>country_Virgin Islands</th>\n",
       "      <th>country_Yemen</th>\n",
       "      <th>country_Zambia</th>\n",
       "      <th>country_Zimbabwe</th>\n",
       "      <th>repayment_interval_irregular</th>\n",
       "      <th>repayment_interval_monthly</th>\n",
       "      <th>repayment_interval_weekly</th>\n",
       "    </tr>\n",
       "  </thead>\n",
       "  <tbody>\n",
       "    <tr>\n",
       "      <th>0</th>\n",
       "      <td>300.0</td>\n",
       "      <td>12.0</td>\n",
       "      <td>12</td>\n",
       "      <td>1.0</td>\n",
       "      <td>1</td>\n",
       "      <td>1</td>\n",
       "      <td>0</td>\n",
       "      <td>0</td>\n",
       "      <td>0</td>\n",
       "      <td>0</td>\n",
       "      <td>...</td>\n",
       "      <td>0</td>\n",
       "      <td>0</td>\n",
       "      <td>0</td>\n",
       "      <td>0</td>\n",
       "      <td>0</td>\n",
       "      <td>0</td>\n",
       "      <td>0</td>\n",
       "      <td>1</td>\n",
       "      <td>0</td>\n",
       "      <td>0</td>\n",
       "    </tr>\n",
       "    <tr>\n",
       "      <th>1</th>\n",
       "      <td>575.0</td>\n",
       "      <td>11.0</td>\n",
       "      <td>14</td>\n",
       "      <td>0.5</td>\n",
       "      <td>2</td>\n",
       "      <td>1</td>\n",
       "      <td>0</td>\n",
       "      <td>0</td>\n",
       "      <td>0</td>\n",
       "      <td>0</td>\n",
       "      <td>...</td>\n",
       "      <td>0</td>\n",
       "      <td>0</td>\n",
       "      <td>0</td>\n",
       "      <td>0</td>\n",
       "      <td>0</td>\n",
       "      <td>0</td>\n",
       "      <td>0</td>\n",
       "      <td>1</td>\n",
       "      <td>0</td>\n",
       "      <td>0</td>\n",
       "    </tr>\n",
       "    <tr>\n",
       "      <th>2</th>\n",
       "      <td>150.0</td>\n",
       "      <td>43.0</td>\n",
       "      <td>6</td>\n",
       "      <td>1.0</td>\n",
       "      <td>1</td>\n",
       "      <td>1</td>\n",
       "      <td>0</td>\n",
       "      <td>0</td>\n",
       "      <td>0</td>\n",
       "      <td>0</td>\n",
       "      <td>...</td>\n",
       "      <td>0</td>\n",
       "      <td>0</td>\n",
       "      <td>0</td>\n",
       "      <td>0</td>\n",
       "      <td>0</td>\n",
       "      <td>0</td>\n",
       "      <td>0</td>\n",
       "      <td>0</td>\n",
       "      <td>0</td>\n",
       "      <td>0</td>\n",
       "    </tr>\n",
       "    <tr>\n",
       "      <th>3</th>\n",
       "      <td>200.0</td>\n",
       "      <td>11.0</td>\n",
       "      <td>8</td>\n",
       "      <td>1.0</td>\n",
       "      <td>1</td>\n",
       "      <td>1</td>\n",
       "      <td>1</td>\n",
       "      <td>0</td>\n",
       "      <td>0</td>\n",
       "      <td>0</td>\n",
       "      <td>...</td>\n",
       "      <td>0</td>\n",
       "      <td>0</td>\n",
       "      <td>0</td>\n",
       "      <td>0</td>\n",
       "      <td>0</td>\n",
       "      <td>0</td>\n",
       "      <td>0</td>\n",
       "      <td>1</td>\n",
       "      <td>0</td>\n",
       "      <td>0</td>\n",
       "    </tr>\n",
       "    <tr>\n",
       "      <th>4</th>\n",
       "      <td>400.0</td>\n",
       "      <td>14.0</td>\n",
       "      <td>16</td>\n",
       "      <td>1.0</td>\n",
       "      <td>1</td>\n",
       "      <td>1</td>\n",
       "      <td>0</td>\n",
       "      <td>0</td>\n",
       "      <td>0</td>\n",
       "      <td>0</td>\n",
       "      <td>...</td>\n",
       "      <td>0</td>\n",
       "      <td>0</td>\n",
       "      <td>0</td>\n",
       "      <td>0</td>\n",
       "      <td>0</td>\n",
       "      <td>0</td>\n",
       "      <td>0</td>\n",
       "      <td>0</td>\n",
       "      <td>1</td>\n",
       "      <td>0</td>\n",
       "    </tr>\n",
       "  </tbody>\n",
       "</table>\n",
       "<p>5 rows × 109 columns</p>\n",
       "</div>"
      ],
      "text/plain": [
       "   loan_amount  term_in_months  lender_count  percent_female  applicants  \\\n",
       "0        300.0            12.0            12             1.0           1   \n",
       "1        575.0            11.0            14             0.5           2   \n",
       "2        150.0            43.0             6             1.0           1   \n",
       "3        200.0            11.0             8             1.0           1   \n",
       "4        400.0            14.0            16             1.0           1   \n",
       "\n",
       "   granted  sector_Arts  sector_Clothing  sector_Construction  \\\n",
       "0        1            0                0                    0   \n",
       "1        1            0                0                    0   \n",
       "2        1            0                0                    0   \n",
       "3        1            1                0                    0   \n",
       "4        1            0                0                    0   \n",
       "\n",
       "   sector_Education            ...              country_United States  \\\n",
       "0                 0            ...                                  0   \n",
       "1                 0            ...                                  0   \n",
       "2                 0            ...                                  0   \n",
       "3                 0            ...                                  0   \n",
       "4                 0            ...                                  0   \n",
       "\n",
       "   country_Vanuatu  country_Vietnam  country_Virgin Islands  country_Yemen  \\\n",
       "0                0                0                       0              0   \n",
       "1                0                0                       0              0   \n",
       "2                0                0                       0              0   \n",
       "3                0                0                       0              0   \n",
       "4                0                0                       0              0   \n",
       "\n",
       "   country_Zambia  country_Zimbabwe  repayment_interval_irregular  \\\n",
       "0               0                 0                             1   \n",
       "1               0                 0                             1   \n",
       "2               0                 0                             0   \n",
       "3               0                 0                             1   \n",
       "4               0                 0                             0   \n",
       "\n",
       "   repayment_interval_monthly  repayment_interval_weekly  \n",
       "0                           0                          0  \n",
       "1                           0                          0  \n",
       "2                           0                          0  \n",
       "3                           0                          0  \n",
       "4                           1                          0  \n",
       "\n",
       "[5 rows x 109 columns]"
      ]
     },
     "execution_count": 21,
     "metadata": {},
     "output_type": "execute_result"
    }
   ],
   "source": [
    "df_loans = pd.concat((df_loans,pd.get_dummies(df_loans[['sector', 'country', 'repayment_interval']], drop_first=True)), axis=1)\n",
    "df_loans.drop(['sector', 'country', 'repayment_interval'], axis=1, inplace=True)\n",
    "df_loans.shape\n",
    "df_loans.head()\n"
   ]
  },
  {
   "cell_type": "code",
   "execution_count": 22,
   "metadata": {},
   "outputs": [
    {
     "name": "stdout",
     "output_type": "stream",
     "text": [
      "(666984, 108)\n",
      "(666984,)\n"
     ]
    }
   ],
   "source": [
    "X = df_loans.drop('granted', axis=1).values\n",
    "y = df_loans['granted'].values\n",
    "print(X.shape)\n",
    "print(y.shape)\n"
   ]
  },
  {
   "cell_type": "code",
   "execution_count": 23,
   "metadata": {
    "collapsed": true
   },
   "outputs": [],
   "source": [
    "X_train, X_test, y_train, y_test = train_test_split(X, y, test_size=0.33, random_state=42)"
   ]
  },
  {
   "cell_type": "markdown",
   "metadata": {},
   "source": [
    "## Random Forest"
   ]
  },
  {
   "cell_type": "code",
   "execution_count": 24,
   "metadata": {},
   "outputs": [
    {
     "name": "stdout",
     "output_type": "stream",
     "text": [
      "Score from Random Forest is 95.99%\n"
     ]
    }
   ],
   "source": [
    "rfc = RandomForestClassifier(n_estimators=50)\n",
    "rfc.fit(X_train, y_train)\n",
    "#rfc.score(X_test, y_test)\n",
    "score = rfc.score(X_test, y_test)\n",
    "print(\"Score from Random Forest is %.2f%%\" %(score*100))"
   ]
  },
  {
   "cell_type": "code",
   "execution_count": 25,
   "metadata": {},
   "outputs": [
    {
     "name": "stdout",
     "output_type": "stream",
     "text": [
      "True Positive= 201275\n",
      "False Positive= 5789\n",
      "True Negative= 10010\n",
      "False Negative= 3031\n"
     ]
    }
   ],
   "source": [
    "confusion_matrix(y_test, rfc.predict(X_test))\n",
    "tn, fp, fn, tp = confusion_matrix(y_test, rfc.predict(X_test), labels=[0,1]).ravel()\n",
    "print ('True Positive=', tp)\n",
    "print ('False Positive=', fp)\n",
    "print ('True Negative=', tn)\n",
    "print ('False Negative=', fn)\n"
   ]
  },
  {
   "cell_type": "code",
   "execution_count": 26,
   "metadata": {},
   "outputs": [
    {
     "data": {
      "text/plain": [
       "0.0397264941732355"
      ]
     },
     "execution_count": 26,
     "metadata": {},
     "output_type": "execute_result"
    }
   ],
   "source": [
    "(5711+3033)/(201273+5711+10088+3033)"
   ]
  },
  {
   "cell_type": "code",
   "execution_count": 27,
   "metadata": {},
   "outputs": [
    {
     "data": {
      "text/plain": [
       "0.4266092790682955"
      ]
     },
     "execution_count": 27,
     "metadata": {},
     "output_type": "execute_result"
    }
   ],
   "source": [
    "6740/(6740+9059)"
   ]
  },
  {
   "cell_type": "markdown",
   "metadata": {},
   "source": [
    "### Feature Importance from Random Forest"
   ]
  },
  {
   "cell_type": "code",
   "execution_count": 28,
   "metadata": {
    "collapsed": true
   },
   "outputs": [],
   "source": [
    "importances = pd.DataFrame({\"Feature\": df_loans.drop('granted', axis=1).columns, 'Score': rfc.feature_importances_})\n",
    "importances = importances.sort_values(by='Score', ascending=False).head(10)"
   ]
  },
  {
   "cell_type": "code",
   "execution_count": 29,
   "metadata": {},
   "outputs": [
    {
     "data": {
      "image/png": "[encoded data removed]",
      "text/plain": [
       "<matplotlib.figure.Figure at 0x1d74fe141d0>"
      ]
     },
     "metadata": {},
     "output_type": "display_data"
    }
   ],
   "source": [
    "plt.figure(figsize=(8,8))\n",
    "plt.barh(range(10), importances['Score'])\n",
    "a = plt.yticks(range(10), importances['Feature'])"
   ]
  },
  {
   "cell_type": "markdown",
   "metadata": {},
   "source": [
    "##  Decision Tree"
   ]
  },
  {
   "cell_type": "code",
   "execution_count": 30,
   "metadata": {},
   "outputs": [
    {
     "data": {
      "text/plain": [
       "DecisionTreeClassifier(class_weight=None, criterion='gini', max_depth=3,\n",
       "            max_features=None, max_leaf_nodes=None,\n",
       "            min_impurity_decrease=0.0, min_impurity_split=None,\n",
       "            min_samples_leaf=5, min_samples_split=2,\n",
       "            min_weight_fraction_leaf=0.0, presort=False, random_state=100,\n",
       "            splitter='best')"
      ]
     },
     "execution_count": 30,
     "metadata": {},
     "output_type": "execute_result"
    }
   ],
   "source": [
    "from sklearn.tree import DecisionTreeClassifier\n",
    "from sklearn.metrics import accuracy_score\n",
    "from sklearn import tree\n",
    "\n",
    "clf_gini = DecisionTreeClassifier(criterion = \"gini\", random_state = 100,\n",
    "                               max_depth=3, min_samples_leaf=5)\n",
    "clf_gini.fit(X_train, y_train)\n",
    "clf_gini = DecisionTreeClassifier(criterion = \"gini\", random_state = 100,\n",
    "                               max_depth=3, min_samples_leaf=5)\n",
    "clf_gini.fit(X_train, y_train)\n",
    "\n",
    "DecisionTreeClassifier(class_weight=None, criterion='gini', max_depth=3,\n",
    "            max_features=None, max_leaf_nodes=None, min_samples_leaf=5,\n",
    "            min_samples_split=2, min_weight_fraction_leaf=0.0,\n",
    "            presort=False, random_state=100, splitter='best')"
   ]
  },
  {
   "cell_type": "markdown",
   "metadata": {},
   "source": [
    "## Logistic Regression"
   ]
  },
  {
   "cell_type": "code",
   "execution_count": 31,
   "metadata": {},
   "outputs": [
    {
     "name": "stdout",
     "output_type": "stream",
     "text": [
      "Score from Logisitic Regression is 94.12%\n"
     ]
    }
   ],
   "source": [
    "logisticRegr = LogisticRegression()\n",
    "logisticRegr.fit(X_train, y_train)\n",
    "predictions = logisticRegr.predict(X_test)\n",
    "score = logisticRegr.score(X_test, y_test)\n",
    "print(\"Score from Logisitic Regression is %.2f%%\" %(score*100))"
   ]
  },
  {
   "cell_type": "markdown",
   "metadata": {},
   "source": [
    "## Recursive Feature Elimination"
   ]
  },
  {
   "cell_type": "code",
   "execution_count": 32,
   "metadata": {},
   "outputs": [
    {
     "name": "stdout",
     "output_type": "stream",
     "text": [
      "Num Features: 3\n",
      "Selected Features [False False False False False False False False False False False False\n",
      " False False False False False False False False False False False False\n",
      " False False False False False False False False False False False False\n",
      " False False False False False False False False False False False False\n",
      " False False False False False False False  True False False False False\n",
      " False False False False False False False False False  True False False\n",
      " False False False False False False False False False False False False\n",
      " False False False False False False False False False False False  True\n",
      " False False False False False False False False False False False False]\n",
      "Feature Ranking [ 97  88  95  31  90   8  53  34  20  80  68  77  54   3  71  52  76  62\n",
      "  27  51  29  44  14  13 104  37  23  25  58  83  61 101  15  32  30  55\n",
      " 105  78  74  19  33  72  96  99  93  12  59  66  35  16  11  40  57  36\n",
      "  38   1  50   4  75   7  60  86 106  82  65  79  64  47 103   1  43  91\n",
      "  41  46  10  94  26  92  28  49  98  17  84  63  39  22   5  24  69  42\n",
      "  73  21  89  56  87   1  45  85   6 100  48 102  81  70   9  18  67   2]\n"
     ]
    }
   ],
   "source": [
    "from sklearn.feature_selection import RFE\n",
    "rfe = RFE(logisticRegr,3)\n",
    "fit = rfe.fit(X_train, y_train)\n",
    "print(\"Num Features:\",  fit.n_features_)\n",
    "print(\"Selected Features\", fit.support_)\n",
    "print(\"Feature Ranking\", fit.ranking_)\n"
   ]
  },
  {
   "cell_type": "markdown",
   "metadata": {},
   "source": [
    "## SelectKBest"
   ]
  },
  {
   "cell_type": "code",
   "execution_count": 33,
   "metadata": {},
   "outputs": [
    {
     "name": "stdout",
     "output_type": "stream",
     "text": [
      "[1.305e+07 5.196e+04 4.943e+04 2.723e+03 3.678e+02 3.903e+02 1.166e+02\n",
      " 4.161e+01 6.758e+02 2.574e+01 2.212e+02 1.161e+00 7.348e+02 2.519e+02\n",
      " 3.623e+02 1.277e+02 1.068e+02 2.472e+02 9.312e+00 2.967e+01 1.663e+03\n",
      " 1.438e+02 6.830e+00 1.901e+01 7.674e-02 4.503e+02 1.121e+01 6.202e+01\n",
      " 2.770e+00 3.664e+02 3.888e-01 2.302e-01 7.060e+00 2.826e+03 6.907e+00\n",
      " 4.223e-01       nan 4.050e+00 9.607e+01 3.546e+01 4.609e+03 2.366e-01\n",
      " 5.556e+01 1.303e+01 5.848e+00 1.197e+02 1.905e+00 2.061e+02 6.006e+01\n",
      " 2.973e+01 9.746e+00 3.901e+00 1.142e+00 1.083e+02 7.915e+01 6.850e+01\n",
      " 6.329e+00 2.172e+01 7.917e+01 1.430e+02 2.920e+01 4.595e+00       nan\n",
      " 2.617e+01 7.580e-04 2.305e-01 4.640e+01 1.245e+02 3.070e-01 3.706e+01\n",
      " 1.402e+02 8.147e+01 7.261e-01 2.180e+02 1.021e+01 2.329e+02 4.454e+02\n",
      " 4.720e+03 1.766e+01 1.293e+01 8.441e-01 5.244e+01 4.858e+00 4.543e-01\n",
      " 4.868e+00 3.837e+00 1.949e+01 6.830e+00 5.987e-01 2.252e+02 1.377e+01\n",
      " 7.636e+00 2.505e+01 3.497e+00 1.421e+02 8.473e+01 3.715e+02 9.694e-01\n",
      " 4.951e+03 3.070e-01 3.777e+01 1.303e+01 1.386e-02 6.587e-01 1.352e+02\n",
      " 5.353e+03 1.270e+03 3.185e+01]\n",
      "[[625.   8.  15.   1.]\n",
      " [800.  15.  27.   0.]\n",
      " [625.  14.  23.   0.]\n",
      " [225.   8.   8.   0.]\n",
      " [500.  13.  19.   1.]]\n"
     ]
    }
   ],
   "source": [
    "from sklearn.feature_selection import SelectKBest\n",
    "from sklearn.feature_selection import chi2\n",
    "\n",
    "# feature extraction\n",
    "test = SelectKBest(score_func=chi2, k=4)\n",
    "fit = test.fit(X_train, y_train)\n",
    "# summarize scores\n",
    "np.set_printoptions(precision=3)\n",
    "print(fit.scores_)\n",
    "features = fit.transform(X_train)\n",
    "# summarize selected features\n",
    "print(features[0:5,:])"
   ]
  },
  {
   "cell_type": "markdown",
   "metadata": {},
   "source": [
    "## PCA and Kmeans Clustering"
   ]
  },
  {
   "cell_type": "code",
   "execution_count": 34,
   "metadata": {},
   "outputs": [
    {
     "data": {
      "image/png": "[encoded data removed]",
      "text/plain": [
       "<matplotlib.figure.Figure at 0x1d7467de668>"
      ]
     },
     "metadata": {},
     "output_type": "display_data"
    }
   ],
   "source": [
    "def apply_pca():\n",
    "    pca = PCA(n_components=2)\n",
    "    train_data_comp = pca.fit_transform(X_train)\n",
    "    test_data_comp = pca.transform(X_test)\n",
    "   \n",
    "    fig = plt.figure(figsize = (8,8))\n",
    "    ax = fig.add_subplot(1,1,1) \n",
    "   \n",
    "    ax.set_xlabel('Principal Component 1', fontsize = 15)\n",
    "    ax.set_ylabel('Principal Component 2', fontsize = 15)\n",
    "    ax.set_title('2 Component PCA', fontsize = 20)\n",
    "    c= np.where(y_train==0,'r','b')\n",
    "    ax.scatter(train_data_comp[:,0], train_data_comp[:,1], c=c)\n",
    "    \n",
    "    return pca\n",
    "\n",
    "pca = apply_pca()\n"
   ]
  },
  {
   "cell_type": "code",
   "execution_count": 35,
   "metadata": {},
   "outputs": [
    {
     "name": "stdout",
     "output_type": "stream",
     "text": [
      "[0 0 0 ... 0 0 0]\n"
     ]
    },
    {
     "data": {
      "image/png": "[encoded data removed]",
      "text/plain": [
       "<matplotlib.figure.Figure at 0x1d7467e3128>"
      ]
     },
     "metadata": {},
     "output_type": "display_data"
    }
   ],
   "source": [
    " \n",
    "pca = PCA(n_components=10)\n",
    "train_data_comp = pca.fit_transform(X_train)\n",
    "test_data_comp = pca.transform(X_test)\n",
    "trans_data = pca.fit(X_train).transform(X_train)\n",
    "     \n",
    "km = KMeans(n_clusters=2, init='k-means++')\n",
    "clstrs = km.fit(trans_data)\n",
    "print(km.labels_)\n",
    "\n",
    "plt.scatter(train_data_comp[:,0], train_data_comp[:,1], c=clstrs.labels_)\n",
    "plt.plot(clstrs.cluster_centers_[:,0], clstrs.cluster_centers_[:,1], 'ro')  \n",
    "plt.show() \n",
    "\n"
   ]
  },
  {
   "cell_type": "code",
   "execution_count": 36,
   "metadata": {},
   "outputs": [
    {
     "data": {
      "text/plain": [
       "0.9999993333284368"
      ]
     },
     "execution_count": 36,
     "metadata": {},
     "output_type": "execute_result"
    }
   ],
   "source": [
    "pca.explained_variance_ratio_.sum()"
   ]
  },
  {
   "cell_type": "code",
   "execution_count": 37,
   "metadata": {},
   "outputs": [],
   "source": [
    "## Scale the data\n",
    "scaler = StandardScaler()\n",
    "scaler.fit(X_train)\n",
    "X1 = scaler.transform(X_train)\n",
    "\n",
    "## PCA projection to 2D\n",
    "pca = PCA(n_components=2)\n",
    "principalComponents = pca.fit_transform(X1)\n",
    "principalDf = pd.DataFrame(data = principalComponents\n",
    "             , columns = ['principal component 1', 'principal component 2'])\n"
   ]
  },
  {
   "cell_type": "code",
   "execution_count": 38,
   "metadata": {},
   "outputs": [
    {
     "data": {
      "text/html": [
       "<div>\n",
       "<style>\n",
       "    .dataframe thead tr:only-child th {\n",
       "        text-align: right;\n",
       "    }\n",
       "\n",
       "    .dataframe thead th {\n",
       "        text-align: left;\n",
       "    }\n",
       "\n",
       "    .dataframe tbody tr th {\n",
       "        vertical-align: top;\n",
       "    }\n",
       "</style>\n",
       "<table border=\"1\" class=\"dataframe\">\n",
       "  <thead>\n",
       "    <tr style=\"text-align: right;\">\n",
       "      <th></th>\n",
       "      <th>principal component 1</th>\n",
       "      <th>principal component 2</th>\n",
       "    </tr>\n",
       "  </thead>\n",
       "  <tbody>\n",
       "    <tr>\n",
       "      <th>0</th>\n",
       "      <td>-2.685455</td>\n",
       "      <td>0.793871</td>\n",
       "    </tr>\n",
       "    <tr>\n",
       "      <th>1</th>\n",
       "      <td>-0.259054</td>\n",
       "      <td>-0.082441</td>\n",
       "    </tr>\n",
       "    <tr>\n",
       "      <th>2</th>\n",
       "      <td>1.422649</td>\n",
       "      <td>-0.454800</td>\n",
       "    </tr>\n",
       "    <tr>\n",
       "      <th>3</th>\n",
       "      <td>-0.089749</td>\n",
       "      <td>-1.059129</td>\n",
       "    </tr>\n",
       "    <tr>\n",
       "      <th>4</th>\n",
       "      <td>-1.430957</td>\n",
       "      <td>0.375683</td>\n",
       "    </tr>\n",
       "  </tbody>\n",
       "</table>\n",
       "</div>"
      ],
      "text/plain": [
       "   principal component 1  principal component 2\n",
       "0              -2.685455               0.793871\n",
       "1              -0.259054              -0.082441\n",
       "2               1.422649              -0.454800\n",
       "3              -0.089749              -1.059129\n",
       "4              -1.430957               0.375683"
      ]
     },
     "execution_count": 38,
     "metadata": {},
     "output_type": "execute_result"
    }
   ],
   "source": [
    "principalDf.head()\n",
    "#finalDf = pd.concat([principalDf, df[['target']]], axis = 1)"
   ]
  },
  {
   "cell_type": "code",
   "execution_count": 39,
   "metadata": {},
   "outputs": [
    {
     "name": "stdout",
     "output_type": "stream",
     "text": [
      "GMM Accuracy = 73.27% percent\n"
     ]
    }
   ],
   "source": [
    "clf_pos = GMM(n_components=4, covariance_type='full')\n",
    "clf_pos.fit(train_data_comp[y_train == 1, :])\n",
    "\n",
    "clf_neg = GMM(n_components=4, covariance_type='full')\n",
    "clf_neg.fit(train_data_comp[y_train == 0, :])\n",
    "\n",
    "prob_pos = clf_pos.score_samples(test_data_comp)\n",
    "prob_neg = clf_neg.score_samples(test_data_comp)\n",
    "    \n",
    "test_class1 = (prob_pos> prob_neg).astype(int)\n",
    "\n",
    "print (\"GMM Accuracy = %.2f%% percent\" %(np.mean(test_class1 == y_test)*100))\n",
    "\n"
   ]
  },
  {
   "cell_type": "code",
   "execution_count": null,
   "metadata": {
    "collapsed": true
   },
   "outputs": [],
   "source": []
  }
 ],
 "metadata": {
  "kernelspec": {
   "display_name": "Python 3",
   "language": "python",
   "name": "python3"
  },
  "language_info": {
   "codemirror_mode": {
    "name": "ipython",
    "version": 3
   },
   "file_extension": ".py",
   "mimetype": "text/x-python",
   "name": "python",
   "nbconvert_exporter": "python",
   "pygments_lexer": "ipython3",
   "version": "3.6.3"
  }
 },
 "nbformat": 4,
 "nbformat_minor": 2
}
