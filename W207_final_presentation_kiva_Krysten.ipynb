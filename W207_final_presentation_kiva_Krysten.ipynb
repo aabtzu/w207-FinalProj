{
 "cells": [
  {
   "cell_type": "markdown",
   "metadata": {},
   "source": [
    "# Kiva Crowdfunding - Loans that change Lives"
   ]
  },
  {
   "cell_type": "markdown",
   "metadata": {},
   "source": [
    "*Kiva is an international nonprofit organization with a mission to connect people through lending to alleviate poverty. Kiva.org is an online crowdfunding platform to extend financial services to poor and financially excluded people around the world. Kiva lenders have provided over $1 billion dollars in loans to over 2 million people.*"
   ]
  },
  {
   "cell_type": "markdown",
   "metadata": {},
   "source": [
    "## Project Goal\n",
    "\n",
    "** Not all loans requested through KIVA are funded (about 3383 records in loans dataset that are not funded). In this project, we are trying to identify if a pattern exists among loans that are not getting funded. Our goal is to predict if a Loan is likely to get fully funded or not. As part of this analysis we determine the features that are of the highest importance to get a loan funded.**"
   ]
  },
  {
   "cell_type": "markdown",
   "metadata": {},
   "source": [
    "In this notebook, we present three different perspective based on each of our analysis while achieving our common goal to predict if a loan is likely to get funded or not."
   ]
  },
  {
   "cell_type": "code",
   "execution_count": 2,
   "metadata": {
    "scrolled": true
   },
   "outputs": [
    {
     "ename": "KeyError",
     "evalue": "'PROJ_LIB'",
     "output_type": "error",
     "traceback": [
      "\u001b[0;31m---------------------------------------------------------------------------\u001b[0m",
      "\u001b[0;31mKeyError\u001b[0m                                  Traceback (most recent call last)",
      "\u001b[0;32m<ipython-input-2-719eabb83ca8>\u001b[0m in \u001b[0;36m<module>\u001b[0;34m()\u001b[0m\n\u001b[1;32m     10\u001b[0m \u001b[0;32mimport\u001b[0m \u001b[0mos\u001b[0m\u001b[0;34m\u001b[0m\u001b[0m\n\u001b[1;32m     11\u001b[0m \u001b[0;32mimport\u001b[0m \u001b[0mseaborn\u001b[0m \u001b[0;32mas\u001b[0m \u001b[0msns\u001b[0m\u001b[0;34m\u001b[0m\u001b[0m\n\u001b[0;32m---> 12\u001b[0;31m \u001b[0;32mfrom\u001b[0m \u001b[0mmpl_toolkits\u001b[0m\u001b[0;34m.\u001b[0m\u001b[0mbasemap\u001b[0m \u001b[0;32mimport\u001b[0m \u001b[0mBasemap\u001b[0m\u001b[0;34m\u001b[0m\u001b[0m\n\u001b[0m\u001b[1;32m     13\u001b[0m \u001b[0mcolor\u001b[0m \u001b[0;34m=\u001b[0m \u001b[0msns\u001b[0m\u001b[0;34m.\u001b[0m\u001b[0mcolor_palette\u001b[0m\u001b[0;34m(\u001b[0m\u001b[0;34m)\u001b[0m\u001b[0;34m\u001b[0m\u001b[0m\n\u001b[1;32m     14\u001b[0m \u001b[0;32mimport\u001b[0m \u001b[0mplotly\u001b[0m\u001b[0;34m\u001b[0m\u001b[0m\n",
      "\u001b[0;32m/anaconda3/lib/python3.6/site-packages/mpl_toolkits/basemap/__init__.py\u001b[0m in \u001b[0;36m<module>\u001b[0;34m()\u001b[0m\n\u001b[1;32m    153\u001b[0m \u001b[0;34m\u001b[0m\u001b[0m\n\u001b[1;32m    154\u001b[0m \u001b[0;31m# create dictionary that maps epsg codes to Basemap kwargs.\u001b[0m\u001b[0;34m\u001b[0m\u001b[0;34m\u001b[0m\u001b[0m\n\u001b[0;32m--> 155\u001b[0;31m \u001b[0mpyproj_datadir\u001b[0m \u001b[0;34m=\u001b[0m \u001b[0mos\u001b[0m\u001b[0;34m.\u001b[0m\u001b[0menviron\u001b[0m\u001b[0;34m[\u001b[0m\u001b[0;34m'PROJ_LIB'\u001b[0m\u001b[0;34m]\u001b[0m\u001b[0;34m\u001b[0m\u001b[0m\n\u001b[0m\u001b[1;32m    156\u001b[0m \u001b[0mepsgf\u001b[0m \u001b[0;34m=\u001b[0m \u001b[0mopen\u001b[0m\u001b[0;34m(\u001b[0m\u001b[0mos\u001b[0m\u001b[0;34m.\u001b[0m\u001b[0mpath\u001b[0m\u001b[0;34m.\u001b[0m\u001b[0mjoin\u001b[0m\u001b[0;34m(\u001b[0m\u001b[0mpyproj_datadir\u001b[0m\u001b[0;34m,\u001b[0m\u001b[0;34m'epsg'\u001b[0m\u001b[0;34m)\u001b[0m\u001b[0;34m)\u001b[0m\u001b[0;34m\u001b[0m\u001b[0m\n\u001b[1;32m    157\u001b[0m \u001b[0mepsg_dict\u001b[0m\u001b[0;34m=\u001b[0m\u001b[0;34m{\u001b[0m\u001b[0;34m}\u001b[0m\u001b[0;34m\u001b[0m\u001b[0m\n",
      "\u001b[0;32m/anaconda3/lib/python3.6/os.py\u001b[0m in \u001b[0;36m__getitem__\u001b[0;34m(self, key)\u001b[0m\n\u001b[1;32m    667\u001b[0m         \u001b[0;32mexcept\u001b[0m \u001b[0mKeyError\u001b[0m\u001b[0;34m:\u001b[0m\u001b[0;34m\u001b[0m\u001b[0m\n\u001b[1;32m    668\u001b[0m             \u001b[0;31m# raise KeyError with the original key value\u001b[0m\u001b[0;34m\u001b[0m\u001b[0;34m\u001b[0m\u001b[0m\n\u001b[0;32m--> 669\u001b[0;31m             \u001b[0;32mraise\u001b[0m \u001b[0mKeyError\u001b[0m\u001b[0;34m(\u001b[0m\u001b[0mkey\u001b[0m\u001b[0;34m)\u001b[0m \u001b[0;32mfrom\u001b[0m \u001b[0;32mNone\u001b[0m\u001b[0;34m\u001b[0m\u001b[0m\n\u001b[0m\u001b[1;32m    670\u001b[0m         \u001b[0;32mreturn\u001b[0m \u001b[0mself\u001b[0m\u001b[0;34m.\u001b[0m\u001b[0mdecodevalue\u001b[0m\u001b[0;34m(\u001b[0m\u001b[0mvalue\u001b[0m\u001b[0;34m)\u001b[0m\u001b[0;34m\u001b[0m\u001b[0m\n\u001b[1;32m    671\u001b[0m \u001b[0;34m\u001b[0m\u001b[0m\n",
      "\u001b[0;31mKeyError\u001b[0m: 'PROJ_LIB'"
     ]
    }
   ],
   "source": [
    "%matplotlib inline\n",
    "\n",
    "# General libraries.\n",
    "import re\n",
    "import math\n",
    "import numpy as np\n",
    "import collections\n",
    "import matplotlib.pyplot as plt\n",
    "import pandas as pd\n",
    "import os\n",
    "import seaborn as sns\n",
    "from mpl_toolkits.basemap import Basemap\n",
    "color = sns.color_palette()\n",
    "import plotly\n",
    "plotly.offline.init_notebook_mode(connected=True)\n",
    "import plotly.offline as py\n",
    "from sklearn import datasets\n",
    "from sklearn import metrics\n",
    "from sklearn.preprocessing import StandardScaler\n",
    "from sklearn import cluster, mixture # For clustering \n",
    "from sklearn.cluster import KMeans\n",
    "from sklearn.decomposition import PCA\n",
    "from sklearn.mixture import GaussianMixture as GMM\n",
    "from sklearn.model_selection import train_test_split \n",
    "from sklearn.linear_model import LinearRegression\n",
    "from sklearn.metrics import silhouette_samples, silhouette_score, confusion_matrix, classification_report\n",
    "from sklearn.ensemble import RandomForestClassifier\n",
    "from sklearn.linear_model import LogisticRegression\n",
    "from sklearn import feature_selection\n",
    "from sklearn.model_selection import GridSearchCV\n",
    "\n",
    "from sklearn.tree import DecisionTreeClassifier\n",
    "from sklearn.metrics import accuracy_score\n",
    "from sklearn import tree\n",
    "\n",
    "# For producing decision tree diagrams.\n",
    "from IPython.core.display import Image, display\n",
    "from sklearn.externals.six import StringIO\n",
    "import pydot\n",
    "import graphviz\n",
    "\n",
    "import warnings\n",
    "warnings.filterwarnings('ignore')\n",
    "warnings.filterwarnings(\"ignore\", category=DeprecationWarning) "
   ]
  },
  {
   "cell_type": "markdown",
   "metadata": {},
   "source": [
    "## VERSION # 1"
   ]
  },
  {
   "cell_type": "markdown",
   "metadata": {},
   "source": [
    "## 1a: Data Loading"
   ]
  },
  {
   "cell_type": "code",
   "execution_count": null,
   "metadata": {},
   "outputs": [],
   "source": [
    "df_kiva_loans = pd.read_csv(\"kiva_loans.csv\")\n",
    "df_kiva_loans.head()"
   ]
  },
  {
   "cell_type": "markdown",
   "metadata": {},
   "source": [
    "## 1b: EDA"
   ]
  },
  {
   "cell_type": "code",
   "execution_count": null,
   "metadata": {},
   "outputs": [],
   "source": [
    "# Identify rows with no funding (Funding amount = 0)\n",
    "df_nofund = df_kiva_loans[(df_kiva_loans['funded_amount']==0)]\n",
    "df_nofund.shape"
   ]
  },
  {
   "cell_type": "markdown",
   "metadata": {},
   "source": [
    "\n",
    " **There are about 3383 rows with funded amount = 0**  "
   ]
  },
  {
   "cell_type": "markdown",
   "metadata": {},
   "source": [
    "** MORE OBSERVATIONS **"
   ]
  },
  {
   "cell_type": "markdown",
   "metadata": {},
   "source": [
    "- Philippines, Kenya and El Salvador are the top 3 countries featuring in Loans dataset based on the number of records  \n",
    "- United States, Kenya and Pakistan are the countries top countries with loan amount not funded\n",
    "- Agriculture, Food and Retail are the top 3 sectors based on Loan Amount\n",
    "- Farming is the top activity based on Loan Amount, followed by General Store and Personal Housing Expenses\n",
    "- There are more Female borrowers than male\n",
    "\n",
    "NOTE: The EDA charts related to these observations have not been included since focus of this project is on the models. "
   ]
  },
  {
   "cell_type": "code",
   "execution_count": null,
   "metadata": {},
   "outputs": [],
   "source": [
    "countries_funded_amount = df_kiva_loans.groupby('country').mean()['funded_amount'].sort_values(ascending = False)\n",
    "print(\"Top Countries with funded amount (Mean values)\\n\",countries_funded_amount.head(10))\n",
    "data = [dict(\n",
    "        type='choropleth',\n",
    "        locations= countries_funded_amount.index,\n",
    "        locationmode='country names',\n",
    "        z=countries_funded_amount.values,\n",
    "        text=countries_funded_amount.index,\n",
    "        colorscale='Red',\n",
    "        marker=dict(line=dict(width=0.7)),\n",
    "        colorbar=dict(autotick=False, tickprefix='', title='Top Countries with funded_amount(Mean value)'),\n",
    ")]\n",
    "layout = dict(title = 'Countries based on Funded amount',\n",
    "             geo = dict(\n",
    "            showframe = False,\n",
    "            #showcoastlines = False,\n",
    "            projection = dict(\n",
    "                type = 'Mercatorodes'\n",
    "            )\n",
    "        ),)\n",
    "fig = dict(data=data, layout=layout)\n",
    "py.iplot(fig, validate=False)"
   ]
  },
  {
   "cell_type": "code",
   "execution_count": null,
   "metadata": {},
   "outputs": [],
   "source": [
    "# Determine Time Taken for Funding. It is Loan Posted Time - Funded Time\n",
    "\n",
    "df_funded = df_kiva_loans[(df_kiva_loans['funded_amount']!=0)]\n",
    "df_funded.dropna()\n",
    "df_funded.shape\n",
    "\n",
    "df_funded['funded_time'] = pd.to_datetime(df_funded['funded_time'])\n",
    "df_funded['posted_time'] = pd.to_datetime(df_funded['posted_time'])    \n",
    "time_to_fund = (df_funded.funded_time - df_funded.posted_time)\n",
    "time_to_fund_in_days = (time_to_fund.astype('timedelta64[s]')/(3600 * 24))\n",
    "df_funded = df_funded.assign(time_to_fund=time_to_fund)\n",
    "df_funded = df_funded.assign(time_to_fund_in_days=time_to_fund_in_days)\n",
    "\n",
    "funded_time = df_funded.groupby('country').mean()['time_to_fund_in_days'].sort_values(ascending = False)\n",
    "print(\"Top Countries with max funded_time(Mean values)\\n\",funded_time.head(10))\n",
    "data = [dict(\n",
    "        type='choropleth',\n",
    "        locations= funded_time.index,\n",
    "        locationmode='country names',\n",
    "        z=funded_time.values,\n",
    "        text=funded_time.index,\n",
    "        colorscale='Red',\n",
    "        marker=dict(line=dict(width=0.7)),\n",
    "        colorbar=dict(autotick=False, tickprefix='', title='Countries based on Funded Time'),\n",
    ")]\n",
    "layout = dict(title = 'Top Countries - Funded Time',\n",
    "             geo = dict(\n",
    "            showframe = False,\n",
    "            #showcoastlines = False,\n",
    "            projection = dict(\n",
    "                type = 'Mercatorodes'\n",
    "            )\n",
    "        ),)\n",
    "fig = dict(data=data, layout=layout)\n",
    "py.iplot(fig, validate=False)"
   ]
  },
  {
   "cell_type": "markdown",
   "metadata": {
    "collapsed": true
   },
   "source": [
    "## 1c: Data Pre-processing"
   ]
  },
  {
   "cell_type": "code",
   "execution_count": null,
   "metadata": {},
   "outputs": [],
   "source": [
    "use_col = ['funded_amount', 'loan_amount', 'sector', 'country', 'term_in_months', 'borrower_genders', 'repayment_interval']\n",
    "df_loans = df_kiva_loans[use_col].copy()\n",
    "df_loans.head()"
   ]
  },
  {
   "cell_type": "code",
   "execution_count": null,
   "metadata": {},
   "outputs": [],
   "source": [
    "df_loans.isnull().sum()"
   ]
  },
  {
   "cell_type": "code",
   "execution_count": null,
   "metadata": {},
   "outputs": [],
   "source": [
    "df_loans.dropna(inplace=True)"
   ]
  },
  {
   "cell_type": "code",
   "execution_count": null,
   "metadata": {},
   "outputs": [],
   "source": [
    "df_loans.shape"
   ]
  },
  {
   "cell_type": "code",
   "execution_count": null,
   "metadata": {},
   "outputs": [],
   "source": [
    "df_loans['percent_female'] = df_loans['borrower_genders'].apply(lambda x: np.mean(np.array(x.split(',')) == 'female'))\n",
    "df_loans['applicants'] = df_loans['borrower_genders'].apply(lambda x: len(x.split(',')))\n",
    "df_loans.drop('borrower_genders', axis=1, inplace=True)"
   ]
  },
  {
   "cell_type": "code",
   "execution_count": null,
   "metadata": {},
   "outputs": [],
   "source": [
    "df_loans.head()"
   ]
  },
  {
   "cell_type": "code",
   "execution_count": null,
   "metadata": {},
   "outputs": [],
   "source": [
    "df_loans['granted'] = 1*(df_loans['loan_amount'] == df_loans['funded_amount'])\n",
    "df_loans.drop('funded_amount', axis=1, inplace=True)"
   ]
  },
  {
   "cell_type": "code",
   "execution_count": null,
   "metadata": {},
   "outputs": [],
   "source": [
    "df_loans['granted'].value_counts()"
   ]
  },
  {
   "cell_type": "markdown",
   "metadata": {},
   "source": [
    "** OBSERVATION: There are 47648 that are not fully funded. **"
   ]
  },
  {
   "cell_type": "code",
   "execution_count": null,
   "metadata": {},
   "outputs": [],
   "source": [
    "df_loans = pd.concat((df_loans,pd.get_dummies(df_loans[['sector', 'country', 'repayment_interval']], drop_first=True)), axis=1)\n",
    "df_loans.drop(['sector', 'country', 'repayment_interval'], axis=1, inplace=True)\n",
    "df_loans.shape\n",
    "df_loans.head()\n",
    "\n",
    "df_loans1 = df_loans.copy()\n",
    "features = df_loans.drop('granted', axis=1).columns"
   ]
  },
  {
   "cell_type": "code",
   "execution_count": null,
   "metadata": {},
   "outputs": [],
   "source": [
    "X = df_loans.drop('granted', axis=1).values\n",
    "y = df_loans['granted'].values\n",
    "print(X.shape)\n",
    "print(y.shape)\n"
   ]
  },
  {
   "cell_type": "code",
   "execution_count": null,
   "metadata": {},
   "outputs": [],
   "source": [
    "X_train, X_test, y_train, y_test = train_test_split(X, y, test_size=0.33, random_state=42)"
   ]
  },
  {
   "cell_type": "markdown",
   "metadata": {},
   "source": [
    "## 1d: Model Building"
   ]
  },
  {
   "cell_type": "markdown",
   "metadata": {},
   "source": [
    "### 1. Random Forest"
   ]
  },
  {
   "cell_type": "code",
   "execution_count": null,
   "metadata": {},
   "outputs": [],
   "source": [
    "rfc = RandomForestClassifier(n_estimators=50)\n",
    "rfc.fit(X_train, y_train)\n",
    "score = rfc.score(X_test, y_test)\n",
    "print(\"Score from Random Forest is %.2f%%\" %(score*100))\n",
    "y_pred = rfc.predict(X_test)\n",
    "tn, fp, fn, tp = confusion_matrix(y_test, y_pred, labels=[0,1]).ravel()\n",
    "print ('True Positive=', tp)\n",
    "print ('False Positive=', fp)\n",
    "print ('True Negative=', tn)\n",
    "print ('False Negative=', fn)"
   ]
  },
  {
   "cell_type": "code",
   "execution_count": null,
   "metadata": {},
   "outputs": [],
   "source": [
    "print(classification_report(y_test, y_pred))"
   ]
  },
  {
   "cell_type": "markdown",
   "metadata": {},
   "source": [
    "** OBSERVATION: Even though Random Forest model gave an accuracy score of 92.6%, it did bad on predicting class 0 (only 33% score on predicting loans that are not fully funded). There are close to 12K False Positives and 4K False Negatives. Also notice, the data between class 0 and 1 is uneven/imbalanced.**"
   ]
  },
  {
   "cell_type": "markdown",
   "metadata": {},
   "source": [
    "### Feature Importance from Random Forest"
   ]
  },
  {
   "cell_type": "code",
   "execution_count": null,
   "metadata": {},
   "outputs": [],
   "source": [
    "importances = pd.DataFrame({\"Feature\": features, 'Score': rfc.feature_importances_})\n",
    "importances = importances.sort_values(by='Score', ascending=False).head(10)"
   ]
  },
  {
   "cell_type": "code",
   "execution_count": null,
   "metadata": {},
   "outputs": [],
   "source": [
    "plt.figure(figsize=(8,8))\n",
    "plt.barh(range(10), importances['Score'])\n",
    "a = plt.yticks(range(10), importances['Feature'])"
   ]
  },
  {
   "cell_type": "markdown",
   "metadata": {},
   "source": [
    "### 2. Decision Tree"
   ]
  },
  {
   "cell_type": "code",
   "execution_count": null,
   "metadata": {},
   "outputs": [],
   "source": [
    "clf = DecisionTreeClassifier(criterion = \"entropy\", random_state = 100,\n",
    "                               max_depth=3, min_samples_leaf=5, min_samples_split=10)\n",
    "clf.fit(X_train, y_train)\n",
    "print ('Accuracy:', clf.score(X_test, y_test))\n",
    "\n",
    "y_pred = clf.predict(X_test)\n",
    "\n",
    "print(classification_report(y_test, y_pred))\n"
   ]
  },
  {
   "cell_type": "code",
   "execution_count": null,
   "metadata": {},
   "outputs": [],
   "source": [
    "dot_data = tree.export_graphviz(clf, out_file=None, \n",
    "                      feature_names=features,  \n",
    "                      #class_names=y_test,  \n",
    "                      filled=True, rounded=True,  \n",
    "                      special_characters=True)\n",
    "\n",
    "\n",
    "graph = graphviz.Source(dot_data)  \n",
    "graph "
   ]
  },
  {
   "cell_type": "markdown",
   "metadata": {},
   "source": [
    "** OBSERVATION: Even though Decision Tree model gave an accuracy score of 92.8%, it did worse on predicting class 0 (0% score on predicting loans that are not fully funded). **"
   ]
  },
  {
   "cell_type": "markdown",
   "metadata": {},
   "source": [
    "### 3. XGBoost"
   ]
  },
  {
   "cell_type": "code",
   "execution_count": null,
   "metadata": {},
   "outputs": [],
   "source": [
    "from xgboost import XGBClassifier\n",
    "clf_xgb = XGBClassifier()\n",
    "clf_xgb.fit(X_train, y_train)\n",
    "y_pred = clf_xgb.predict(X_test)\n",
    "print(classification_report(y_test, y_pred))\n",
    "\n",
    "print ('Accuracy:', clf_xgb.score(X_test, y_test))\n",
    "\n",
    "y_pred = clf_xgb.predict(X_test)\n",
    "tn, fp, fn, tp = confusion_matrix(y_test, y_pred, labels=[0,1]).ravel()\n",
    "print ('True Positive=', tp)\n",
    "print ('False Positive=', fp)\n",
    "print ('True Negative=', tn)\n",
    "print ('False Negative=', fn)"
   ]
  },
  {
   "cell_type": "code",
   "execution_count": null,
   "metadata": {},
   "outputs": [],
   "source": [
    "imp = pd.DataFrame({\"Feature\": features, \"Score\": clf_xgb.feature_importances_ })\n",
    "imp = imp.sort_values(by = 'Score', ascending = False).head(10)\n",
    "plt.figure(figsize= (8,8))\n",
    "plt.barh(range(10),imp[\"Score\"])\n",
    "a = plt.yticks(range(10), importances[\"Feature\"])"
   ]
  },
  {
   "cell_type": "markdown",
   "metadata": {},
   "source": [
    "** OBSERVATION: XGBoost scored only 8% on Class 0 (loans that are not fully funded) while Class 1 (fully funded) was predicted at 96%. **"
   ]
  },
  {
   "cell_type": "markdown",
   "metadata": {},
   "source": [
    "### 4. Logistic Regression - UNADJUSTED"
   ]
  },
  {
   "cell_type": "code",
   "execution_count": null,
   "metadata": {},
   "outputs": [],
   "source": [
    "logisticRegr = LogisticRegression()\n",
    "logisticRegr.fit(X_train, y_train)\n",
    "y_pred = logisticRegr.predict(X_test)\n",
    "score = logisticRegr.score(X_test, y_test)\n",
    "print(\"Score from Logisitic Regression is %.2f%%\" %(score*100))\n",
    "\n",
    "print(classification_report(y_test, y_pred))\n",
    "\n",
    "tn, fp, fn, tp = confusion_matrix(y_test, y_pred, labels=[0,1]).ravel()\n",
    "print ('True Positive=', tp)\n",
    "print ('False Positive=', fp)\n",
    "print ('True Negative=', tn)\n",
    "print ('False Negative=', fn)"
   ]
  },
  {
   "cell_type": "markdown",
   "metadata": {},
   "source": [
    "### 5. Logistic Regression with Balanced Class weight and Grid Search Best Parameters"
   ]
  },
  {
   "cell_type": "code",
   "execution_count": null,
   "metadata": {},
   "outputs": [],
   "source": [
    "lgr = LogisticRegression(penalty = 'l2', C=0.5)\n",
    "lgr.fit(X_train,y_train)\n",
    " \n",
    "cval = {'C': [0.0001, 0.001, 0.01, 0.1, 0.5, 1.0, 2.0, 10.0, 20.0, 30.0, 50.0, 100.0]}\n",
    "grid = GridSearchCV(estimator=lgr, param_grid=cval, cv=5,scoring='f1_weighted' )\n",
    "grid.fit(X_train, y_train)\n",
    "print('The best value for C', grid.best_params_)\n",
    "print('The best score',grid.best_score_)"
   ]
  },
  {
   "cell_type": "code",
   "execution_count": null,
   "metadata": {},
   "outputs": [],
   "source": [
    "lgr = LogisticRegression(class_weight=\"balanced\", penalty = 'l2', C=0.5)\n",
    "lgr.fit(X_train,y_train)\n",
    "predict = lgr.predict(X_test)\n",
    "score1 = lgr.score(X_test, y_test)\n",
    "print(\"Score from Logisitic Regression with balanced class is %.2f%%\" %(score1*100))\n",
    "\n",
    "print(classification_report(y_test, predict))\n",
    "\n",
    "confusion_matrix(y_test, predict)\n",
    "tn, fp, fn, tp = confusion_matrix(y_test, predict, labels=[0,1]).ravel()\n",
    "print ('Confusion Matrix after adding Class_weight')\n",
    "print ('True Positive=', tp)\n",
    "print ('False Positive=', fp)\n",
    "print ('True Negative=', tn)\n",
    "print ('False Negative=', fn)"
   ]
  },
  {
   "cell_type": "markdown",
   "metadata": {},
   "source": [
    "### 6. Logistic Regression after Downsampling"
   ]
  },
  {
   "cell_type": "code",
   "execution_count": null,
   "metadata": {},
   "outputs": [],
   "source": [
    "# Separate majority and minority classes\n",
    "from sklearn.utils import resample\n",
    "df_majority = df_loans1[df_loans1.granted == 1]\n",
    "df_minority = df_loans1[df_loans1.granted == 0]\n",
    "df_minority.shape\n",
    "\n",
    "# Downsample majority class\n",
    "df_majority_downsampled = resample(df_majority, \n",
    "                                 replace=False,    # sample without replacement\n",
    "                                 n_samples=47648,     # to match minority class\n",
    "                                 random_state=123) # reproducible results\n",
    "\n",
    "# Combine minority class with downsampled majority class\n",
    "df_downsampled = pd.concat([df_majority_downsampled, df_minority])\n",
    " \n",
    "# Display new class counts\n",
    "df_downsampled.granted.value_counts()"
   ]
  },
  {
   "cell_type": "code",
   "execution_count": null,
   "metadata": {},
   "outputs": [],
   "source": [
    "X_train_balanced, X_test_balanced, y_train_balanced, y_test_balanced = train_test_split(\n",
    "    df_downsampled.drop('granted', axis=1).values, df_downsampled['granted'].values, \n",
    "                 test_size=0.33, random_state=42)"
   ]
  },
  {
   "cell_type": "code",
   "execution_count": null,
   "metadata": {},
   "outputs": [],
   "source": [
    "# Separate input features (X) and target variable (y)\n",
    "\n",
    "# Train model\n",
    "clf_2 = LogisticRegression(class_weight=\"balanced\", penalty = 'l2', C=0.5).fit(X_train_balanced, y_train_balanced)\n",
    " \n",
    "# Predict \n",
    "y_pred = clf_2.predict(X_test_balanced)\n",
    "\n",
    "score1 = lgr.score(X_test_balanced, y_test_balanced)\n",
    "print(\"Score from Logisitic Regression with balanced class is %.2f%%\" %(score1*100))\n",
    "\n",
    "# accuracy\n",
    "print(classification_report(y_test_balanced, y_pred))\n",
    "\n",
    "tn, fp, fn, tp = confusion_matrix(y_test_balanced, y_pred, labels=[0,1]).ravel()\n",
    "print ('Confusion Matrix after adding Class_weight')\n",
    "print ('True Positive=', tp)\n",
    "print ('False Positive=', fp)\n",
    "print ('True Negative=', tn)\n",
    "print ('False Negative=', fn)"
   ]
  },
  {
   "cell_type": "markdown",
   "metadata": {},
   "source": [
    "** OBSERVATION: After downsampling, Logistic Regression gave more balanced results with class 0(non funded) score increase from 7% to 75%. However, Class 1 scoring decreased due to the decrease in sample data. Overall, downsampling gave the best results for Logistic Regression **"
   ]
  },
  {
   "cell_type": "markdown",
   "metadata": {},
   "source": [
    "### 7. Revisit Random Forest with balanced data"
   ]
  },
  {
   "cell_type": "code",
   "execution_count": null,
   "metadata": {},
   "outputs": [],
   "source": [
    "rfc = RandomForestClassifier(n_estimators=50)\n",
    "rfc.fit(X_train_balanced, y_train_balanced)\n",
    "y_pred = rfc.predict(X_test_balanced)\n",
    "\n",
    "score1 = rfc.score(X_test_balanced, y_test_balanced)\n",
    "print(\"Score from Logisitic Regression with balanced class is %.2f%%\" %(score1*100))\n",
    "\n",
    "print(classification_report(y_test_balanced, y_pred))\n",
    "\n",
    "tn, fp, fn, tp = confusion_matrix(y_test_balanced, y_pred, labels=[0,1]).ravel()\n",
    "print ('Confusion Matrix after adding Class_weight')\n",
    "print ('True Positive=', tp)\n",
    "print ('False Positive=', fp)\n",
    "print ('True Negative=', tn)\n",
    "print ('False Negative=', fn)"
   ]
  },
  {
   "cell_type": "markdown",
   "metadata": {},
   "source": [
    "** OBSERVATION: After downsampling, Random Forest gave more balanced results with class 0(non funded) score increase from 32% to 80%. However, Class 1 scoring decreased due to the decrease in sample data. Overall, Random Forest after downsampling did better than ANY other model above.**"
   ]
  },
  {
   "cell_type": "markdown",
   "metadata": {},
   "source": [
    "### Feature Importance based on SelectKBest"
   ]
  },
  {
   "cell_type": "code",
   "execution_count": null,
   "metadata": {},
   "outputs": [],
   "source": [
    "from sklearn.feature_selection import SelectKBest\n",
    "from sklearn.feature_selection import chi2\n",
    "\n",
    "# feature extraction\n",
    "test = SelectKBest(score_func=chi2, k=10)\n",
    "fit = test.fit(X_train, y_train)\n",
    "# summarize scores\n",
    "np.set_printoptions(precision=3)\n",
    "\n",
    "sorted_features = features[fit.scores_.argsort()]\n",
    "for i, x in enumerate(features[fit.scores_.argsort()].tolist()[::-1][:10]):\n",
    "    print(x)"
   ]
  },
  {
   "cell_type": "markdown",
   "metadata": {},
   "source": [
    "### 8. Unsupervised Learning"
   ]
  },
  {
   "cell_type": "code",
   "execution_count": null,
   "metadata": {},
   "outputs": [],
   "source": [
    "pca = PCA(n_components=10)\n",
    "train_data_comp = pca.fit_transform(X_train)\n",
    "\n",
    "test_data_comp = pca.transform(X_test)\n",
    "\n",
    "km = KMeans(n_clusters=2, init='k-means++')\n",
    "clstrs = km.fit(train_data_comp)\n",
    "\n",
    "plt.scatter(train_data_comp[:,0], train_data_comp[:,1], c=clstrs.labels_)\n",
    "plt.plot(clstrs.cluster_centers_[:,0], clstrs.cluster_centers_[:,1], 'ro')  \n",
    "plt.show() \n"
   ]
  },
  {
   "cell_type": "code",
   "execution_count": null,
   "metadata": {},
   "outputs": [],
   "source": [
    "clf_pos = GMM(n_components=2, covariance_type='full')\n",
    "clf_pos.fit(train_data_comp[y_train == 1, :])\n",
    "\n",
    "clf_neg = GMM(n_components=2, covariance_type='full')\n",
    "clf_neg.fit(train_data_comp[y_train == 0, :])\n",
    "\n",
    "prob_pos = clf_pos.score_samples(test_data_comp)\n",
    "prob_neg = clf_neg.score_samples(test_data_comp)\n",
    "    \n",
    "test_class1 = (prob_pos> prob_neg).astype(int)\n",
    "\n",
    "print (\"GMM Accuracy = %.2f%% percent\" %(np.mean(test_class1 == y_test)*100))\n",
    "print(classification_report(y_test, test_class1))"
   ]
  },
  {
   "cell_type": "code",
   "execution_count": null,
   "metadata": {},
   "outputs": [],
   "source": [
    "pca = PCA(n_components=10)\n",
    "train_data_comp = pca.fit_transform(X_train_balanced)\n",
    "test_data_comp = pca.transform(X_test_balanced)\n",
    "\n",
    "clf_pos = GMM(n_components=2, covariance_type='full')\n",
    "clf_pos.fit(train_data_comp[y_train_balanced == 1, :])\n",
    "\n",
    "clf_neg = GMM(n_components=2, covariance_type='full')\n",
    "clf_neg.fit(train_data_comp[y_train_balanced == 0, :])\n",
    "\n",
    "prob_pos = clf_pos.score_samples(test_data_comp)\n",
    "prob_neg = clf_neg.score_samples(test_data_comp)\n",
    "    \n",
    "test_class1 = (prob_pos> prob_neg).astype(int)\n",
    "\n",
    "print (\"GMM Accuracy = %.2f%% percent\" %(np.mean(test_class1 == y_test_balanced)*100))\n",
    "print(classification_report(y_test_balanced, test_class1))"
   ]
  },
  {
   "cell_type": "markdown",
   "metadata": {},
   "source": [
    "** OBSERVATION: GMM did a lot better after downsampling (Class 0 score increased from 23% to 72%). However, this is still lower than Supervised Learning prediction.**"
   ]
  },
  {
   "cell_type": "markdown",
   "metadata": {},
   "source": [
    "## Summary"
   ]
  },
  {
   "cell_type": "markdown",
   "metadata": {},
   "source": [
    "| Model                                 | Overall Accuracy | 0 score | 1 score | False Positive | False Negative |\n",
    "|---------------------------------------|------------------|---------|---------|----------------|----------------|\n",
    "| Random Forest                         |       92.6%      |   32%   |   96%   |      11941     |      4334      |\n",
    "| Decision Tree                         |       92.8%      |    0%   |   96%   |                |                |\n",
    "| XG Boost                              |       93.1%      |    8%   |   96%   |      15124     |       675      |\n",
    "| Logistic Reg - Unadj                  |       92.8%      |    7%   |   96%   |      15245     |       663      |\n",
    "| Logistic Reg after Parameter tuning   |       72.6%      |   28%   |   83%   |      3820      |      56560     |\n",
    "| Logistic Reg after Downsampling       |      74.69%      |   75%   |   74%   |      3674      |      4422      |\n",
    "| Random Forest after Downsampling      |      79.97%      |   81%   |   79%   |      2599      |      3745      |\n",
    "| Unsupervised -   GMM                  |       65.4%      |   23%   |   78%   |                |                |\n",
    "| Unsupervised - GMM after Downsampling |      70.47%      |   72%   |   69%   |                |                |"
   ]
  },
  {
   "cell_type": "markdown",
   "metadata": {},
   "source": [
    "## Version 2"
   ]
  },
  {
   "cell_type": "markdown",
   "metadata": {},
   "source": [
    "Most EDA is not shown below but is contained in separate notebook."
   ]
  },
  {
   "cell_type": "code",
   "execution_count": 3,
   "metadata": {},
   "outputs": [],
   "source": [
    "import pandas as pd\n",
    "import numpy as np\n",
    "from sklearn import preprocessing\n",
    "import matplotlib.pyplot as plt \n",
    "plt.rc(\"font\", size=14)\n",
    "from sklearn.linear_model import LogisticRegression\n",
    "from sklearn.model_selection import train_test_split\n",
    "from sklearn import metrics"
   ]
  },
  {
   "cell_type": "code",
   "execution_count": 7,
   "metadata": {},
   "outputs": [],
   "source": [
    "kiva_loans = pd.read_csv('kiva_loans.csv')"
   ]
  },
  {
   "cell_type": "code",
   "execution_count": 9,
   "metadata": {},
   "outputs": [
    {
     "data": {
      "text/html": [
       "<div>\n",
       "<style scoped>\n",
       "    .dataframe tbody tr th:only-of-type {\n",
       "        vertical-align: middle;\n",
       "    }\n",
       "\n",
       "    .dataframe tbody tr th {\n",
       "        vertical-align: top;\n",
       "    }\n",
       "\n",
       "    .dataframe thead th {\n",
       "        text-align: right;\n",
       "    }\n",
       "</style>\n",
       "<table border=\"1\" class=\"dataframe\">\n",
       "  <thead>\n",
       "    <tr style=\"text-align: right;\">\n",
       "      <th></th>\n",
       "      <th>id</th>\n",
       "      <th>funded_amount</th>\n",
       "      <th>loan_amount</th>\n",
       "      <th>activity</th>\n",
       "      <th>sector</th>\n",
       "      <th>use</th>\n",
       "      <th>country_code</th>\n",
       "      <th>country</th>\n",
       "      <th>region</th>\n",
       "      <th>currency</th>\n",
       "      <th>partner_id</th>\n",
       "      <th>posted_time</th>\n",
       "      <th>disbursed_time</th>\n",
       "      <th>funded_time</th>\n",
       "      <th>term_in_months</th>\n",
       "      <th>lender_count</th>\n",
       "      <th>tags</th>\n",
       "      <th>borrower_genders</th>\n",
       "      <th>repayment_interval</th>\n",
       "      <th>date</th>\n",
       "    </tr>\n",
       "  </thead>\n",
       "  <tbody>\n",
       "    <tr>\n",
       "      <th>0</th>\n",
       "      <td>653051</td>\n",
       "      <td>300.0</td>\n",
       "      <td>300.0</td>\n",
       "      <td>Fruits &amp; Vegetables</td>\n",
       "      <td>Food</td>\n",
       "      <td>To buy seasonal, fresh fruits to sell.</td>\n",
       "      <td>PK</td>\n",
       "      <td>Pakistan</td>\n",
       "      <td>Lahore</td>\n",
       "      <td>PKR</td>\n",
       "      <td>247.0</td>\n",
       "      <td>2014-01-01 06:12:39+00:00</td>\n",
       "      <td>2013-12-17 08:00:00+00:00</td>\n",
       "      <td>2014-01-02 10:06:32+00:00</td>\n",
       "      <td>12.0</td>\n",
       "      <td>12</td>\n",
       "      <td>NaN</td>\n",
       "      <td>female</td>\n",
       "      <td>irregular</td>\n",
       "      <td>2014-01-01</td>\n",
       "    </tr>\n",
       "    <tr>\n",
       "      <th>1</th>\n",
       "      <td>653053</td>\n",
       "      <td>575.0</td>\n",
       "      <td>575.0</td>\n",
       "      <td>Rickshaw</td>\n",
       "      <td>Transportation</td>\n",
       "      <td>to repair and maintain the auto rickshaw used ...</td>\n",
       "      <td>PK</td>\n",
       "      <td>Pakistan</td>\n",
       "      <td>Lahore</td>\n",
       "      <td>PKR</td>\n",
       "      <td>247.0</td>\n",
       "      <td>2014-01-01 06:51:08+00:00</td>\n",
       "      <td>2013-12-17 08:00:00+00:00</td>\n",
       "      <td>2014-01-02 09:17:23+00:00</td>\n",
       "      <td>11.0</td>\n",
       "      <td>14</td>\n",
       "      <td>NaN</td>\n",
       "      <td>female, female</td>\n",
       "      <td>irregular</td>\n",
       "      <td>2014-01-01</td>\n",
       "    </tr>\n",
       "    <tr>\n",
       "      <th>2</th>\n",
       "      <td>653068</td>\n",
       "      <td>150.0</td>\n",
       "      <td>150.0</td>\n",
       "      <td>Transportation</td>\n",
       "      <td>Transportation</td>\n",
       "      <td>To repair their old cycle-van and buy another ...</td>\n",
       "      <td>IN</td>\n",
       "      <td>India</td>\n",
       "      <td>Maynaguri</td>\n",
       "      <td>INR</td>\n",
       "      <td>334.0</td>\n",
       "      <td>2014-01-01 09:58:07+00:00</td>\n",
       "      <td>2013-12-17 08:00:00+00:00</td>\n",
       "      <td>2014-01-01 16:01:36+00:00</td>\n",
       "      <td>43.0</td>\n",
       "      <td>6</td>\n",
       "      <td>user_favorite, user_favorite</td>\n",
       "      <td>female</td>\n",
       "      <td>bullet</td>\n",
       "      <td>2014-01-01</td>\n",
       "    </tr>\n",
       "  </tbody>\n",
       "</table>\n",
       "</div>"
      ],
      "text/plain": [
       "       id  funded_amount  loan_amount             activity          sector  \\\n",
       "0  653051          300.0        300.0  Fruits & Vegetables            Food   \n",
       "1  653053          575.0        575.0             Rickshaw  Transportation   \n",
       "2  653068          150.0        150.0       Transportation  Transportation   \n",
       "\n",
       "                                                 use country_code   country  \\\n",
       "0            To buy seasonal, fresh fruits to sell.            PK  Pakistan   \n",
       "1  to repair and maintain the auto rickshaw used ...           PK  Pakistan   \n",
       "2  To repair their old cycle-van and buy another ...           IN     India   \n",
       "\n",
       "      region currency  partner_id                posted_time  \\\n",
       "0     Lahore      PKR       247.0  2014-01-01 06:12:39+00:00   \n",
       "1     Lahore      PKR       247.0  2014-01-01 06:51:08+00:00   \n",
       "2  Maynaguri      INR       334.0  2014-01-01 09:58:07+00:00   \n",
       "\n",
       "              disbursed_time                funded_time  term_in_months  \\\n",
       "0  2013-12-17 08:00:00+00:00  2014-01-02 10:06:32+00:00            12.0   \n",
       "1  2013-12-17 08:00:00+00:00  2014-01-02 09:17:23+00:00            11.0   \n",
       "2  2013-12-17 08:00:00+00:00  2014-01-01 16:01:36+00:00            43.0   \n",
       "\n",
       "   lender_count                          tags borrower_genders  \\\n",
       "0            12                           NaN           female   \n",
       "1            14                           NaN   female, female   \n",
       "2             6  user_favorite, user_favorite           female   \n",
       "\n",
       "  repayment_interval        date  \n",
       "0          irregular  2014-01-01  \n",
       "1          irregular  2014-01-01  \n",
       "2             bullet  2014-01-01  "
      ]
     },
     "execution_count": 9,
     "metadata": {},
     "output_type": "execute_result"
    }
   ],
   "source": [
    "kiva_loans.head(3)"
   ]
  },
  {
   "cell_type": "code",
   "execution_count": null,
   "metadata": {},
   "outputs": [],
   "source": []
  },
  {
   "cell_type": "code",
   "execution_count": 10,
   "metadata": {},
   "outputs": [],
   "source": [
    "lf = (kiva_loans.funded_amount - kiva_loans.loan_amount)\n",
    "kiva_loans['funded'] = lf"
   ]
  },
  {
   "cell_type": "code",
   "execution_count": 11,
   "metadata": {},
   "outputs": [],
   "source": [
    "#Starting binarizing process; changing any value of 0.0 to 1\n",
    "#which indicates load was fully funded\n",
    "\n",
    "mask = kiva_loans.funded == 0.0\n",
    "column_name = 'funded'\n",
    "kiva_loans.loc[mask, column_name] = 1"
   ]
  },
  {
   "cell_type": "code",
   "execution_count": 12,
   "metadata": {},
   "outputs": [],
   "source": [
    "#Changing any values that are not 1 to 0 which indicates loan not\n",
    "#fully funded\n",
    "\n",
    "alt = kiva_loans.funded != 1.0\n",
    "column_name = 'funded'\n",
    "kiva_loans.loc[alt, column_name] = 0"
   ]
  },
  {
   "cell_type": "code",
   "execution_count": 13,
   "metadata": {},
   "outputs": [],
   "source": [
    "kiva_loans = kiva_loans.dropna(axis=0, subset=['borrower_genders'])"
   ]
  },
  {
   "cell_type": "code",
   "execution_count": 14,
   "metadata": {},
   "outputs": [],
   "source": [
    "#group genders and apply dummy variables\n",
    "\n",
    "kiva_loans['gender']=[elem if elem in ['female','male'] else 'group' for elem in kiva_loans['borrower_genders']]\n",
    "dummy = pd.get_dummies(kiva_loans['gender'])\n",
    "kiva_loans = pd.concat([kiva_loans,dummy], axis =1)"
   ]
  },
  {
   "cell_type": "code",
   "execution_count": 15,
   "metadata": {},
   "outputs": [
    {
     "data": {
      "text/plain": [
       "<matplotlib.axes._subplots.AxesSubplot at 0x1a1ce1b278>"
      ]
     },
     "execution_count": 15,
     "metadata": {},
     "output_type": "execute_result"
    },
    {
     "data": {
      "image/png": "[encoded data removed]",
      "text/plain": [
       "<Figure size 432x288 with 1 Axes>"
      ]
     },
     "metadata": {},
     "output_type": "display_data"
    }
   ],
   "source": [
    "#Plotting percentage of non-funded loans by country; Guam and the Virgin\n",
    "#Islands have almost a 100% rate of non-funded loans\n",
    "\n",
    "A = (kiva_loans[kiva_loans['funded']==0]['country'].value_counts()/kiva_loans['country'].value_counts() * 100).sort_values(ascending=False)\n",
    "A[0:20].sort_values().plot(kind='barh', title='Top 20 Countries with Non-Funded Loans')"
   ]
  },
  {
   "cell_type": "code",
   "execution_count": 17,
   "metadata": {},
   "outputs": [
    {
     "data": {
      "text/plain": [
       "<matplotlib.axes._subplots.AxesSubplot at 0x1a4bb4e860>"
      ]
     },
     "execution_count": 17,
     "metadata": {},
     "output_type": "execute_result"
    },
    {
     "data": {
      "image/png": "[encoded data removed]",
      "text/plain": [
       "<Figure size 432x288 with 1 Axes>"
      ]
     },
     "metadata": {},
     "output_type": "display_data"
    }
   ],
   "source": [
    "#plotting above data and only showing top 20 activities not funded\n",
    "\n",
    "B = (kiva_loans[kiva_loans['funded']==0]['activity'].value_counts()/kiva_loans['activity'].value_counts() * 100).sort_values(ascending = False)\n",
    "B[0:20].sort_values().plot(kind='barh', title='Top 20 Non-funded Activities')"
   ]
  },
  {
   "cell_type": "code",
   "execution_count": 18,
   "metadata": {},
   "outputs": [],
   "source": [
    "#Create two dataframes: one for funded loans and one for non-funded loans\n",
    "\n",
    "df_funded = kiva_loans[kiva_loans['funded'] == 1]\n",
    "df_notfunded = kiva_loans[kiva_loans['funded'] == 0]"
   ]
  },
  {
   "cell_type": "code",
   "execution_count": 19,
   "metadata": {},
   "outputs": [
    {
     "data": {
      "text/plain": [
       "(50000, 25)"
      ]
     },
     "execution_count": 19,
     "metadata": {},
     "output_type": "execute_result"
    }
   ],
   "source": [
    "#Create funded dataframe with size of 50000 to be comparable to non-funded\n",
    "#dataframe size; cap df size at 50,000 and choose every 3rd value\n",
    "\n",
    "df_funded_s = df_funded.sample(n=50000, random_state=3)\n",
    "df_funded_s.shape"
   ]
  },
  {
   "cell_type": "code",
   "execution_count": 20,
   "metadata": {},
   "outputs": [
    {
     "data": {
      "text/plain": [
       "(97648, 25)"
      ]
     },
     "execution_count": 20,
     "metadata": {},
     "output_type": "execute_result"
    }
   ],
   "source": [
    "#Merge funded sample size dataframe with non-funded dataframe for \n",
    "#prediction down below\n",
    "\n",
    "df_final_s = pd.concat([df_funded_s, df_notfunded], ignore_index=True)\n",
    "df_final_s.shape"
   ]
  },
  {
   "cell_type": "markdown",
   "metadata": {},
   "source": [
    "Based on extensive EDA, the following variables appeared to influence\n",
    "whether or not a loan was funded:\n",
    "\n",
    "- Country\n",
    "- Lender Count\n",
    "- Repayment Interval\n",
    "- Loan Term (in months)\n",
    "- Activity\n",
    "- Amount of Loan Request\n",
    "- Borrower Gender\n",
    "- Repayment Time"
   ]
  },
  {
   "cell_type": "markdown",
   "metadata": {},
   "source": [
    "Initially I tried to dummy the relevant features and run Recursive Feature Elimination and reduce 850+ independent variables to top 50. This was too much for RFE. I also tried to run SMOTE on 850+ 'dummied' variables but SMOTE kept timing out."
   ]
  },
  {
   "cell_type": "code",
   "execution_count": 21,
   "metadata": {},
   "outputs": [
    {
     "data": {
      "text/html": [
       "<div>\n",
       "<style scoped>\n",
       "    .dataframe tbody tr th:only-of-type {\n",
       "        vertical-align: middle;\n",
       "    }\n",
       "\n",
       "    .dataframe tbody tr th {\n",
       "        vertical-align: top;\n",
       "    }\n",
       "\n",
       "    .dataframe thead th {\n",
       "        text-align: right;\n",
       "    }\n",
       "</style>\n",
       "<table border=\"1\" class=\"dataframe\">\n",
       "  <thead>\n",
       "    <tr style=\"text-align: right;\">\n",
       "      <th></th>\n",
       "      <th>funded_amount</th>\n",
       "      <th>funded</th>\n",
       "    </tr>\n",
       "  </thead>\n",
       "  <tbody>\n",
       "    <tr>\n",
       "      <th>0</th>\n",
       "      <td>1450.0</td>\n",
       "      <td>1.0</td>\n",
       "    </tr>\n",
       "    <tr>\n",
       "      <th>1</th>\n",
       "      <td>850.0</td>\n",
       "      <td>1.0</td>\n",
       "    </tr>\n",
       "    <tr>\n",
       "      <th>2</th>\n",
       "      <td>925.0</td>\n",
       "      <td>1.0</td>\n",
       "    </tr>\n",
       "    <tr>\n",
       "      <th>3</th>\n",
       "      <td>450.0</td>\n",
       "      <td>1.0</td>\n",
       "    </tr>\n",
       "    <tr>\n",
       "      <th>4</th>\n",
       "      <td>350.0</td>\n",
       "      <td>1.0</td>\n",
       "    </tr>\n",
       "  </tbody>\n",
       "</table>\n",
       "</div>"
      ],
      "text/plain": [
       "   funded_amount  funded\n",
       "0         1450.0     1.0\n",
       "1          850.0     1.0\n",
       "2          925.0     1.0\n",
       "3          450.0     1.0\n",
       "4          350.0     1.0"
      ]
     },
     "execution_count": 21,
     "metadata": {},
     "output_type": "execute_result"
    }
   ],
   "source": [
    "#first prediction uses 'funded_amount' as independent variable; for this\n",
    "#first pass, I am not going to make dummy vars with the funded amount\n",
    "\n",
    "set1 = df_final_s[['funded_amount', 'funded']]\n",
    "set1.head()"
   ]
  },
  {
   "cell_type": "code",
   "execution_count": 22,
   "metadata": {},
   "outputs": [
    {
     "name": "stdout",
     "output_type": "stream",
     "text": [
      "(97648, 1)\n",
      "(97648,)\n"
     ]
    }
   ],
   "source": [
    "X = set1.iloc[:, :-1]\n",
    "y = set1.iloc[:, -1]\n",
    "print(X.shape)\n",
    "print(y.shape)"
   ]
  },
  {
   "cell_type": "code",
   "execution_count": 23,
   "metadata": {},
   "outputs": [
    {
     "name": "stdout",
     "output_type": "stream",
     "text": [
      "Accuracy of logistic regression classifier on test set:0.52\n"
     ]
    },
    {
     "name": "stderr",
     "output_type": "stream",
     "text": [
      "/anaconda3/lib/python3.6/site-packages/sklearn/linear_model/logistic.py:433: FutureWarning: Default solver will be changed to 'lbfgs' in 0.22. Specify a solver to silence this warning.\n",
      "  FutureWarning)\n"
     ]
    }
   ],
   "source": [
    "#split data into train and test; allocate 30% to test data\n",
    "\n",
    "#at .52, the accuracy is not very good\n",
    "\n",
    "X_train, X_test, y_train, y_test = train_test_split(X, y, test_size=0.3, random_state=0)\n",
    "logreg = LogisticRegression()\n",
    "logreg.fit(X_train, y_train)\n",
    "\n",
    "y_pred = logreg.predict(X_test)\n",
    "print('Accuracy of logistic regression classifier on test set:{:.2f}'.\n",
    "      format(logreg.score(X_test, y_test)))"
   ]
  },
  {
   "cell_type": "code",
   "execution_count": 24,
   "metadata": {},
   "outputs": [
    {
     "name": "stdout",
     "output_type": "stream",
     "text": [
      "[[7808 6509]\n",
      " [7619 7359]]\n"
     ]
    }
   ],
   "source": [
    "from sklearn.metrics import confusion_matrix\n",
    "confusion_matrix = confusion_matrix(y_test, y_pred)\n",
    "print(confusion_matrix)"
   ]
  },
  {
   "cell_type": "code",
   "execution_count": 25,
   "metadata": {},
   "outputs": [
    {
     "name": "stdout",
     "output_type": "stream",
     "text": [
      "              precision    recall  f1-score   support\n",
      "\n",
      "         0.0       0.51      0.55      0.53     14317\n",
      "         1.0       0.53      0.49      0.51     14978\n",
      "\n",
      "   micro avg       0.52      0.52      0.52     29295\n",
      "   macro avg       0.52      0.52      0.52     29295\n",
      "weighted avg       0.52      0.52      0.52     29295\n",
      "\n"
     ]
    }
   ],
   "source": [
    "from sklearn.metrics import classification_report\n",
    "print(classification_report(y_test, y_pred))"
   ]
  },
  {
   "cell_type": "markdown",
   "metadata": {},
   "source": [
    "Now create dummies with funded_amount var and see if this improves accuracy."
   ]
  },
  {
   "cell_type": "code",
   "execution_count": 28,
   "metadata": {},
   "outputs": [
    {
     "data": {
      "text/html": [
       "<div>\n",
       "<style scoped>\n",
       "    .dataframe tbody tr th:only-of-type {\n",
       "        vertical-align: middle;\n",
       "    }\n",
       "\n",
       "    .dataframe tbody tr th {\n",
       "        vertical-align: top;\n",
       "    }\n",
       "\n",
       "    .dataframe thead th {\n",
       "        text-align: right;\n",
       "    }\n",
       "</style>\n",
       "<table border=\"1\" class=\"dataframe\">\n",
       "  <thead>\n",
       "    <tr style=\"text-align: right;\">\n",
       "      <th></th>\n",
       "      <th>funded</th>\n",
       "      <th>funded_amount_0.0</th>\n",
       "      <th>funded_amount_5.0</th>\n",
       "      <th>funded_amount_10.0</th>\n",
       "      <th>funded_amount_15.0</th>\n",
       "      <th>funded_amount_20.0</th>\n",
       "      <th>funded_amount_25.0</th>\n",
       "      <th>funded_amount_30.0</th>\n",
       "      <th>funded_amount_35.0</th>\n",
       "      <th>funded_amount_40.0</th>\n",
       "      <th>...</th>\n",
       "      <th>funded_amount_16350.0</th>\n",
       "      <th>funded_amount_17050.0</th>\n",
       "      <th>funded_amount_18050.0</th>\n",
       "      <th>funded_amount_18325.0</th>\n",
       "      <th>funded_amount_20000.0</th>\n",
       "      <th>funded_amount_22500.0</th>\n",
       "      <th>funded_amount_30000.0</th>\n",
       "      <th>funded_amount_40000.0</th>\n",
       "      <th>funded_amount_46125.0</th>\n",
       "      <th>funded_amount_50000.0</th>\n",
       "    </tr>\n",
       "  </thead>\n",
       "  <tbody>\n",
       "    <tr>\n",
       "      <th>0</th>\n",
       "      <td>1.0</td>\n",
       "      <td>0</td>\n",
       "      <td>0</td>\n",
       "      <td>0</td>\n",
       "      <td>0</td>\n",
       "      <td>0</td>\n",
       "      <td>0</td>\n",
       "      <td>0</td>\n",
       "      <td>0</td>\n",
       "      <td>0</td>\n",
       "      <td>...</td>\n",
       "      <td>0</td>\n",
       "      <td>0</td>\n",
       "      <td>0</td>\n",
       "      <td>0</td>\n",
       "      <td>0</td>\n",
       "      <td>0</td>\n",
       "      <td>0</td>\n",
       "      <td>0</td>\n",
       "      <td>0</td>\n",
       "      <td>0</td>\n",
       "    </tr>\n",
       "  </tbody>\n",
       "</table>\n",
       "<p>1 rows × 498 columns</p>\n",
       "</div>"
      ],
      "text/plain": [
       "   funded  funded_amount_0.0  funded_amount_5.0  funded_amount_10.0  \\\n",
       "0     1.0                  0                  0                   0   \n",
       "\n",
       "   funded_amount_15.0  funded_amount_20.0  funded_amount_25.0  \\\n",
       "0                   0                   0                   0   \n",
       "\n",
       "   funded_amount_30.0  funded_amount_35.0  funded_amount_40.0  \\\n",
       "0                   0                   0                   0   \n",
       "\n",
       "           ...            funded_amount_16350.0  funded_amount_17050.0  \\\n",
       "0          ...                                0                      0   \n",
       "\n",
       "   funded_amount_18050.0  funded_amount_18325.0  funded_amount_20000.0  \\\n",
       "0                      0                      0                      0   \n",
       "\n",
       "   funded_amount_22500.0  funded_amount_30000.0  funded_amount_40000.0  \\\n",
       "0                      0                      0                      0   \n",
       "\n",
       "   funded_amount_46125.0  funded_amount_50000.0  \n",
       "0                      0                      0  \n",
       "\n",
       "[1 rows x 498 columns]"
      ]
     },
     "execution_count": 28,
     "metadata": {},
     "output_type": "execute_result"
    }
   ],
   "source": [
    "set1_dum = pd.get_dummies(data=set1, columns=['funded_amount'])\n",
    "set1_dum.head(1)"
   ]
  },
  {
   "cell_type": "code",
   "execution_count": 29,
   "metadata": {},
   "outputs": [
    {
     "data": {
      "text/html": [
       "<div>\n",
       "<style scoped>\n",
       "    .dataframe tbody tr th:only-of-type {\n",
       "        vertical-align: middle;\n",
       "    }\n",
       "\n",
       "    .dataframe tbody tr th {\n",
       "        vertical-align: top;\n",
       "    }\n",
       "\n",
       "    .dataframe thead th {\n",
       "        text-align: right;\n",
       "    }\n",
       "</style>\n",
       "<table border=\"1\" class=\"dataframe\">\n",
       "  <thead>\n",
       "    <tr style=\"text-align: right;\">\n",
       "      <th></th>\n",
       "      <th>funded_amount_0.0</th>\n",
       "      <th>funded_amount_5.0</th>\n",
       "      <th>funded_amount_10.0</th>\n",
       "      <th>funded_amount_15.0</th>\n",
       "      <th>funded_amount_20.0</th>\n",
       "      <th>funded_amount_25.0</th>\n",
       "      <th>funded_amount_30.0</th>\n",
       "      <th>funded_amount_35.0</th>\n",
       "      <th>funded_amount_40.0</th>\n",
       "      <th>funded_amount_45.0</th>\n",
       "      <th>...</th>\n",
       "      <th>funded_amount_17050.0</th>\n",
       "      <th>funded_amount_18050.0</th>\n",
       "      <th>funded_amount_18325.0</th>\n",
       "      <th>funded_amount_20000.0</th>\n",
       "      <th>funded_amount_22500.0</th>\n",
       "      <th>funded_amount_30000.0</th>\n",
       "      <th>funded_amount_40000.0</th>\n",
       "      <th>funded_amount_46125.0</th>\n",
       "      <th>funded_amount_50000.0</th>\n",
       "      <th>funded</th>\n",
       "    </tr>\n",
       "  </thead>\n",
       "  <tbody>\n",
       "    <tr>\n",
       "      <th>0</th>\n",
       "      <td>0</td>\n",
       "      <td>0</td>\n",
       "      <td>0</td>\n",
       "      <td>0</td>\n",
       "      <td>0</td>\n",
       "      <td>0</td>\n",
       "      <td>0</td>\n",
       "      <td>0</td>\n",
       "      <td>0</td>\n",
       "      <td>0</td>\n",
       "      <td>...</td>\n",
       "      <td>0</td>\n",
       "      <td>0</td>\n",
       "      <td>0</td>\n",
       "      <td>0</td>\n",
       "      <td>0</td>\n",
       "      <td>0</td>\n",
       "      <td>0</td>\n",
       "      <td>0</td>\n",
       "      <td>0</td>\n",
       "      <td>1.0</td>\n",
       "    </tr>\n",
       "    <tr>\n",
       "      <th>1</th>\n",
       "      <td>0</td>\n",
       "      <td>0</td>\n",
       "      <td>0</td>\n",
       "      <td>0</td>\n",
       "      <td>0</td>\n",
       "      <td>0</td>\n",
       "      <td>0</td>\n",
       "      <td>0</td>\n",
       "      <td>0</td>\n",
       "      <td>0</td>\n",
       "      <td>...</td>\n",
       "      <td>0</td>\n",
       "      <td>0</td>\n",
       "      <td>0</td>\n",
       "      <td>0</td>\n",
       "      <td>0</td>\n",
       "      <td>0</td>\n",
       "      <td>0</td>\n",
       "      <td>0</td>\n",
       "      <td>0</td>\n",
       "      <td>1.0</td>\n",
       "    </tr>\n",
       "    <tr>\n",
       "      <th>2</th>\n",
       "      <td>0</td>\n",
       "      <td>0</td>\n",
       "      <td>0</td>\n",
       "      <td>0</td>\n",
       "      <td>0</td>\n",
       "      <td>0</td>\n",
       "      <td>0</td>\n",
       "      <td>0</td>\n",
       "      <td>0</td>\n",
       "      <td>0</td>\n",
       "      <td>...</td>\n",
       "      <td>0</td>\n",
       "      <td>0</td>\n",
       "      <td>0</td>\n",
       "      <td>0</td>\n",
       "      <td>0</td>\n",
       "      <td>0</td>\n",
       "      <td>0</td>\n",
       "      <td>0</td>\n",
       "      <td>0</td>\n",
       "      <td>1.0</td>\n",
       "    </tr>\n",
       "    <tr>\n",
       "      <th>3</th>\n",
       "      <td>0</td>\n",
       "      <td>0</td>\n",
       "      <td>0</td>\n",
       "      <td>0</td>\n",
       "      <td>0</td>\n",
       "      <td>0</td>\n",
       "      <td>0</td>\n",
       "      <td>0</td>\n",
       "      <td>0</td>\n",
       "      <td>0</td>\n",
       "      <td>...</td>\n",
       "      <td>0</td>\n",
       "      <td>0</td>\n",
       "      <td>0</td>\n",
       "      <td>0</td>\n",
       "      <td>0</td>\n",
       "      <td>0</td>\n",
       "      <td>0</td>\n",
       "      <td>0</td>\n",
       "      <td>0</td>\n",
       "      <td>1.0</td>\n",
       "    </tr>\n",
       "    <tr>\n",
       "      <th>4</th>\n",
       "      <td>0</td>\n",
       "      <td>0</td>\n",
       "      <td>0</td>\n",
       "      <td>0</td>\n",
       "      <td>0</td>\n",
       "      <td>0</td>\n",
       "      <td>0</td>\n",
       "      <td>0</td>\n",
       "      <td>0</td>\n",
       "      <td>0</td>\n",
       "      <td>...</td>\n",
       "      <td>0</td>\n",
       "      <td>0</td>\n",
       "      <td>0</td>\n",
       "      <td>0</td>\n",
       "      <td>0</td>\n",
       "      <td>0</td>\n",
       "      <td>0</td>\n",
       "      <td>0</td>\n",
       "      <td>0</td>\n",
       "      <td>1.0</td>\n",
       "    </tr>\n",
       "  </tbody>\n",
       "</table>\n",
       "<p>5 rows × 498 columns</p>\n",
       "</div>"
      ],
      "text/plain": [
       "   funded_amount_0.0  funded_amount_5.0  funded_amount_10.0  \\\n",
       "0                  0                  0                   0   \n",
       "1                  0                  0                   0   \n",
       "2                  0                  0                   0   \n",
       "3                  0                  0                   0   \n",
       "4                  0                  0                   0   \n",
       "\n",
       "   funded_amount_15.0  funded_amount_20.0  funded_amount_25.0  \\\n",
       "0                   0                   0                   0   \n",
       "1                   0                   0                   0   \n",
       "2                   0                   0                   0   \n",
       "3                   0                   0                   0   \n",
       "4                   0                   0                   0   \n",
       "\n",
       "   funded_amount_30.0  funded_amount_35.0  funded_amount_40.0  \\\n",
       "0                   0                   0                   0   \n",
       "1                   0                   0                   0   \n",
       "2                   0                   0                   0   \n",
       "3                   0                   0                   0   \n",
       "4                   0                   0                   0   \n",
       "\n",
       "   funded_amount_45.0   ...    funded_amount_17050.0  funded_amount_18050.0  \\\n",
       "0                   0   ...                        0                      0   \n",
       "1                   0   ...                        0                      0   \n",
       "2                   0   ...                        0                      0   \n",
       "3                   0   ...                        0                      0   \n",
       "4                   0   ...                        0                      0   \n",
       "\n",
       "   funded_amount_18325.0  funded_amount_20000.0  funded_amount_22500.0  \\\n",
       "0                      0                      0                      0   \n",
       "1                      0                      0                      0   \n",
       "2                      0                      0                      0   \n",
       "3                      0                      0                      0   \n",
       "4                      0                      0                      0   \n",
       "\n",
       "   funded_amount_30000.0  funded_amount_40000.0  funded_amount_46125.0  \\\n",
       "0                      0                      0                      0   \n",
       "1                      0                      0                      0   \n",
       "2                      0                      0                      0   \n",
       "3                      0                      0                      0   \n",
       "4                      0                      0                      0   \n",
       "\n",
       "   funded_amount_50000.0  funded  \n",
       "0                      0     1.0  \n",
       "1                      0     1.0  \n",
       "2                      0     1.0  \n",
       "3                      0     1.0  \n",
       "4                      0     1.0  \n",
       "\n",
       "[5 rows x 498 columns]"
      ]
     },
     "execution_count": 29,
     "metadata": {},
     "output_type": "execute_result"
    }
   ],
   "source": [
    "#this moves 'funded' column to last column in dataframe\n",
    "\n",
    "cols = set1_dum.columns.tolist()\n",
    "column_to_move = 'funded'\n",
    "new_position = 498\n",
    "cols.insert(new_position, cols.pop(cols.index(column_to_move)))\n",
    "set1_final = set1_dum[cols]\n",
    "set1_final.head()"
   ]
  },
  {
   "cell_type": "code",
   "execution_count": 30,
   "metadata": {},
   "outputs": [
    {
     "name": "stderr",
     "output_type": "stream",
     "text": [
      "/anaconda3/lib/python3.6/site-packages/sklearn/linear_model/logistic.py:433: FutureWarning: Default solver will be changed to 'lbfgs' in 0.22. Specify a solver to silence this warning.\n",
      "  FutureWarning)\n"
     ]
    },
    {
     "name": "stdout",
     "output_type": "stream",
     "text": [
      "Accuracy of logistic regression classifier on test set:0.60\n",
      "\n",
      "              precision    recall  f1-score   support\n",
      "\n",
      "         0.0       0.61      0.52      0.56     14317\n",
      "         1.0       0.60      0.68      0.64     14978\n",
      "\n",
      "   micro avg       0.60      0.60      0.60     29295\n",
      "   macro avg       0.60      0.60      0.60     29295\n",
      "weighted avg       0.60      0.60      0.60     29295\n",
      "\n"
     ]
    }
   ],
   "source": [
    "X1 = set1_final.iloc[:, :-1]\n",
    "y1 = set1_final.iloc[:, -1]\n",
    "\n",
    "X1_train, X1_test, y1_train, y1_test = train_test_split(X1, y1, test_size=0.3, random_state=0)\n",
    "#logreg = LogisticRegression()\n",
    "logreg.fit(X1_train, y1_train)\n",
    "\n",
    "y_pred = logreg.predict(X1_test)\n",
    "print('Accuracy of logistic regression classifier on test set:{:.2f}'.\n",
    "      format(logreg.score(X1_test, y1_test)))\n",
    "\n",
    "print()\n",
    "\n",
    "print(classification_report(y1_test, y_pred))"
   ]
  },
  {
   "cell_type": "markdown",
   "metadata": {},
   "source": [
    "#### By binarizing the independent variable, accuracy improved from .52 to .60"
   ]
  },
  {
   "cell_type": "markdown",
   "metadata": {},
   "source": [
    "#### All models run using Logistic Regression.\n",
    "\n",
    "\n",
    "| Independent Variable                  | Overall Accuracy | 0 score | 1 score | \n",
    "|---------------------------------------|------------------|---------|---------|\n",
    "| Loan Amount (not 'dummied')           |       51.8%      |   32%   |   96%   |  \n",
    "| Loan Amount (dummy)                   |       60.3%      |    0%   |   96%   | \n",
    "| Activity (dummy)                      |       60.6%      |    8%   |   96%   | \n",
    "| Gender (dummy)                        |       63.6%      |    7%   |   96%   |  \n",
    "| Country (dummy)                       |       66.7%      |   28%   |   83%   | \n",
    "| Loan Term in Months (dummy)           |       67.9%      |   75%   |   74%   |  \n",
    "| Repayment Interval (dummy)            |       62.6%      |   81%   |   79%   |     \n",
    "| Sector (dummy)                        |       55.8%      |   23%   |   78%   |\n",
    "\n",
    "  \n",
    "  \n",
    "| Loan Term, Country                                   |      70.5%       |   72%   |   69%   |  \n",
    "| Loan Term, Country, Gender                           |      73.7%       |   72%   |   69%   |\n",
    "| Loan Term, Country, Gender, Repayment                |      73.3%       |   72%   |   69%   |\n",
    "| Loan Term, Country, Gender, Repayment, Activity      |      76.4%       |   72%   |   69%   |\n",
    "\n",
    "\n",
    "\n"
   ]
  },
  {
   "cell_type": "markdown",
   "metadata": {},
   "source": [
    "#### Combinations (all dummied)\n",
    "\n",
    "  \n",
    "| Loan Term, Country                                   |      70.5%       |   72%   |   69%   |  \n",
    "| Loan Term, Country, Gender                           |      73.7%       |   72%   |   69%   |\n",
    "| Loan Term, Country, Gender, Repayment                |      73.3%       |   72%   |   69%   |\n",
    "| Loan Term, Country, Gender, Repayment, Activity      |      76.4%       |   72%   |   69%   |"
   ]
  },
  {
   "cell_type": "markdown",
   "metadata": {},
   "source": [
    "## Version 3"
   ]
  },
  {
   "cell_type": "code",
   "execution_count": null,
   "metadata": {},
   "outputs": [],
   "source": []
  }
 ],
 "metadata": {
  "kernelspec": {
   "display_name": "Python 3",
   "language": "python",
   "name": "python3"
  },
  "language_info": {
   "codemirror_mode": {
    "name": "ipython",
    "version": 3
   },
   "file_extension": ".py",
   "mimetype": "text/x-python",
   "name": "python",
   "nbconvert_exporter": "python",
   "pygments_lexer": "ipython3",
   "version": "3.6.5"
  }
 },
 "nbformat": 4,
 "nbformat_minor": 2
}
